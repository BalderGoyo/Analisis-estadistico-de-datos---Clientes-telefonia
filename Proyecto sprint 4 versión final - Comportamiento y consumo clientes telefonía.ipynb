{
 "cells": [
  {
   "cell_type": "markdown",
   "id": "38e9494f",
   "metadata": {},
   "source": [
    "# Descripción del proyecto\n",
    "\n",
    "Trabajas como analista para el operador de telecomunicaciones Megaline. La empresa ofrece a sus clientes dos tarifas de prepago, Surf y Ultimate. El departamento comercial quiere saber cuál de los planes genera más ingresos para ajustar el presupuesto de publicidad.\n",
    "\n",
    "Vas a realizar un análisis preliminar de las tarifas basado en una selección de clientes relativamente pequeña. Tendrás los datos de 500 clientes de Megaline: quiénes son los clientes, de dónde son, qué tarifa usan y la cantidad de llamadas que hicieron y los mensajes de texto que enviaron en 2018. Tu trabajo es analizar el comportamiento de los clientes y determinar qué tarifa de prepago genera más ingresos."
   ]
  },
  {
   "cell_type": "markdown",
   "id": "3e10c862",
   "metadata": {},
   "source": [
    "# Contents <a id='back'></a>\n",
    "\n",
    "* [Descripción de las tarifas](#intro)\n",
    "* [Etapa 1. Descripción de los datos](#data_review)\n",
    "    * [Conclusions](#data_review_conclusions)\n",
    "* [Etapa 2. Data preprocessing](#data_preprocessing)\n",
    "    * [2.1 Cambiando tipos de datos](#header_style)\n",
    "    * [2.2 Duplicados](#missing_values)\n",
    "    * [2.3 Valores ausentes](#duplicates)\n",
    "* [Etapa 3. Enriqueciendo los datos](#enriqueciendo)\n",
    "    * [3.1 Agregando columnas](#columns)\n",
    "    * [3.2 Detectando errores](#errors)\n",
    "* [Etapa 4. Analizando la data](#analisis)\n",
    "    * [4.1 Agrupando información](#group)\n",
    "    * [4.2 Fusionando las tablas](#merging)\n",
    "    * [4.3 Calculando el consumo](#calculating)\n",
    "* [Etapa 5. Estudiando resultados](#results)\n",
    "    * [5.1 Simplificando la data](#simplifiying)\n",
    "    * [5.2 Valosres atípicos](#outliners)\n",
    "    * [5.3 Encontrando minutos, SMS y volumen de datos para cada tarifa por mes](#find)\n",
    "    * [5.4 Conclusiones](#conclusions)\n",
    "* [Etapa 6. Prueba de hipótesis](#hypotheses)\n",
    "* [Etapa 7. Conclusión General](#end)"
   ]
  },
  {
   "cell_type": "markdown",
   "id": "8a874ce7",
   "metadata": {},
   "source": [
    "# Descripción de las tarifas <a id='intro'></a>\n",
    "**Nota**: Megaline redondea los segundos a minutos y los megabytes a gigabytes. Para **llamadas**, cada llamada individual se redondea: incluso si la llamada duró solo un segundo, se contará como un minuto. Para **tráfico web**, las sesiones web individuales no se redondean. En vez de esto, el total del mes se redondea hacia arriba. Si alguien usa 1025 megabytes este mes, se le cobrarán 2 gigabytes.\n",
    "\n",
    "**Surf**\n",
    "1. Pago mensual: 20$\n",
    "\n",
    "2. 500 minutos al mes, 50 SMS y 15 GB de datos\n",
    "3. Si se exceden los límites del paquete:\n",
    "    - 1 minuto: 3 centavos\n",
    "    - 1 SMS: 3 centavos\n",
    "    - 1 GB de datos: 10$\n",
    "    \n",
    "**Ultimate**\n",
    "1. Pago mensual: 70$\n",
    "\n",
    "2. 3000 minutos al mes, 1000 SMS y 30 GB de datos\n",
    "3. Si se exceden los límites del paquete:\n",
    "    - 1 minuto: 1 centavo\n",
    "    - 1 SMS: 1 centavo\n",
    "    - 1 GB de datos: 7$\n",
    "    \n",
    "[Volver a Contenidos](#back)"
   ]
  },
  {
   "cell_type": "markdown",
   "id": "fdcdef3b",
   "metadata": {},
   "source": [
    "# Etapa 1. Descripción de los datos <a id='data_review'></a>\n",
    "\n",
    "La tabla `users` (datos sobre los usuarios):\n",
    "- user_id — identificador único del usuario\n",
    "- first_name — nombre del usuario\n",
    "- last_name — apellido del usuario\n",
    "- age — edad del usuario (en años)\n",
    "- reg_date — fecha de suscripción (dd, mm, aa)\n",
    "- churn_date — la fecha en que el usuario dejó de usar el servicio (si el valor es ausente, la tarifa se estaba usando cuando se recuperaron estos datos)\n",
    "- city — ciudad de residencia del usuario\n",
    "- plan — nombre de la tarifa\n",
    "\n",
    "La tabla `calls` (datos sobre las llamadas):\n",
    "- id — identificador único de la llamada\n",
    "- call_date — fecha de la llamada\n",
    "- duration — duración de la llamada (en minutos)\n",
    "- user_id — el identificador del usuario que realiza la llamada\n",
    "\n",
    "La tabla `messages` (datos sobre los SMS):\n",
    "- id — identificador único del SMS\n",
    "- message_date — fecha del SMS\n",
    "- user_id — el identificador del usuario que manda el SMS\n",
    "\n",
    "La tabla `internet` (datos sobre las sesiones web):\n",
    "- id — identificador único de la sesión\n",
    "- mb_used — el volumen de datos gastados durante la sesión (en megabytes)\n",
    "- session_date — fecha de la sesión web\n",
    "- user_id — identificador del usuario\n",
    "\n",
    "La tabla `plans` (datos sobre las tarifas):\n",
    "- plan_name — nombre de la tarifa\n",
    "- usd_monthly_fee — pago mensual en dólares estadounidenses\n",
    "- minutes_included — minutos incluidos al mes\n",
    "- messages_included — SMS incluidos al mes\n",
    "- mb_per_month_included — datos incluidos al mes (en megabytes)\n",
    "- usd_per_minute — precio por minuto tras exceder los límites del paquete (por ejemplo, si el paquete incluye 100 minutos el operador cobrará el minuto 101)\n",
    "- usd_per_message — precio por SMS tras exceder los límites del paquete\n",
    "- usd_per_gb — precio por gigabyte de los datos extra tras exceder los límites del paquete (1 GB = 1024 megabytes)\n",
    "\n",
    "[Volver a Contenidos](#back)"
   ]
  },
  {
   "cell_type": "markdown",
   "id": "0232fe97",
   "metadata": {},
   "source": [
    "Vamos a abrir los archivos de datos y estudiar la información general"
   ]
  },
  {
   "cell_type": "code",
   "execution_count": 1,
   "id": "4d0fddc3",
   "metadata": {},
   "outputs": [],
   "source": [
    "import matplotlib.pyplot as plt\n",
    "from scipy import stats as st\n",
    "import numpy as np\n",
    "import pandas as pd\n",
    "import seaborn as sns"
   ]
  },
  {
   "cell_type": "code",
   "execution_count": 2,
   "id": "27e7b3a6",
   "metadata": {},
   "outputs": [],
   "source": [
    "calls = pd.read_csv('/datasets/megaline_calls.csv')\n",
    "internet = pd.read_csv('/datasets/megaline_internet.csv')\n",
    "messages = pd.read_csv('/datasets/megaline_messages.csv')\n",
    "plans = pd.read_csv('/datasets/megaline_plans.csv')\n",
    "users = pd.read_csv('/datasets/megaline_users.csv')"
   ]
  },
  {
   "cell_type": "code",
   "execution_count": 3,
   "id": "8efc274e",
   "metadata": {
    "scrolled": true
   },
   "outputs": [
    {
     "name": "stdout",
     "output_type": "stream",
     "text": [
      "<class 'pandas.core.frame.DataFrame'>\n",
      "RangeIndex: 137735 entries, 0 to 137734\n",
      "Data columns (total 4 columns):\n",
      " #   Column     Non-Null Count   Dtype  \n",
      "---  ------     --------------   -----  \n",
      " 0   id         137735 non-null  object \n",
      " 1   user_id    137735 non-null  int64  \n",
      " 2   call_date  137735 non-null  object \n",
      " 3   duration   137735 non-null  float64\n",
      "dtypes: float64(1), int64(1), object(2)\n",
      "memory usage: 4.2+ MB\n"
     ]
    },
    {
     "data": {
      "text/html": [
       "<div>\n",
       "<style scoped>\n",
       "    .dataframe tbody tr th:only-of-type {\n",
       "        vertical-align: middle;\n",
       "    }\n",
       "\n",
       "    .dataframe tbody tr th {\n",
       "        vertical-align: top;\n",
       "    }\n",
       "\n",
       "    .dataframe thead th {\n",
       "        text-align: right;\n",
       "    }\n",
       "</style>\n",
       "<table border=\"1\" class=\"dataframe\">\n",
       "  <thead>\n",
       "    <tr style=\"text-align: right;\">\n",
       "      <th></th>\n",
       "      <th>id</th>\n",
       "      <th>user_id</th>\n",
       "      <th>call_date</th>\n",
       "      <th>duration</th>\n",
       "    </tr>\n",
       "  </thead>\n",
       "  <tbody>\n",
       "    <tr>\n",
       "      <th>0</th>\n",
       "      <td>1000_93</td>\n",
       "      <td>1000</td>\n",
       "      <td>2018-12-27</td>\n",
       "      <td>8.52</td>\n",
       "    </tr>\n",
       "    <tr>\n",
       "      <th>1</th>\n",
       "      <td>1000_145</td>\n",
       "      <td>1000</td>\n",
       "      <td>2018-12-27</td>\n",
       "      <td>13.66</td>\n",
       "    </tr>\n",
       "    <tr>\n",
       "      <th>2</th>\n",
       "      <td>1000_247</td>\n",
       "      <td>1000</td>\n",
       "      <td>2018-12-27</td>\n",
       "      <td>14.48</td>\n",
       "    </tr>\n",
       "    <tr>\n",
       "      <th>3</th>\n",
       "      <td>1000_309</td>\n",
       "      <td>1000</td>\n",
       "      <td>2018-12-28</td>\n",
       "      <td>5.76</td>\n",
       "    </tr>\n",
       "    <tr>\n",
       "      <th>4</th>\n",
       "      <td>1000_380</td>\n",
       "      <td>1000</td>\n",
       "      <td>2018-12-30</td>\n",
       "      <td>4.22</td>\n",
       "    </tr>\n",
       "    <tr>\n",
       "      <th>5</th>\n",
       "      <td>1000_388</td>\n",
       "      <td>1000</td>\n",
       "      <td>2018-12-31</td>\n",
       "      <td>2.20</td>\n",
       "    </tr>\n",
       "    <tr>\n",
       "      <th>6</th>\n",
       "      <td>1000_510</td>\n",
       "      <td>1000</td>\n",
       "      <td>2018-12-27</td>\n",
       "      <td>5.75</td>\n",
       "    </tr>\n",
       "    <tr>\n",
       "      <th>7</th>\n",
       "      <td>1000_521</td>\n",
       "      <td>1000</td>\n",
       "      <td>2018-12-28</td>\n",
       "      <td>14.18</td>\n",
       "    </tr>\n",
       "    <tr>\n",
       "      <th>8</th>\n",
       "      <td>1000_530</td>\n",
       "      <td>1000</td>\n",
       "      <td>2018-12-28</td>\n",
       "      <td>5.77</td>\n",
       "    </tr>\n",
       "    <tr>\n",
       "      <th>9</th>\n",
       "      <td>1000_544</td>\n",
       "      <td>1000</td>\n",
       "      <td>2018-12-26</td>\n",
       "      <td>4.40</td>\n",
       "    </tr>\n",
       "  </tbody>\n",
       "</table>\n",
       "</div>"
      ],
      "text/plain": [
       "         id  user_id   call_date  duration\n",
       "0   1000_93     1000  2018-12-27      8.52\n",
       "1  1000_145     1000  2018-12-27     13.66\n",
       "2  1000_247     1000  2018-12-27     14.48\n",
       "3  1000_309     1000  2018-12-28      5.76\n",
       "4  1000_380     1000  2018-12-30      4.22\n",
       "5  1000_388     1000  2018-12-31      2.20\n",
       "6  1000_510     1000  2018-12-27      5.75\n",
       "7  1000_521     1000  2018-12-28     14.18\n",
       "8  1000_530     1000  2018-12-28      5.77\n",
       "9  1000_544     1000  2018-12-26      4.40"
      ]
     },
     "execution_count": 3,
     "metadata": {},
     "output_type": "execute_result"
    }
   ],
   "source": [
    "calls.info()\n",
    "calls.head(10)"
   ]
  },
  {
   "cell_type": "code",
   "execution_count": 4,
   "id": "d5898ea0",
   "metadata": {
    "scrolled": true
   },
   "outputs": [
    {
     "name": "stdout",
     "output_type": "stream",
     "text": [
      "<class 'pandas.core.frame.DataFrame'>\n",
      "RangeIndex: 104825 entries, 0 to 104824\n",
      "Data columns (total 4 columns):\n",
      " #   Column        Non-Null Count   Dtype  \n",
      "---  ------        --------------   -----  \n",
      " 0   id            104825 non-null  object \n",
      " 1   user_id       104825 non-null  int64  \n",
      " 2   session_date  104825 non-null  object \n",
      " 3   mb_used       104825 non-null  float64\n",
      "dtypes: float64(1), int64(1), object(2)\n",
      "memory usage: 3.2+ MB\n"
     ]
    },
    {
     "data": {
      "text/html": [
       "<div>\n",
       "<style scoped>\n",
       "    .dataframe tbody tr th:only-of-type {\n",
       "        vertical-align: middle;\n",
       "    }\n",
       "\n",
       "    .dataframe tbody tr th {\n",
       "        vertical-align: top;\n",
       "    }\n",
       "\n",
       "    .dataframe thead th {\n",
       "        text-align: right;\n",
       "    }\n",
       "</style>\n",
       "<table border=\"1\" class=\"dataframe\">\n",
       "  <thead>\n",
       "    <tr style=\"text-align: right;\">\n",
       "      <th></th>\n",
       "      <th>id</th>\n",
       "      <th>user_id</th>\n",
       "      <th>session_date</th>\n",
       "      <th>mb_used</th>\n",
       "    </tr>\n",
       "  </thead>\n",
       "  <tbody>\n",
       "    <tr>\n",
       "      <th>0</th>\n",
       "      <td>1000_13</td>\n",
       "      <td>1000</td>\n",
       "      <td>2018-12-29</td>\n",
       "      <td>89.86</td>\n",
       "    </tr>\n",
       "    <tr>\n",
       "      <th>1</th>\n",
       "      <td>1000_204</td>\n",
       "      <td>1000</td>\n",
       "      <td>2018-12-31</td>\n",
       "      <td>0.00</td>\n",
       "    </tr>\n",
       "    <tr>\n",
       "      <th>2</th>\n",
       "      <td>1000_379</td>\n",
       "      <td>1000</td>\n",
       "      <td>2018-12-28</td>\n",
       "      <td>660.40</td>\n",
       "    </tr>\n",
       "    <tr>\n",
       "      <th>3</th>\n",
       "      <td>1000_413</td>\n",
       "      <td>1000</td>\n",
       "      <td>2018-12-26</td>\n",
       "      <td>270.99</td>\n",
       "    </tr>\n",
       "    <tr>\n",
       "      <th>4</th>\n",
       "      <td>1000_442</td>\n",
       "      <td>1000</td>\n",
       "      <td>2018-12-27</td>\n",
       "      <td>880.22</td>\n",
       "    </tr>\n",
       "    <tr>\n",
       "      <th>5</th>\n",
       "      <td>1001_0</td>\n",
       "      <td>1001</td>\n",
       "      <td>2018-08-24</td>\n",
       "      <td>284.68</td>\n",
       "    </tr>\n",
       "    <tr>\n",
       "      <th>6</th>\n",
       "      <td>1001_3</td>\n",
       "      <td>1001</td>\n",
       "      <td>2018-12-09</td>\n",
       "      <td>656.04</td>\n",
       "    </tr>\n",
       "    <tr>\n",
       "      <th>7</th>\n",
       "      <td>1001_4</td>\n",
       "      <td>1001</td>\n",
       "      <td>2018-11-04</td>\n",
       "      <td>16.97</td>\n",
       "    </tr>\n",
       "    <tr>\n",
       "      <th>8</th>\n",
       "      <td>1001_10</td>\n",
       "      <td>1001</td>\n",
       "      <td>2018-11-27</td>\n",
       "      <td>135.18</td>\n",
       "    </tr>\n",
       "    <tr>\n",
       "      <th>9</th>\n",
       "      <td>1001_15</td>\n",
       "      <td>1001</td>\n",
       "      <td>2018-12-13</td>\n",
       "      <td>761.92</td>\n",
       "    </tr>\n",
       "  </tbody>\n",
       "</table>\n",
       "</div>"
      ],
      "text/plain": [
       "         id  user_id session_date  mb_used\n",
       "0   1000_13     1000   2018-12-29    89.86\n",
       "1  1000_204     1000   2018-12-31     0.00\n",
       "2  1000_379     1000   2018-12-28   660.40\n",
       "3  1000_413     1000   2018-12-26   270.99\n",
       "4  1000_442     1000   2018-12-27   880.22\n",
       "5    1001_0     1001   2018-08-24   284.68\n",
       "6    1001_3     1001   2018-12-09   656.04\n",
       "7    1001_4     1001   2018-11-04    16.97\n",
       "8   1001_10     1001   2018-11-27   135.18\n",
       "9   1001_15     1001   2018-12-13   761.92"
      ]
     },
     "execution_count": 4,
     "metadata": {},
     "output_type": "execute_result"
    }
   ],
   "source": [
    "internet.info()\n",
    "internet.head(10)"
   ]
  },
  {
   "cell_type": "code",
   "execution_count": 5,
   "id": "ff86f54b",
   "metadata": {
    "scrolled": true
   },
   "outputs": [
    {
     "name": "stdout",
     "output_type": "stream",
     "text": [
      "<class 'pandas.core.frame.DataFrame'>\n",
      "RangeIndex: 76051 entries, 0 to 76050\n",
      "Data columns (total 3 columns):\n",
      " #   Column        Non-Null Count  Dtype \n",
      "---  ------        --------------  ----- \n",
      " 0   id            76051 non-null  object\n",
      " 1   user_id       76051 non-null  int64 \n",
      " 2   message_date  76051 non-null  object\n",
      "dtypes: int64(1), object(2)\n",
      "memory usage: 1.7+ MB\n"
     ]
    },
    {
     "data": {
      "text/html": [
       "<div>\n",
       "<style scoped>\n",
       "    .dataframe tbody tr th:only-of-type {\n",
       "        vertical-align: middle;\n",
       "    }\n",
       "\n",
       "    .dataframe tbody tr th {\n",
       "        vertical-align: top;\n",
       "    }\n",
       "\n",
       "    .dataframe thead th {\n",
       "        text-align: right;\n",
       "    }\n",
       "</style>\n",
       "<table border=\"1\" class=\"dataframe\">\n",
       "  <thead>\n",
       "    <tr style=\"text-align: right;\">\n",
       "      <th></th>\n",
       "      <th>id</th>\n",
       "      <th>user_id</th>\n",
       "      <th>message_date</th>\n",
       "    </tr>\n",
       "  </thead>\n",
       "  <tbody>\n",
       "    <tr>\n",
       "      <th>0</th>\n",
       "      <td>1000_125</td>\n",
       "      <td>1000</td>\n",
       "      <td>2018-12-27</td>\n",
       "    </tr>\n",
       "    <tr>\n",
       "      <th>1</th>\n",
       "      <td>1000_160</td>\n",
       "      <td>1000</td>\n",
       "      <td>2018-12-31</td>\n",
       "    </tr>\n",
       "    <tr>\n",
       "      <th>2</th>\n",
       "      <td>1000_223</td>\n",
       "      <td>1000</td>\n",
       "      <td>2018-12-31</td>\n",
       "    </tr>\n",
       "    <tr>\n",
       "      <th>3</th>\n",
       "      <td>1000_251</td>\n",
       "      <td>1000</td>\n",
       "      <td>2018-12-27</td>\n",
       "    </tr>\n",
       "    <tr>\n",
       "      <th>4</th>\n",
       "      <td>1000_255</td>\n",
       "      <td>1000</td>\n",
       "      <td>2018-12-26</td>\n",
       "    </tr>\n",
       "    <tr>\n",
       "      <th>5</th>\n",
       "      <td>1000_346</td>\n",
       "      <td>1000</td>\n",
       "      <td>2018-12-29</td>\n",
       "    </tr>\n",
       "    <tr>\n",
       "      <th>6</th>\n",
       "      <td>1000_386</td>\n",
       "      <td>1000</td>\n",
       "      <td>2018-12-30</td>\n",
       "    </tr>\n",
       "    <tr>\n",
       "      <th>7</th>\n",
       "      <td>1000_413</td>\n",
       "      <td>1000</td>\n",
       "      <td>2018-12-31</td>\n",
       "    </tr>\n",
       "    <tr>\n",
       "      <th>8</th>\n",
       "      <td>1000_502</td>\n",
       "      <td>1000</td>\n",
       "      <td>2018-12-27</td>\n",
       "    </tr>\n",
       "    <tr>\n",
       "      <th>9</th>\n",
       "      <td>1000_525</td>\n",
       "      <td>1000</td>\n",
       "      <td>2018-12-28</td>\n",
       "    </tr>\n",
       "  </tbody>\n",
       "</table>\n",
       "</div>"
      ],
      "text/plain": [
       "         id  user_id message_date\n",
       "0  1000_125     1000   2018-12-27\n",
       "1  1000_160     1000   2018-12-31\n",
       "2  1000_223     1000   2018-12-31\n",
       "3  1000_251     1000   2018-12-27\n",
       "4  1000_255     1000   2018-12-26\n",
       "5  1000_346     1000   2018-12-29\n",
       "6  1000_386     1000   2018-12-30\n",
       "7  1000_413     1000   2018-12-31\n",
       "8  1000_502     1000   2018-12-27\n",
       "9  1000_525     1000   2018-12-28"
      ]
     },
     "execution_count": 5,
     "metadata": {},
     "output_type": "execute_result"
    }
   ],
   "source": [
    "messages.info()\n",
    "messages.head(10)"
   ]
  },
  {
   "cell_type": "markdown",
   "id": "1592d962",
   "metadata": {},
   "source": [
    "En estas primeras tres tablas, podemos ver que hay muchos mensajes, llamadas y sesiones de datos que se llevan a cabo en el mismo mes, incluso en el mismo día. Considerando esto, sería conveniente agruparlas por mes para tener los datos mejor ordenados. Veamos las tablas plans y users."
   ]
  },
  {
   "cell_type": "code",
   "execution_count": 6,
   "id": "1c28303e",
   "metadata": {
    "scrolled": false
   },
   "outputs": [
    {
     "name": "stdout",
     "output_type": "stream",
     "text": [
      "<class 'pandas.core.frame.DataFrame'>\n",
      "RangeIndex: 2 entries, 0 to 1\n",
      "Data columns (total 8 columns):\n",
      " #   Column                 Non-Null Count  Dtype  \n",
      "---  ------                 --------------  -----  \n",
      " 0   messages_included      2 non-null      int64  \n",
      " 1   mb_per_month_included  2 non-null      int64  \n",
      " 2   minutes_included       2 non-null      int64  \n",
      " 3   usd_monthly_pay        2 non-null      int64  \n",
      " 4   usd_per_gb             2 non-null      int64  \n",
      " 5   usd_per_message        2 non-null      float64\n",
      " 6   usd_per_minute         2 non-null      float64\n",
      " 7   plan_name              2 non-null      object \n",
      "dtypes: float64(2), int64(5), object(1)\n",
      "memory usage: 256.0+ bytes\n"
     ]
    },
    {
     "data": {
      "text/html": [
       "<div>\n",
       "<style scoped>\n",
       "    .dataframe tbody tr th:only-of-type {\n",
       "        vertical-align: middle;\n",
       "    }\n",
       "\n",
       "    .dataframe tbody tr th {\n",
       "        vertical-align: top;\n",
       "    }\n",
       "\n",
       "    .dataframe thead th {\n",
       "        text-align: right;\n",
       "    }\n",
       "</style>\n",
       "<table border=\"1\" class=\"dataframe\">\n",
       "  <thead>\n",
       "    <tr style=\"text-align: right;\">\n",
       "      <th></th>\n",
       "      <th>messages_included</th>\n",
       "      <th>mb_per_month_included</th>\n",
       "      <th>minutes_included</th>\n",
       "      <th>usd_monthly_pay</th>\n",
       "      <th>usd_per_gb</th>\n",
       "      <th>usd_per_message</th>\n",
       "      <th>usd_per_minute</th>\n",
       "      <th>plan_name</th>\n",
       "    </tr>\n",
       "  </thead>\n",
       "  <tbody>\n",
       "    <tr>\n",
       "      <th>0</th>\n",
       "      <td>50</td>\n",
       "      <td>15360</td>\n",
       "      <td>500</td>\n",
       "      <td>20</td>\n",
       "      <td>10</td>\n",
       "      <td>0.03</td>\n",
       "      <td>0.03</td>\n",
       "      <td>surf</td>\n",
       "    </tr>\n",
       "    <tr>\n",
       "      <th>1</th>\n",
       "      <td>1000</td>\n",
       "      <td>30720</td>\n",
       "      <td>3000</td>\n",
       "      <td>70</td>\n",
       "      <td>7</td>\n",
       "      <td>0.01</td>\n",
       "      <td>0.01</td>\n",
       "      <td>ultimate</td>\n",
       "    </tr>\n",
       "  </tbody>\n",
       "</table>\n",
       "</div>"
      ],
      "text/plain": [
       "   messages_included  mb_per_month_included  minutes_included  \\\n",
       "0                 50                  15360               500   \n",
       "1               1000                  30720              3000   \n",
       "\n",
       "   usd_monthly_pay  usd_per_gb  usd_per_message  usd_per_minute plan_name  \n",
       "0               20          10             0.03            0.03      surf  \n",
       "1               70           7             0.01            0.01  ultimate  "
      ]
     },
     "execution_count": 6,
     "metadata": {},
     "output_type": "execute_result"
    }
   ],
   "source": [
    "plans.info()\n",
    "plans.head(10)"
   ]
  },
  {
   "cell_type": "code",
   "execution_count": 7,
   "id": "4bb958df",
   "metadata": {},
   "outputs": [
    {
     "name": "stdout",
     "output_type": "stream",
     "text": [
      "<class 'pandas.core.frame.DataFrame'>\n",
      "RangeIndex: 500 entries, 0 to 499\n",
      "Data columns (total 8 columns):\n",
      " #   Column      Non-Null Count  Dtype \n",
      "---  ------      --------------  ----- \n",
      " 0   user_id     500 non-null    int64 \n",
      " 1   first_name  500 non-null    object\n",
      " 2   last_name   500 non-null    object\n",
      " 3   age         500 non-null    int64 \n",
      " 4   city        500 non-null    object\n",
      " 5   reg_date    500 non-null    object\n",
      " 6   plan        500 non-null    object\n",
      " 7   churn_date  34 non-null     object\n",
      "dtypes: int64(2), object(6)\n",
      "memory usage: 31.4+ KB\n"
     ]
    },
    {
     "data": {
      "text/html": [
       "<div>\n",
       "<style scoped>\n",
       "    .dataframe tbody tr th:only-of-type {\n",
       "        vertical-align: middle;\n",
       "    }\n",
       "\n",
       "    .dataframe tbody tr th {\n",
       "        vertical-align: top;\n",
       "    }\n",
       "\n",
       "    .dataframe thead th {\n",
       "        text-align: right;\n",
       "    }\n",
       "</style>\n",
       "<table border=\"1\" class=\"dataframe\">\n",
       "  <thead>\n",
       "    <tr style=\"text-align: right;\">\n",
       "      <th></th>\n",
       "      <th>user_id</th>\n",
       "      <th>first_name</th>\n",
       "      <th>last_name</th>\n",
       "      <th>age</th>\n",
       "      <th>city</th>\n",
       "      <th>reg_date</th>\n",
       "      <th>plan</th>\n",
       "      <th>churn_date</th>\n",
       "    </tr>\n",
       "  </thead>\n",
       "  <tbody>\n",
       "    <tr>\n",
       "      <th>0</th>\n",
       "      <td>1000</td>\n",
       "      <td>Anamaria</td>\n",
       "      <td>Bauer</td>\n",
       "      <td>45</td>\n",
       "      <td>Atlanta-Sandy Springs-Roswell, GA MSA</td>\n",
       "      <td>2018-12-24</td>\n",
       "      <td>ultimate</td>\n",
       "      <td>NaN</td>\n",
       "    </tr>\n",
       "    <tr>\n",
       "      <th>1</th>\n",
       "      <td>1001</td>\n",
       "      <td>Mickey</td>\n",
       "      <td>Wilkerson</td>\n",
       "      <td>28</td>\n",
       "      <td>Seattle-Tacoma-Bellevue, WA MSA</td>\n",
       "      <td>2018-08-13</td>\n",
       "      <td>surf</td>\n",
       "      <td>NaN</td>\n",
       "    </tr>\n",
       "    <tr>\n",
       "      <th>2</th>\n",
       "      <td>1002</td>\n",
       "      <td>Carlee</td>\n",
       "      <td>Hoffman</td>\n",
       "      <td>36</td>\n",
       "      <td>Las Vegas-Henderson-Paradise, NV MSA</td>\n",
       "      <td>2018-10-21</td>\n",
       "      <td>surf</td>\n",
       "      <td>NaN</td>\n",
       "    </tr>\n",
       "    <tr>\n",
       "      <th>3</th>\n",
       "      <td>1003</td>\n",
       "      <td>Reynaldo</td>\n",
       "      <td>Jenkins</td>\n",
       "      <td>52</td>\n",
       "      <td>Tulsa, OK MSA</td>\n",
       "      <td>2018-01-28</td>\n",
       "      <td>surf</td>\n",
       "      <td>NaN</td>\n",
       "    </tr>\n",
       "    <tr>\n",
       "      <th>4</th>\n",
       "      <td>1004</td>\n",
       "      <td>Leonila</td>\n",
       "      <td>Thompson</td>\n",
       "      <td>40</td>\n",
       "      <td>Seattle-Tacoma-Bellevue, WA MSA</td>\n",
       "      <td>2018-05-23</td>\n",
       "      <td>surf</td>\n",
       "      <td>NaN</td>\n",
       "    </tr>\n",
       "    <tr>\n",
       "      <th>5</th>\n",
       "      <td>1005</td>\n",
       "      <td>Livia</td>\n",
       "      <td>Shields</td>\n",
       "      <td>31</td>\n",
       "      <td>Dallas-Fort Worth-Arlington, TX MSA</td>\n",
       "      <td>2018-11-29</td>\n",
       "      <td>surf</td>\n",
       "      <td>NaN</td>\n",
       "    </tr>\n",
       "    <tr>\n",
       "      <th>6</th>\n",
       "      <td>1006</td>\n",
       "      <td>Jesusa</td>\n",
       "      <td>Bradford</td>\n",
       "      <td>73</td>\n",
       "      <td>San Francisco-Oakland-Berkeley, CA MSA</td>\n",
       "      <td>2018-11-27</td>\n",
       "      <td>ultimate</td>\n",
       "      <td>2018-12-18</td>\n",
       "    </tr>\n",
       "    <tr>\n",
       "      <th>7</th>\n",
       "      <td>1007</td>\n",
       "      <td>Eusebio</td>\n",
       "      <td>Welch</td>\n",
       "      <td>42</td>\n",
       "      <td>Grand Rapids-Kentwood, MI MSA</td>\n",
       "      <td>2018-07-11</td>\n",
       "      <td>surf</td>\n",
       "      <td>NaN</td>\n",
       "    </tr>\n",
       "    <tr>\n",
       "      <th>8</th>\n",
       "      <td>1008</td>\n",
       "      <td>Emely</td>\n",
       "      <td>Hoffman</td>\n",
       "      <td>53</td>\n",
       "      <td>Orlando-Kissimmee-Sanford, FL MSA</td>\n",
       "      <td>2018-08-03</td>\n",
       "      <td>ultimate</td>\n",
       "      <td>NaN</td>\n",
       "    </tr>\n",
       "    <tr>\n",
       "      <th>9</th>\n",
       "      <td>1009</td>\n",
       "      <td>Gerry</td>\n",
       "      <td>Little</td>\n",
       "      <td>19</td>\n",
       "      <td>San Jose-Sunnyvale-Santa Clara, CA MSA</td>\n",
       "      <td>2018-04-22</td>\n",
       "      <td>surf</td>\n",
       "      <td>NaN</td>\n",
       "    </tr>\n",
       "  </tbody>\n",
       "</table>\n",
       "</div>"
      ],
      "text/plain": [
       "   user_id first_name  last_name  age                                    city  \\\n",
       "0     1000   Anamaria      Bauer   45   Atlanta-Sandy Springs-Roswell, GA MSA   \n",
       "1     1001     Mickey  Wilkerson   28         Seattle-Tacoma-Bellevue, WA MSA   \n",
       "2     1002     Carlee    Hoffman   36    Las Vegas-Henderson-Paradise, NV MSA   \n",
       "3     1003   Reynaldo    Jenkins   52                           Tulsa, OK MSA   \n",
       "4     1004    Leonila   Thompson   40         Seattle-Tacoma-Bellevue, WA MSA   \n",
       "5     1005      Livia    Shields   31     Dallas-Fort Worth-Arlington, TX MSA   \n",
       "6     1006     Jesusa   Bradford   73  San Francisco-Oakland-Berkeley, CA MSA   \n",
       "7     1007    Eusebio      Welch   42           Grand Rapids-Kentwood, MI MSA   \n",
       "8     1008      Emely    Hoffman   53       Orlando-Kissimmee-Sanford, FL MSA   \n",
       "9     1009      Gerry     Little   19  San Jose-Sunnyvale-Santa Clara, CA MSA   \n",
       "\n",
       "     reg_date      plan  churn_date  \n",
       "0  2018-12-24  ultimate         NaN  \n",
       "1  2018-08-13      surf         NaN  \n",
       "2  2018-10-21      surf         NaN  \n",
       "3  2018-01-28      surf         NaN  \n",
       "4  2018-05-23      surf         NaN  \n",
       "5  2018-11-29      surf         NaN  \n",
       "6  2018-11-27  ultimate  2018-12-18  \n",
       "7  2018-07-11      surf         NaN  \n",
       "8  2018-08-03  ultimate         NaN  \n",
       "9  2018-04-22      surf         NaN  "
      ]
     },
     "execution_count": 7,
     "metadata": {},
     "output_type": "execute_result"
    }
   ],
   "source": [
    "users.info()\n",
    "users.head(10)"
   ]
  },
  {
   "cell_type": "markdown",
   "id": "f8a57951",
   "metadata": {},
   "source": [
    "En estas dos tablas tenemos información muy importante acerca del cada usuario y el detalle del plan que usa, lo que nos servirá para calcular la información que necesitaremos al momento de estudiar nuestras hipótesis."
   ]
  },
  {
   "cell_type": "markdown",
   "id": "2c824cba",
   "metadata": {},
   "source": [
    "[Volver a Contenidos](#back)"
   ]
  },
  {
   "cell_type": "markdown",
   "id": "b59253ef",
   "metadata": {},
   "source": [
    "# Etapa 2. Data preprocessing\n",
    "\n",
    "# 2.1 Cambiando tipos de datos\n",
    "Vamos ahora con la preparación de los datos. Lo primero que haremos setá convertir los datos en los tipos necesarios. Podemos observar que en todas las tablas, a excepción de `plans`, hay columnas de fecha cuyo tipo de dato es object. Vamos a convertirlos al tipo datetime."
   ]
  },
  {
   "cell_type": "code",
   "execution_count": 8,
   "id": "90d6c131",
   "metadata": {},
   "outputs": [
    {
     "name": "stdout",
     "output_type": "stream",
     "text": [
      "0   2018-12-27\n",
      "1   2018-12-27\n",
      "2   2018-12-27\n",
      "3   2018-12-28\n",
      "4   2018-12-30\n",
      "Name: call_date, dtype: datetime64[ns]\n",
      "0   2018-12-29\n",
      "1   2018-12-31\n",
      "2   2018-12-28\n",
      "3   2018-12-26\n",
      "4   2018-12-27\n",
      "Name: session_date, dtype: datetime64[ns]\n",
      "0   2018-12-27\n",
      "1   2018-12-31\n",
      "2   2018-12-31\n",
      "3   2018-12-27\n",
      "4   2018-12-26\n",
      "Name: message_date, dtype: datetime64[ns]\n",
      "0   2018-12-24\n",
      "1   2018-08-13\n",
      "2   2018-10-21\n",
      "3   2018-01-28\n",
      "4   2018-05-23\n",
      "Name: reg_date, dtype: datetime64[ns]\n",
      "0   NaT\n",
      "1   NaT\n",
      "2   NaT\n",
      "3   NaT\n",
      "4   NaT\n",
      "Name: churn_date, dtype: datetime64[ns]\n"
     ]
    }
   ],
   "source": [
    "calls[\"call_date\"] = pd.to_datetime(calls[\"call_date\"], format='%Y-%m-%d')\n",
    "\n",
    "internet[\"session_date\"] = pd.to_datetime(internet[\"session_date\"], format='%Y-%m-%d')\n",
    "\n",
    "messages[\"message_date\"] = pd.to_datetime(messages[\"message_date\"], format='%Y-%m-%d')\n",
    "\n",
    "users[\"reg_date\"] = pd.to_datetime(users[\"reg_date\"], format='%Y-%m-%d')\n",
    "\n",
    "users[\"churn_date\"] = pd.to_datetime(users[\"churn_date\"], format='%Y-%m-%d')\n",
    "\n",
    "print(calls[\"call_date\"].head())\n",
    "print(internet[\"session_date\"].head())\n",
    "print(messages[\"message_date\"].head())\n",
    "print(users[\"reg_date\"].head())\n",
    "print(users[\"churn_date\"].head())"
   ]
  },
  {
   "cell_type": "markdown",
   "id": "ba8ef8f2",
   "metadata": {},
   "source": [
    "# 2.2 Duplicados\n",
    "Revisemos las tablas en busca de valores duplicados"
   ]
  },
  {
   "cell_type": "code",
   "execution_count": 9,
   "id": "c2fca2c2",
   "metadata": {
    "scrolled": true
   },
   "outputs": [
    {
     "name": "stdout",
     "output_type": "stream",
     "text": [
      "0\n",
      "0\n",
      "0\n",
      "0\n"
     ]
    }
   ],
   "source": [
    "print(calls.duplicated().sum())\n",
    "print(internet.duplicated().sum())\n",
    "print(messages.duplicated().sum())\n",
    "print(users.duplicated().sum())"
   ]
  },
  {
   "cell_type": "markdown",
   "id": "2046ea8c",
   "metadata": {},
   "source": [
    "# 2.3 Valores ausentes\n",
    "Vemos que, de todas las tablas, la única con valores ausentes es users en la columna churn_date. Sabemos por la información suministrada que si el valor de esta variable es ausente, la tarifa se estaba usando cuando se recuperaron estos datos, lo que quiere decir que el usuario esta activo. Por lo tanto, vamos a conservar esos valores conociendo lo mencionado."
   ]
  },
  {
   "cell_type": "markdown",
   "id": "75023e41",
   "metadata": {},
   "source": [
    "[Volver a Contenidos](#back)"
   ]
  },
  {
   "cell_type": "markdown",
   "id": "f1034873",
   "metadata": {},
   "source": [
    "# Etapa 3. Enriqueciendo los datos\n",
    "\n",
    "# 3.1 Agregando columnas\n",
    "Ahora que no tenemos valores ausentes, duplicados y que corregimos el tipo de datos, agreguemos columnas relevantes para nuestra investigación"
   ]
  },
  {
   "cell_type": "code",
   "execution_count": 10,
   "id": "692ffcb5",
   "metadata": {},
   "outputs": [
    {
     "name": "stdout",
     "output_type": "stream",
     "text": [
      "         id  user_id  call_date  duration  month\n",
      "0   1000_93     1000 2018-12-27      8.52     12\n",
      "1  1000_145     1000 2018-12-27     13.66     12\n",
      "2  1000_247     1000 2018-12-27     14.48     12\n",
      "3  1000_309     1000 2018-12-28      5.76     12\n",
      "4  1000_380     1000 2018-12-30      4.22     12\n",
      "         id  user_id session_date  mb_used  month\n",
      "0   1000_13     1000   2018-12-29    89.86     12\n",
      "1  1000_204     1000   2018-12-31     0.00     12\n",
      "2  1000_379     1000   2018-12-28   660.40     12\n",
      "3  1000_413     1000   2018-12-26   270.99     12\n",
      "4  1000_442     1000   2018-12-27   880.22     12\n",
      "         id  user_id message_date  month\n",
      "0  1000_125     1000   2018-12-27     12\n",
      "1  1000_160     1000   2018-12-31     12\n",
      "2  1000_223     1000   2018-12-31     12\n",
      "3  1000_251     1000   2018-12-27     12\n",
      "4  1000_255     1000   2018-12-26     12\n"
     ]
    }
   ],
   "source": [
    "calls['month'] = calls['call_date'].dt.month\n",
    "internet['month'] = internet['session_date'].dt.month\n",
    "messages['month'] = messages['message_date'].dt.month\n",
    "\n",
    "print(calls.head())\n",
    "print(internet.head())\n",
    "print(messages.head())"
   ]
  },
  {
   "cell_type": "markdown",
   "id": "69835e99",
   "metadata": {},
   "source": [
    "# 3.2 detectando errores\n",
    "busquemos y eliminemos posibles errores en los datos. Comencemos por la tabla de llamadas."
   ]
  },
  {
   "cell_type": "code",
   "execution_count": 11,
   "id": "12775e5f",
   "metadata": {},
   "outputs": [
    {
     "data": {
      "text/plain": [
       "0.00     26834\n",
       "0.01        51\n",
       "0.02        51\n",
       "0.03        56\n",
       "0.04        46\n",
       "         ...  \n",
       "35.35        1\n",
       "35.74        1\n",
       "35.88        1\n",
       "36.24        1\n",
       "37.60        1\n",
       "Name: duration, Length: 2802, dtype: int64"
      ]
     },
     "execution_count": 11,
     "metadata": {},
     "output_type": "execute_result"
    }
   ],
   "source": [
    "calls['duration'].value_counts().sort_index()"
   ]
  },
  {
   "cell_type": "markdown",
   "id": "4819ecc9",
   "metadata": {},
   "source": [
    "Vemos una cantidad grande de llamadas con una duración de 0.0 minutos. Veamos que porcentaje de las llamadas totales representan"
   ]
  },
  {
   "cell_type": "code",
   "execution_count": 12,
   "id": "d169ebb2",
   "metadata": {},
   "outputs": [
    {
     "data": {
      "text/plain": [
       "'El porcentaje de llamadas perdidas es: 19%'"
      ]
     },
     "execution_count": 12,
     "metadata": {},
     "output_type": "execute_result"
    }
   ],
   "source": [
    "total_calls = 137735\n",
    "missing_calls = 26834\n",
    "\n",
    "missing_calls_rate = missing_calls / total_calls\n",
    "\n",
    "f\"El porcentaje de llamadas perdidas es: {missing_calls_rate:.0%}\""
   ]
  },
  {
   "cell_type": "markdown",
   "id": "e0ed7e5c",
   "metadata": {},
   "source": [
    "Las llamadas de 0.0 segundos representan el 19% del total de llamadas. Es un porcentaje importante, por lo que haremos una tabla filtrada sin estas llamadas para compararlo con el DataFrame completo."
   ]
  },
  {
   "cell_type": "code",
   "execution_count": 13,
   "id": "f9cd6568",
   "metadata": {
    "scrolled": false
   },
   "outputs": [
    {
     "data": {
      "image/png": "[encoded data removed]",
      "text/plain": [
       "<Figure size 432x288 with 1 Axes>"
      ]
     },
     "metadata": {
      "needs_background": "light"
     },
     "output_type": "display_data"
    },
    {
     "data": {
      "image/png": "[encoded data removed]",
      "text/plain": [
       "<Figure size 432x288 with 1 Axes>"
      ]
     },
     "metadata": {
      "needs_background": "light"
     },
     "output_type": "display_data"
    }
   ],
   "source": [
    "calls_filtered = calls.query('duration >= 0.01')\n",
    "calls.hist('duration', bins=100)\n",
    "plt.show()\n",
    "calls_filtered.hist('duration', bins=100)\n",
    "plt.show()"
   ]
  },
  {
   "cell_type": "markdown",
   "id": "5d9a06c9",
   "metadata": {},
   "source": [
    "Si bien es un porcentaje importante, definitivamente es un valor atípico que probablemente se debe a llamadas perdidas, es decir, que la persona a quien se llamó nunca contestó. No las eliminaremos, ya que, si bien no representan ningún gasto a los minutos del plan ni ningún cobro adicional al cliente, estos deben pagar una tarifa base aunque no consuman minutos."
   ]
  },
  {
   "cell_type": "markdown",
   "id": "1d3c0210",
   "metadata": {},
   "source": [
    "Revisemos ahora la tabla de internet."
   ]
  },
  {
   "cell_type": "code",
   "execution_count": 14,
   "id": "a60710dc",
   "metadata": {
    "scrolled": true
   },
   "outputs": [
    {
     "data": {
      "text/plain": [
       "0.00       13747\n",
       "0.01           1\n",
       "0.02           2\n",
       "0.03           1\n",
       "0.04           2\n",
       "           ...  \n",
       "1604.46        1\n",
       "1634.39        1\n",
       "1636.47        1\n",
       "1668.03        1\n",
       "1693.47        1\n",
       "Name: mb_used, Length: 57624, dtype: int64"
      ]
     },
     "execution_count": 14,
     "metadata": {},
     "output_type": "execute_result"
    }
   ],
   "source": [
    "internet['mb_used'].value_counts().sort_index()"
   ]
  },
  {
   "cell_type": "markdown",
   "id": "9ec70cb2",
   "metadata": {},
   "source": [
    "De forma similar que con las llamadas, vemos una cantidad grande de sesiones con un consumo de 0.0 MB. Veamos que porcentaje de las sesiones totales representan"
   ]
  },
  {
   "cell_type": "code",
   "execution_count": 15,
   "id": "71d3c51d",
   "metadata": {},
   "outputs": [
    {
     "data": {
      "text/plain": [
       "'El porcentaje de sesiones perdidas es: 13%'"
      ]
     },
     "execution_count": 15,
     "metadata": {},
     "output_type": "execute_result"
    }
   ],
   "source": [
    "total_sesions = 104825\n",
    "missing_sesions = 13747\n",
    "\n",
    "missing_sesions_rate = missing_sesions / total_sesions\n",
    "\n",
    "f\"El porcentaje de sesiones perdidas es: {missing_sesions_rate:.0%}\""
   ]
  },
  {
   "cell_type": "markdown",
   "id": "426398a0",
   "metadata": {},
   "source": [
    "Las sesiones de 0.0 MB representan el 13% del total de sesiones. Es un porcentaje importante, por lo que, al igual que como hicimos con las llamadas, haremos una tabla filtrada sin estas sesiones para compararlo con el DataFrame completo."
   ]
  },
  {
   "cell_type": "code",
   "execution_count": 16,
   "id": "2fac3c42",
   "metadata": {
    "scrolled": false
   },
   "outputs": [
    {
     "data": {
      "image/png": "[encoded data removed]",
      "text/plain": [
       "<Figure size 432x288 with 1 Axes>"
      ]
     },
     "metadata": {
      "needs_background": "light"
     },
     "output_type": "display_data"
    },
    {
     "data": {
      "image/png": "[encoded data removed]",
      "text/plain": [
       "<Figure size 432x288 with 1 Axes>"
      ]
     },
     "metadata": {
      "needs_background": "light"
     },
     "output_type": "display_data"
    }
   ],
   "source": [
    "sesions_filtered = internet.query('mb_used >= 0.01')\n",
    "internet.hist('mb_used', bins=100)\n",
    "plt.show()\n",
    "sesions_filtered.hist('mb_used', bins=100)\n",
    "plt.show()"
   ]
  },
  {
   "cell_type": "markdown",
   "id": "b100b3ea",
   "metadata": {},
   "source": [
    "Definitivamente es un valor atípico, que podemos atribuir a cuando estás conectado a una red wifi o cuando se abre y se cierra el navegador rapidamente. No las eliminaremos, ya que, aunque no hayan consumido ni un solo MB del plan, estos clientes deben pagar una tarifa base, aunque no consuman sus MB."
   ]
  },
  {
   "cell_type": "markdown",
   "id": "6ecd8bcb",
   "metadata": {},
   "source": [
    "[Volver a Contenidos](#back)"
   ]
  },
  {
   "cell_type": "markdown",
   "id": "8202a427",
   "metadata": {},
   "source": [
    "# Etapa 4. Analizando la data\n",
    "\n",
    "# 4.1 agrupando información\n",
    "\n",
    "Ahora que tenemos más ordenada nuestras tablas, vamos a buscar para cada usuario la siguiente informacion:\n",
    "- El número de llamadas realizadas y minutos utilizados al mes\n",
    "- La cantidad de los SMS enviados por mes.\n",
    "- El volumen de datos por mes.\n",
    "- Los ingresos mensuales de cada usuario (resta el límite del paquete gratuito del número total de llamadas, SMS y datos; multiplica el resultado por el valor de tarifa de llamadas; agrega el cargo mensual según la tarifa de llamadas)"
   ]
  },
  {
   "cell_type": "code",
   "execution_count": 17,
   "id": "f91ded94",
   "metadata": {
    "scrolled": false
   },
   "outputs": [
    {
     "data": {
      "text/html": [
       "<div>\n",
       "<style scoped>\n",
       "    .dataframe tbody tr th:only-of-type {\n",
       "        vertical-align: middle;\n",
       "    }\n",
       "\n",
       "    .dataframe tbody tr th {\n",
       "        vertical-align: top;\n",
       "    }\n",
       "\n",
       "    .dataframe thead th {\n",
       "        text-align: right;\n",
       "    }\n",
       "</style>\n",
       "<table border=\"1\" class=\"dataframe\">\n",
       "  <thead>\n",
       "    <tr style=\"text-align: right;\">\n",
       "      <th></th>\n",
       "      <th></th>\n",
       "      <th>total_minutes</th>\n",
       "    </tr>\n",
       "    <tr>\n",
       "      <th>user_id</th>\n",
       "      <th>month</th>\n",
       "      <th></th>\n",
       "    </tr>\n",
       "  </thead>\n",
       "  <tbody>\n",
       "    <tr>\n",
       "      <th>1000</th>\n",
       "      <th>12</th>\n",
       "      <td>116.83</td>\n",
       "    </tr>\n",
       "    <tr>\n",
       "      <th rowspan=\"4\" valign=\"top\">1001</th>\n",
       "      <th>8</th>\n",
       "      <td>171.14</td>\n",
       "    </tr>\n",
       "    <tr>\n",
       "      <th>9</th>\n",
       "      <td>297.69</td>\n",
       "    </tr>\n",
       "    <tr>\n",
       "      <th>10</th>\n",
       "      <td>374.11</td>\n",
       "    </tr>\n",
       "    <tr>\n",
       "      <th>11</th>\n",
       "      <td>404.59</td>\n",
       "    </tr>\n",
       "    <tr>\n",
       "      <th>...</th>\n",
       "      <th>...</th>\n",
       "      <td>...</td>\n",
       "    </tr>\n",
       "    <tr>\n",
       "      <th>1498</th>\n",
       "      <th>12</th>\n",
       "      <td>324.77</td>\n",
       "    </tr>\n",
       "    <tr>\n",
       "      <th rowspan=\"4\" valign=\"top\">1499</th>\n",
       "      <th>9</th>\n",
       "      <td>330.37</td>\n",
       "    </tr>\n",
       "    <tr>\n",
       "      <th>10</th>\n",
       "      <td>363.28</td>\n",
       "    </tr>\n",
       "    <tr>\n",
       "      <th>11</th>\n",
       "      <td>288.56</td>\n",
       "    </tr>\n",
       "    <tr>\n",
       "      <th>12</th>\n",
       "      <td>468.10</td>\n",
       "    </tr>\n",
       "  </tbody>\n",
       "</table>\n",
       "<p>2258 rows × 1 columns</p>\n",
       "</div>"
      ],
      "text/plain": [
       "               total_minutes\n",
       "user_id month               \n",
       "1000    12            116.83\n",
       "1001    8             171.14\n",
       "        9             297.69\n",
       "        10            374.11\n",
       "        11            404.59\n",
       "...                      ...\n",
       "1498    12            324.77\n",
       "1499    9             330.37\n",
       "        10            363.28\n",
       "        11            288.56\n",
       "        12            468.10\n",
       "\n",
       "[2258 rows x 1 columns]"
      ]
     },
     "execution_count": 17,
     "metadata": {},
     "output_type": "execute_result"
    }
   ],
   "source": [
    "# Minutos usados al mes\n",
    "total_min = calls.pivot_table(\n",
    "    index=[\"user_id\", \"month\"],\n",
    "    values=\"duration\",\n",
    "    aggfunc=\"sum\"\n",
    ")\n",
    "total_min = total_min.rename(columns={\n",
    "    'duration': 'total_minutes'    \n",
    "})\n",
    "\n",
    "total_min"
   ]
  },
  {
   "cell_type": "code",
   "execution_count": 18,
   "id": "5be11e5b",
   "metadata": {
    "scrolled": true
   },
   "outputs": [
    {
     "data": {
      "text/html": [
       "<div>\n",
       "<style scoped>\n",
       "    .dataframe tbody tr th:only-of-type {\n",
       "        vertical-align: middle;\n",
       "    }\n",
       "\n",
       "    .dataframe tbody tr th {\n",
       "        vertical-align: top;\n",
       "    }\n",
       "\n",
       "    .dataframe thead th {\n",
       "        text-align: right;\n",
       "    }\n",
       "</style>\n",
       "<table border=\"1\" class=\"dataframe\">\n",
       "  <thead>\n",
       "    <tr style=\"text-align: right;\">\n",
       "      <th></th>\n",
       "      <th></th>\n",
       "      <th>total_calls</th>\n",
       "    </tr>\n",
       "    <tr>\n",
       "      <th>user_id</th>\n",
       "      <th>month</th>\n",
       "      <th></th>\n",
       "    </tr>\n",
       "  </thead>\n",
       "  <tbody>\n",
       "    <tr>\n",
       "      <th>1000</th>\n",
       "      <th>12</th>\n",
       "      <td>16</td>\n",
       "    </tr>\n",
       "    <tr>\n",
       "      <th rowspan=\"4\" valign=\"top\">1001</th>\n",
       "      <th>8</th>\n",
       "      <td>27</td>\n",
       "    </tr>\n",
       "    <tr>\n",
       "      <th>9</th>\n",
       "      <td>49</td>\n",
       "    </tr>\n",
       "    <tr>\n",
       "      <th>10</th>\n",
       "      <td>65</td>\n",
       "    </tr>\n",
       "    <tr>\n",
       "      <th>11</th>\n",
       "      <td>64</td>\n",
       "    </tr>\n",
       "    <tr>\n",
       "      <th>...</th>\n",
       "      <th>...</th>\n",
       "      <td>...</td>\n",
       "    </tr>\n",
       "    <tr>\n",
       "      <th>1498</th>\n",
       "      <th>12</th>\n",
       "      <td>39</td>\n",
       "    </tr>\n",
       "    <tr>\n",
       "      <th rowspan=\"4\" valign=\"top\">1499</th>\n",
       "      <th>9</th>\n",
       "      <td>41</td>\n",
       "    </tr>\n",
       "    <tr>\n",
       "      <th>10</th>\n",
       "      <td>53</td>\n",
       "    </tr>\n",
       "    <tr>\n",
       "      <th>11</th>\n",
       "      <td>45</td>\n",
       "    </tr>\n",
       "    <tr>\n",
       "      <th>12</th>\n",
       "      <td>65</td>\n",
       "    </tr>\n",
       "  </tbody>\n",
       "</table>\n",
       "<p>2258 rows × 1 columns</p>\n",
       "</div>"
      ],
      "text/plain": [
       "               total_calls\n",
       "user_id month             \n",
       "1000    12              16\n",
       "1001    8               27\n",
       "        9               49\n",
       "        10              65\n",
       "        11              64\n",
       "...                    ...\n",
       "1498    12              39\n",
       "1499    9               41\n",
       "        10              53\n",
       "        11              45\n",
       "        12              65\n",
       "\n",
       "[2258 rows x 1 columns]"
      ]
     },
     "execution_count": 18,
     "metadata": {},
     "output_type": "execute_result"
    }
   ],
   "source": [
    "# Número de llamadas por usuario\n",
    "total_calls = calls.pivot_table(\n",
    "    index=[\"user_id\", \"month\"],\n",
    "    values=\"id\",\n",
    "    aggfunc=\"count\"\n",
    ")\n",
    "total_calls = total_calls.rename(columns={\n",
    "    'id': 'total_calls'    \n",
    "})\n",
    "total_calls"
   ]
  },
  {
   "cell_type": "code",
   "execution_count": 19,
   "id": "c300f8a8",
   "metadata": {
    "scrolled": true
   },
   "outputs": [
    {
     "data": {
      "text/html": [
       "<div>\n",
       "<style scoped>\n",
       "    .dataframe tbody tr th:only-of-type {\n",
       "        vertical-align: middle;\n",
       "    }\n",
       "\n",
       "    .dataframe tbody tr th {\n",
       "        vertical-align: top;\n",
       "    }\n",
       "\n",
       "    .dataframe thead th {\n",
       "        text-align: right;\n",
       "    }\n",
       "</style>\n",
       "<table border=\"1\" class=\"dataframe\">\n",
       "  <thead>\n",
       "    <tr style=\"text-align: right;\">\n",
       "      <th></th>\n",
       "      <th></th>\n",
       "      <th>total_messages</th>\n",
       "    </tr>\n",
       "    <tr>\n",
       "      <th>user_id</th>\n",
       "      <th>month</th>\n",
       "      <th></th>\n",
       "    </tr>\n",
       "  </thead>\n",
       "  <tbody>\n",
       "    <tr>\n",
       "      <th>1000</th>\n",
       "      <th>12</th>\n",
       "      <td>16</td>\n",
       "    </tr>\n",
       "    <tr>\n",
       "      <th rowspan=\"4\" valign=\"top\">1001</th>\n",
       "      <th>8</th>\n",
       "      <td>27</td>\n",
       "    </tr>\n",
       "    <tr>\n",
       "      <th>9</th>\n",
       "      <td>49</td>\n",
       "    </tr>\n",
       "    <tr>\n",
       "      <th>10</th>\n",
       "      <td>65</td>\n",
       "    </tr>\n",
       "    <tr>\n",
       "      <th>11</th>\n",
       "      <td>64</td>\n",
       "    </tr>\n",
       "    <tr>\n",
       "      <th>...</th>\n",
       "      <th>...</th>\n",
       "      <td>...</td>\n",
       "    </tr>\n",
       "    <tr>\n",
       "      <th>1498</th>\n",
       "      <th>12</th>\n",
       "      <td>39</td>\n",
       "    </tr>\n",
       "    <tr>\n",
       "      <th rowspan=\"4\" valign=\"top\">1499</th>\n",
       "      <th>9</th>\n",
       "      <td>41</td>\n",
       "    </tr>\n",
       "    <tr>\n",
       "      <th>10</th>\n",
       "      <td>53</td>\n",
       "    </tr>\n",
       "    <tr>\n",
       "      <th>11</th>\n",
       "      <td>45</td>\n",
       "    </tr>\n",
       "    <tr>\n",
       "      <th>12</th>\n",
       "      <td>65</td>\n",
       "    </tr>\n",
       "  </tbody>\n",
       "</table>\n",
       "<p>2258 rows × 1 columns</p>\n",
       "</div>"
      ],
      "text/plain": [
       "               total_messages\n",
       "user_id month                \n",
       "1000    12                 16\n",
       "1001    8                  27\n",
       "        9                  49\n",
       "        10                 65\n",
       "        11                 64\n",
       "...                       ...\n",
       "1498    12                 39\n",
       "1499    9                  41\n",
       "        10                 53\n",
       "        11                 45\n",
       "        12                 65\n",
       "\n",
       "[2258 rows x 1 columns]"
      ]
     },
     "execution_count": 19,
     "metadata": {},
     "output_type": "execute_result"
    }
   ],
   "source": [
    "# cantidad de los SMS enviados por mes\n",
    "total_messages = calls.pivot_table(\n",
    "    index=[\"user_id\", \"month\"],\n",
    "    values=\"id\",\n",
    "    aggfunc=\"count\"\n",
    ")\n",
    "total_messages = total_messages.rename(columns={\n",
    "    'id': 'total_messages'    \n",
    "})\n",
    "total_messages"
   ]
  },
  {
   "cell_type": "code",
   "execution_count": 20,
   "id": "ec6d51fe",
   "metadata": {
    "scrolled": false
   },
   "outputs": [
    {
     "data": {
      "text/html": [
       "<div>\n",
       "<style scoped>\n",
       "    .dataframe tbody tr th:only-of-type {\n",
       "        vertical-align: middle;\n",
       "    }\n",
       "\n",
       "    .dataframe tbody tr th {\n",
       "        vertical-align: top;\n",
       "    }\n",
       "\n",
       "    .dataframe thead th {\n",
       "        text-align: right;\n",
       "    }\n",
       "</style>\n",
       "<table border=\"1\" class=\"dataframe\">\n",
       "  <thead>\n",
       "    <tr style=\"text-align: right;\">\n",
       "      <th></th>\n",
       "      <th></th>\n",
       "      <th>total_gb</th>\n",
       "    </tr>\n",
       "    <tr>\n",
       "      <th>user_id</th>\n",
       "      <th>month</th>\n",
       "      <th></th>\n",
       "    </tr>\n",
       "  </thead>\n",
       "  <tbody>\n",
       "    <tr>\n",
       "      <th>1000</th>\n",
       "      <th>12</th>\n",
       "      <td>2.0</td>\n",
       "    </tr>\n",
       "    <tr>\n",
       "      <th rowspan=\"4\" valign=\"top\">1001</th>\n",
       "      <th>8</th>\n",
       "      <td>7.0</td>\n",
       "    </tr>\n",
       "    <tr>\n",
       "      <th>9</th>\n",
       "      <td>14.0</td>\n",
       "    </tr>\n",
       "    <tr>\n",
       "      <th>10</th>\n",
       "      <td>22.0</td>\n",
       "    </tr>\n",
       "    <tr>\n",
       "      <th>11</th>\n",
       "      <td>19.0</td>\n",
       "    </tr>\n",
       "    <tr>\n",
       "      <th>...</th>\n",
       "      <th>...</th>\n",
       "      <td>...</td>\n",
       "    </tr>\n",
       "    <tr>\n",
       "      <th>1498</th>\n",
       "      <th>12</th>\n",
       "      <td>23.0</td>\n",
       "    </tr>\n",
       "    <tr>\n",
       "      <th rowspan=\"4\" valign=\"top\">1499</th>\n",
       "      <th>9</th>\n",
       "      <td>13.0</td>\n",
       "    </tr>\n",
       "    <tr>\n",
       "      <th>10</th>\n",
       "      <td>20.0</td>\n",
       "    </tr>\n",
       "    <tr>\n",
       "      <th>11</th>\n",
       "      <td>17.0</td>\n",
       "    </tr>\n",
       "    <tr>\n",
       "      <th>12</th>\n",
       "      <td>22.0</td>\n",
       "    </tr>\n",
       "  </tbody>\n",
       "</table>\n",
       "<p>2277 rows × 1 columns</p>\n",
       "</div>"
      ],
      "text/plain": [
       "               total_gb\n",
       "user_id month          \n",
       "1000    12          2.0\n",
       "1001    8           7.0\n",
       "        9          14.0\n",
       "        10         22.0\n",
       "        11         19.0\n",
       "...                 ...\n",
       "1498    12         23.0\n",
       "1499    9          13.0\n",
       "        10         20.0\n",
       "        11         17.0\n",
       "        12         22.0\n",
       "\n",
       "[2277 rows x 1 columns]"
      ]
     },
     "execution_count": 20,
     "metadata": {},
     "output_type": "execute_result"
    }
   ],
   "source": [
    "# volumen de datos por mes\n",
    "total_gb = internet.pivot_table(\n",
    "    index=[\"user_id\", \"month\"],\n",
    "    values=\"mb_used\",\n",
    "    aggfunc=\"sum\"\n",
    ")\n",
    "total_gb = total_gb.rename(columns={\n",
    "    'mb_used': 'total_gb'    \n",
    "})\n",
    "total_gb = np.ceil(total_gb / 1024)\n",
    "total_gb"
   ]
  },
  {
   "cell_type": "markdown",
   "id": "12ee0b9b",
   "metadata": {},
   "source": [
    "Ahora, para conocer el ingreso adicional por mes de los usuarios, arreglemos un poco nuestras tablas. Lo primero que vamos a hacer es renombrar la columna plan_name de la tabla plans, para que el nombre coicida con el de la tabla users y así podamos fusionarlas con másfacilidad."
   ]
  },
  {
   "cell_type": "code",
   "execution_count": 21,
   "id": "65c37dd9",
   "metadata": {},
   "outputs": [
    {
     "data": {
      "text/html": [
       "<div>\n",
       "<style scoped>\n",
       "    .dataframe tbody tr th:only-of-type {\n",
       "        vertical-align: middle;\n",
       "    }\n",
       "\n",
       "    .dataframe tbody tr th {\n",
       "        vertical-align: top;\n",
       "    }\n",
       "\n",
       "    .dataframe thead th {\n",
       "        text-align: right;\n",
       "    }\n",
       "</style>\n",
       "<table border=\"1\" class=\"dataframe\">\n",
       "  <thead>\n",
       "    <tr style=\"text-align: right;\">\n",
       "      <th></th>\n",
       "      <th>messages_included</th>\n",
       "      <th>mb_per_month_included</th>\n",
       "      <th>minutes_included</th>\n",
       "      <th>usd_monthly_pay</th>\n",
       "      <th>usd_per_gb</th>\n",
       "      <th>usd_per_message</th>\n",
       "      <th>usd_per_minute</th>\n",
       "      <th>plan</th>\n",
       "    </tr>\n",
       "  </thead>\n",
       "  <tbody>\n",
       "    <tr>\n",
       "      <th>0</th>\n",
       "      <td>50</td>\n",
       "      <td>15360</td>\n",
       "      <td>500</td>\n",
       "      <td>20</td>\n",
       "      <td>10</td>\n",
       "      <td>0.03</td>\n",
       "      <td>0.03</td>\n",
       "      <td>surf</td>\n",
       "    </tr>\n",
       "    <tr>\n",
       "      <th>1</th>\n",
       "      <td>1000</td>\n",
       "      <td>30720</td>\n",
       "      <td>3000</td>\n",
       "      <td>70</td>\n",
       "      <td>7</td>\n",
       "      <td>0.01</td>\n",
       "      <td>0.01</td>\n",
       "      <td>ultimate</td>\n",
       "    </tr>\n",
       "  </tbody>\n",
       "</table>\n",
       "</div>"
      ],
      "text/plain": [
       "   messages_included  mb_per_month_included  minutes_included  \\\n",
       "0                 50                  15360               500   \n",
       "1               1000                  30720              3000   \n",
       "\n",
       "   usd_monthly_pay  usd_per_gb  usd_per_message  usd_per_minute      plan  \n",
       "0               20          10             0.03            0.03      surf  \n",
       "1               70           7             0.01            0.01  ultimate  "
      ]
     },
     "execution_count": 21,
     "metadata": {},
     "output_type": "execute_result"
    }
   ],
   "source": [
    "plans = plans.rename(columns={\n",
    "    'plan_name': 'plan'    \n",
    "})\n",
    "plans.head()"
   ]
  },
  {
   "cell_type": "markdown",
   "id": "c733110b",
   "metadata": {},
   "source": [
    "# 4.2 Fusionando las tablas\n",
    "\n",
    "Ahora, vamos a fusionar todas las tablas en una sola para encontrar los ingresos extra por plan. Comenzaremos por las tablas total_min, Total_messages y total_gb, conservando como índice user_id y month. Usaremos el método de pandas concat"
   ]
  },
  {
   "cell_type": "code",
   "execution_count": 22,
   "id": "10b639e6",
   "metadata": {
    "scrolled": false
   },
   "outputs": [
    {
     "data": {
      "text/html": [
       "<div>\n",
       "<style scoped>\n",
       "    .dataframe tbody tr th:only-of-type {\n",
       "        vertical-align: middle;\n",
       "    }\n",
       "\n",
       "    .dataframe tbody tr th {\n",
       "        vertical-align: top;\n",
       "    }\n",
       "\n",
       "    .dataframe thead th {\n",
       "        text-align: right;\n",
       "    }\n",
       "</style>\n",
       "<table border=\"1\" class=\"dataframe\">\n",
       "  <thead>\n",
       "    <tr style=\"text-align: right;\">\n",
       "      <th></th>\n",
       "      <th></th>\n",
       "      <th>total_minutes</th>\n",
       "      <th>total_messages</th>\n",
       "      <th>total_gb</th>\n",
       "    </tr>\n",
       "    <tr>\n",
       "      <th>user_id</th>\n",
       "      <th>month</th>\n",
       "      <th></th>\n",
       "      <th></th>\n",
       "      <th></th>\n",
       "    </tr>\n",
       "  </thead>\n",
       "  <tbody>\n",
       "    <tr>\n",
       "      <th>1000</th>\n",
       "      <th>12</th>\n",
       "      <td>116.83</td>\n",
       "      <td>16.0</td>\n",
       "      <td>2.0</td>\n",
       "    </tr>\n",
       "    <tr>\n",
       "      <th rowspan=\"4\" valign=\"top\">1001</th>\n",
       "      <th>8</th>\n",
       "      <td>171.14</td>\n",
       "      <td>27.0</td>\n",
       "      <td>7.0</td>\n",
       "    </tr>\n",
       "    <tr>\n",
       "      <th>9</th>\n",
       "      <td>297.69</td>\n",
       "      <td>49.0</td>\n",
       "      <td>14.0</td>\n",
       "    </tr>\n",
       "    <tr>\n",
       "      <th>10</th>\n",
       "      <td>374.11</td>\n",
       "      <td>65.0</td>\n",
       "      <td>22.0</td>\n",
       "    </tr>\n",
       "    <tr>\n",
       "      <th>11</th>\n",
       "      <td>404.59</td>\n",
       "      <td>64.0</td>\n",
       "      <td>19.0</td>\n",
       "    </tr>\n",
       "    <tr>\n",
       "      <th>...</th>\n",
       "      <th>...</th>\n",
       "      <td>...</td>\n",
       "      <td>...</td>\n",
       "      <td>...</td>\n",
       "    </tr>\n",
       "    <tr>\n",
       "      <th>1498</th>\n",
       "      <th>12</th>\n",
       "      <td>324.77</td>\n",
       "      <td>39.0</td>\n",
       "      <td>23.0</td>\n",
       "    </tr>\n",
       "    <tr>\n",
       "      <th rowspan=\"4\" valign=\"top\">1499</th>\n",
       "      <th>9</th>\n",
       "      <td>330.37</td>\n",
       "      <td>41.0</td>\n",
       "      <td>13.0</td>\n",
       "    </tr>\n",
       "    <tr>\n",
       "      <th>10</th>\n",
       "      <td>363.28</td>\n",
       "      <td>53.0</td>\n",
       "      <td>20.0</td>\n",
       "    </tr>\n",
       "    <tr>\n",
       "      <th>11</th>\n",
       "      <td>288.56</td>\n",
       "      <td>45.0</td>\n",
       "      <td>17.0</td>\n",
       "    </tr>\n",
       "    <tr>\n",
       "      <th>12</th>\n",
       "      <td>468.10</td>\n",
       "      <td>65.0</td>\n",
       "      <td>22.0</td>\n",
       "    </tr>\n",
       "  </tbody>\n",
       "</table>\n",
       "<p>2292 rows × 3 columns</p>\n",
       "</div>"
      ],
      "text/plain": [
       "               total_minutes  total_messages  total_gb\n",
       "user_id month                                         \n",
       "1000    12            116.83            16.0       2.0\n",
       "1001    8             171.14            27.0       7.0\n",
       "        9             297.69            49.0      14.0\n",
       "        10            374.11            65.0      22.0\n",
       "        11            404.59            64.0      19.0\n",
       "...                      ...             ...       ...\n",
       "1498    12            324.77            39.0      23.0\n",
       "1499    9             330.37            41.0      13.0\n",
       "        10            363.28            53.0      20.0\n",
       "        11            288.56            45.0      17.0\n",
       "        12            468.10            65.0      22.0\n",
       "\n",
       "[2292 rows x 3 columns]"
      ]
     },
     "execution_count": 22,
     "metadata": {},
     "output_type": "execute_result"
    }
   ],
   "source": [
    "merged_data = pd.concat([total_min, total_messages, total_gb], axis=1)\n",
    "\n",
    "merged_data"
   ]
  },
  {
   "cell_type": "code",
   "execution_count": 23,
   "id": "d786c358",
   "metadata": {},
   "outputs": [
    {
     "name": "stdout",
     "output_type": "stream",
     "text": [
      "<class 'pandas.core.frame.DataFrame'>\n",
      "MultiIndex: 2292 entries, (1000, 12) to (1499, 12)\n",
      "Data columns (total 3 columns):\n",
      " #   Column          Non-Null Count  Dtype  \n",
      "---  ------          --------------  -----  \n",
      " 0   total_minutes   2258 non-null   float64\n",
      " 1   total_messages  2258 non-null   float64\n",
      " 2   total_gb        2277 non-null   float64\n",
      "dtypes: float64(3)\n",
      "memory usage: 80.9 KB\n"
     ]
    }
   ],
   "source": [
    "merged_data.info()"
   ]
  },
  {
   "cell_type": "markdown",
   "id": "ae38c381",
   "metadata": {},
   "source": [
    "Vemos que, luego de la fusión, tenemos algunos valores nulos en las columnas total_minutes, total_messages y total_gb. que sabemos son de los clientes que no consumieron nada de sus minutos, mensajes o datos, por eso, vamos a sustituirlos por 0"
   ]
  },
  {
   "cell_type": "code",
   "execution_count": 24,
   "id": "9e3af450",
   "metadata": {
    "scrolled": true
   },
   "outputs": [
    {
     "name": "stdout",
     "output_type": "stream",
     "text": [
      "<class 'pandas.core.frame.DataFrame'>\n",
      "MultiIndex: 2292 entries, (1000, 12) to (1499, 12)\n",
      "Data columns (total 3 columns):\n",
      " #   Column          Non-Null Count  Dtype  \n",
      "---  ------          --------------  -----  \n",
      " 0   total_minutes   2292 non-null   float64\n",
      " 1   total_messages  2292 non-null   float64\n",
      " 2   total_gb        2292 non-null   float64\n",
      "dtypes: float64(3)\n",
      "memory usage: 80.9 KB\n"
     ]
    }
   ],
   "source": [
    "columns_to_fill = ['total_minutes', 'total_messages', 'total_gb']\n",
    "for column in columns_to_fill:\n",
    "    merged_data[column] = merged_data[column].fillna(0)\n",
    "\n",
    "merged_data.info()"
   ]
  },
  {
   "cell_type": "markdown",
   "id": "9568e539",
   "metadata": {},
   "source": [
    "Unimos ahora la tabla resultante con la tabla users, para vincular así la información agrupada por mes a cada usuario"
   ]
  },
  {
   "cell_type": "code",
   "execution_count": 25,
   "id": "a4614bba",
   "metadata": {
    "scrolled": false
   },
   "outputs": [
    {
     "name": "stdout",
     "output_type": "stream",
     "text": [
      "<class 'pandas.core.frame.DataFrame'>\n",
      "MultiIndex: 2292 entries, (1000, 12) to (1499, 12)\n",
      "Data columns (total 10 columns):\n",
      " #   Column          Non-Null Count  Dtype         \n",
      "---  ------          --------------  -----         \n",
      " 0   total_minutes   2292 non-null   float64       \n",
      " 1   total_messages  2292 non-null   float64       \n",
      " 2   total_gb        2292 non-null   float64       \n",
      " 3   first_name      2292 non-null   object        \n",
      " 4   last_name       2292 non-null   object        \n",
      " 5   age             2292 non-null   int64         \n",
      " 6   city            2292 non-null   object        \n",
      " 7   reg_date        2292 non-null   datetime64[ns]\n",
      " 8   plan            2292 non-null   object        \n",
      " 9   churn_date      158 non-null    datetime64[ns]\n",
      "dtypes: datetime64[ns](2), float64(3), int64(1), object(4)\n",
      "memory usage: 206.3+ KB\n"
     ]
    }
   ],
   "source": [
    "merged_data = merged_data.join(users.set_index('user_id'), on='user_id')\n",
    "merged_data.info()"
   ]
  },
  {
   "cell_type": "code",
   "execution_count": 26,
   "id": "0dab2020",
   "metadata": {
    "scrolled": false
   },
   "outputs": [],
   "source": [
    "# merged_data = merged_data.merge(users.set_index('user_id'), on='user_id', how='outer')\n",
    "# merged_data.info()"
   ]
  },
  {
   "cell_type": "markdown",
   "id": "21be8e6a",
   "metadata": {},
   "source": [
    "Por último, uniremos nuestra nueva tabla con la tabla plans, para así poder calcular los ingresos adcionales de cada usuario restando el límite del plan del número total de llamadas, SMS y datos. Ese resultado, lo multiplicaremos por el valor de tarifa de llamadas mensajes y datos adicionales."
   ]
  },
  {
   "cell_type": "code",
   "execution_count": 27,
   "id": "55de6768",
   "metadata": {
    "scrolled": false
   },
   "outputs": [
    {
     "name": "stdout",
     "output_type": "stream",
     "text": [
      "<class 'pandas.core.frame.DataFrame'>\n",
      "MultiIndex: 2292 entries, (1000, 12) to (1499, 12)\n",
      "Data columns (total 17 columns):\n",
      " #   Column                 Non-Null Count  Dtype         \n",
      "---  ------                 --------------  -----         \n",
      " 0   total_minutes          2292 non-null   float64       \n",
      " 1   total_messages         2292 non-null   float64       \n",
      " 2   total_gb               2292 non-null   float64       \n",
      " 3   first_name             2292 non-null   object        \n",
      " 4   last_name              2292 non-null   object        \n",
      " 5   age                    2292 non-null   int64         \n",
      " 6   city                   2292 non-null   object        \n",
      " 7   reg_date               2292 non-null   datetime64[ns]\n",
      " 8   plan                   2292 non-null   object        \n",
      " 9   churn_date             158 non-null    datetime64[ns]\n",
      " 10  messages_included      2292 non-null   int64         \n",
      " 11  mb_per_month_included  2292 non-null   int64         \n",
      " 12  minutes_included       2292 non-null   int64         \n",
      " 13  usd_monthly_pay        2292 non-null   int64         \n",
      " 14  usd_per_gb             2292 non-null   int64         \n",
      " 15  usd_per_message        2292 non-null   float64       \n",
      " 16  usd_per_minute         2292 non-null   float64       \n",
      "dtypes: datetime64[ns](2), float64(5), int64(6), object(4)\n",
      "memory usage: 331.6+ KB\n"
     ]
    }
   ],
   "source": [
    "merged_data = merged_data.join(plans.set_index('plan'), on='plan', how='outer')\n",
    "merged_data.info()"
   ]
  },
  {
   "cell_type": "code",
   "execution_count": 28,
   "id": "d6eb5837",
   "metadata": {},
   "outputs": [],
   "source": [
    "# merged_data = merged_data.merge(plans.set_index('plan'), on='plan', how='outer')\n",
    "# merged_data.info()"
   ]
  },
  {
   "cell_type": "markdown",
   "id": "92a5972a",
   "metadata": {},
   "source": [
    "# 4.3 Calculando el consumo\n",
    "\n",
    "Calculemos el consumo adicional por usuario, restando el límite del plan al número total de llamadas, SMS y datos de cada usuario, para identificar a los que exceden lo que incluye su plan. El resultado lo agregaremos en las nuevas columnas calls_income, messages_income y gb_income"
   ]
  },
  {
   "cell_type": "code",
   "execution_count": 29,
   "id": "145cc0fa",
   "metadata": {},
   "outputs": [
    {
     "data": {
      "text/html": [
       "<div>\n",
       "<style scoped>\n",
       "    .dataframe tbody tr th:only-of-type {\n",
       "        vertical-align: middle;\n",
       "    }\n",
       "\n",
       "    .dataframe tbody tr th {\n",
       "        vertical-align: top;\n",
       "    }\n",
       "\n",
       "    .dataframe thead th {\n",
       "        text-align: right;\n",
       "    }\n",
       "</style>\n",
       "<table border=\"1\" class=\"dataframe\">\n",
       "  <thead>\n",
       "    <tr style=\"text-align: right;\">\n",
       "      <th></th>\n",
       "      <th></th>\n",
       "      <th>total_minutes</th>\n",
       "      <th>total_messages</th>\n",
       "      <th>total_gb</th>\n",
       "      <th>first_name</th>\n",
       "      <th>last_name</th>\n",
       "      <th>age</th>\n",
       "      <th>city</th>\n",
       "      <th>reg_date</th>\n",
       "      <th>plan</th>\n",
       "      <th>churn_date</th>\n",
       "      <th>messages_included</th>\n",
       "      <th>mb_per_month_included</th>\n",
       "      <th>minutes_included</th>\n",
       "      <th>usd_monthly_pay</th>\n",
       "      <th>usd_per_gb</th>\n",
       "      <th>usd_per_message</th>\n",
       "      <th>usd_per_minute</th>\n",
       "      <th>minutes_extra</th>\n",
       "      <th>messages_extra</th>\n",
       "      <th>gb_extra</th>\n",
       "    </tr>\n",
       "    <tr>\n",
       "      <th>user_id</th>\n",
       "      <th>month</th>\n",
       "      <th></th>\n",
       "      <th></th>\n",
       "      <th></th>\n",
       "      <th></th>\n",
       "      <th></th>\n",
       "      <th></th>\n",
       "      <th></th>\n",
       "      <th></th>\n",
       "      <th></th>\n",
       "      <th></th>\n",
       "      <th></th>\n",
       "      <th></th>\n",
       "      <th></th>\n",
       "      <th></th>\n",
       "      <th></th>\n",
       "      <th></th>\n",
       "      <th></th>\n",
       "      <th></th>\n",
       "      <th></th>\n",
       "      <th></th>\n",
       "    </tr>\n",
       "  </thead>\n",
       "  <tbody>\n",
       "    <tr>\n",
       "      <th>1000</th>\n",
       "      <th>12</th>\n",
       "      <td>116.83</td>\n",
       "      <td>16.0</td>\n",
       "      <td>2.0</td>\n",
       "      <td>Anamaria</td>\n",
       "      <td>Bauer</td>\n",
       "      <td>45</td>\n",
       "      <td>Atlanta-Sandy Springs-Roswell, GA MSA</td>\n",
       "      <td>2018-12-24</td>\n",
       "      <td>ultimate</td>\n",
       "      <td>NaT</td>\n",
       "      <td>1000</td>\n",
       "      <td>30720</td>\n",
       "      <td>3000</td>\n",
       "      <td>70</td>\n",
       "      <td>7</td>\n",
       "      <td>0.01</td>\n",
       "      <td>0.01</td>\n",
       "      <td>-2883.17</td>\n",
       "      <td>-984.0</td>\n",
       "      <td>-28.0</td>\n",
       "    </tr>\n",
       "    <tr>\n",
       "      <th rowspan=\"2\" valign=\"top\">1006</th>\n",
       "      <th>11</th>\n",
       "      <td>9.32</td>\n",
       "      <td>2.0</td>\n",
       "      <td>3.0</td>\n",
       "      <td>Jesusa</td>\n",
       "      <td>Bradford</td>\n",
       "      <td>73</td>\n",
       "      <td>San Francisco-Oakland-Berkeley, CA MSA</td>\n",
       "      <td>2018-11-27</td>\n",
       "      <td>ultimate</td>\n",
       "      <td>2018-12-18</td>\n",
       "      <td>1000</td>\n",
       "      <td>30720</td>\n",
       "      <td>3000</td>\n",
       "      <td>70</td>\n",
       "      <td>7</td>\n",
       "      <td>0.01</td>\n",
       "      <td>0.01</td>\n",
       "      <td>-2990.68</td>\n",
       "      <td>-998.0</td>\n",
       "      <td>-27.0</td>\n",
       "    </tr>\n",
       "    <tr>\n",
       "      <th>12</th>\n",
       "      <td>54.79</td>\n",
       "      <td>9.0</td>\n",
       "      <td>32.0</td>\n",
       "      <td>Jesusa</td>\n",
       "      <td>Bradford</td>\n",
       "      <td>73</td>\n",
       "      <td>San Francisco-Oakland-Berkeley, CA MSA</td>\n",
       "      <td>2018-11-27</td>\n",
       "      <td>ultimate</td>\n",
       "      <td>2018-12-18</td>\n",
       "      <td>1000</td>\n",
       "      <td>30720</td>\n",
       "      <td>3000</td>\n",
       "      <td>70</td>\n",
       "      <td>7</td>\n",
       "      <td>0.01</td>\n",
       "      <td>0.01</td>\n",
       "      <td>-2945.21</td>\n",
       "      <td>-991.0</td>\n",
       "      <td>2.0</td>\n",
       "    </tr>\n",
       "    <tr>\n",
       "      <th rowspan=\"2\" valign=\"top\">1008</th>\n",
       "      <th>10</th>\n",
       "      <td>450.21</td>\n",
       "      <td>71.0</td>\n",
       "      <td>17.0</td>\n",
       "      <td>Emely</td>\n",
       "      <td>Hoffman</td>\n",
       "      <td>53</td>\n",
       "      <td>Orlando-Kissimmee-Sanford, FL MSA</td>\n",
       "      <td>2018-08-03</td>\n",
       "      <td>ultimate</td>\n",
       "      <td>NaT</td>\n",
       "      <td>1000</td>\n",
       "      <td>30720</td>\n",
       "      <td>3000</td>\n",
       "      <td>70</td>\n",
       "      <td>7</td>\n",
       "      <td>0.01</td>\n",
       "      <td>0.01</td>\n",
       "      <td>-2549.79</td>\n",
       "      <td>-929.0</td>\n",
       "      <td>-13.0</td>\n",
       "    </tr>\n",
       "    <tr>\n",
       "      <th>11</th>\n",
       "      <td>422.81</td>\n",
       "      <td>63.0</td>\n",
       "      <td>24.0</td>\n",
       "      <td>Emely</td>\n",
       "      <td>Hoffman</td>\n",
       "      <td>53</td>\n",
       "      <td>Orlando-Kissimmee-Sanford, FL MSA</td>\n",
       "      <td>2018-08-03</td>\n",
       "      <td>ultimate</td>\n",
       "      <td>NaT</td>\n",
       "      <td>1000</td>\n",
       "      <td>30720</td>\n",
       "      <td>3000</td>\n",
       "      <td>70</td>\n",
       "      <td>7</td>\n",
       "      <td>0.01</td>\n",
       "      <td>0.01</td>\n",
       "      <td>-2577.19</td>\n",
       "      <td>-937.0</td>\n",
       "      <td>-6.0</td>\n",
       "    </tr>\n",
       "  </tbody>\n",
       "</table>\n",
       "</div>"
      ],
      "text/plain": [
       "               total_minutes  total_messages  total_gb first_name last_name  \\\n",
       "user_id month                                                                 \n",
       "1000    12            116.83            16.0       2.0   Anamaria     Bauer   \n",
       "1006    11              9.32             2.0       3.0     Jesusa  Bradford   \n",
       "        12             54.79             9.0      32.0     Jesusa  Bradford   \n",
       "1008    10            450.21            71.0      17.0      Emely   Hoffman   \n",
       "        11            422.81            63.0      24.0      Emely   Hoffman   \n",
       "\n",
       "               age                                    city   reg_date  \\\n",
       "user_id month                                                           \n",
       "1000    12      45   Atlanta-Sandy Springs-Roswell, GA MSA 2018-12-24   \n",
       "1006    11      73  San Francisco-Oakland-Berkeley, CA MSA 2018-11-27   \n",
       "        12      73  San Francisco-Oakland-Berkeley, CA MSA 2018-11-27   \n",
       "1008    10      53       Orlando-Kissimmee-Sanford, FL MSA 2018-08-03   \n",
       "        11      53       Orlando-Kissimmee-Sanford, FL MSA 2018-08-03   \n",
       "\n",
       "                   plan churn_date  messages_included  mb_per_month_included  \\\n",
       "user_id month                                                                  \n",
       "1000    12     ultimate        NaT               1000                  30720   \n",
       "1006    11     ultimate 2018-12-18               1000                  30720   \n",
       "        12     ultimate 2018-12-18               1000                  30720   \n",
       "1008    10     ultimate        NaT               1000                  30720   \n",
       "        11     ultimate        NaT               1000                  30720   \n",
       "\n",
       "               minutes_included  usd_monthly_pay  usd_per_gb  usd_per_message  \\\n",
       "user_id month                                                                   \n",
       "1000    12                 3000               70           7             0.01   \n",
       "1006    11                 3000               70           7             0.01   \n",
       "        12                 3000               70           7             0.01   \n",
       "1008    10                 3000               70           7             0.01   \n",
       "        11                 3000               70           7             0.01   \n",
       "\n",
       "               usd_per_minute  minutes_extra  messages_extra  gb_extra  \n",
       "user_id month                                                           \n",
       "1000    12               0.01       -2883.17          -984.0     -28.0  \n",
       "1006    11               0.01       -2990.68          -998.0     -27.0  \n",
       "        12               0.01       -2945.21          -991.0       2.0  \n",
       "1008    10               0.01       -2549.79          -929.0     -13.0  \n",
       "        11               0.01       -2577.19          -937.0      -6.0  "
      ]
     },
     "execution_count": 29,
     "metadata": {},
     "output_type": "execute_result"
    }
   ],
   "source": [
    "merged_data['minutes_extra'] = merged_data['total_minutes'] - merged_data['minutes_included']\n",
    "merged_data['messages_extra'] = merged_data['total_messages'] - merged_data['messages_included']\n",
    "merged_data['gb_extra'] = merged_data['total_gb'] - (merged_data['mb_per_month_included'] / 1024)\n",
    "\n",
    "merged_data.head()"
   ]
  },
  {
   "cell_type": "markdown",
   "id": "dc048c0d",
   "metadata": {},
   "source": [
    "Arreglemos los valores negativos"
   ]
  },
  {
   "cell_type": "code",
   "execution_count": 30,
   "id": "813ef821",
   "metadata": {},
   "outputs": [
    {
     "data": {
      "text/html": [
       "<div>\n",
       "<style scoped>\n",
       "    .dataframe tbody tr th:only-of-type {\n",
       "        vertical-align: middle;\n",
       "    }\n",
       "\n",
       "    .dataframe tbody tr th {\n",
       "        vertical-align: top;\n",
       "    }\n",
       "\n",
       "    .dataframe thead th {\n",
       "        text-align: right;\n",
       "    }\n",
       "</style>\n",
       "<table border=\"1\" class=\"dataframe\">\n",
       "  <thead>\n",
       "    <tr style=\"text-align: right;\">\n",
       "      <th></th>\n",
       "      <th></th>\n",
       "      <th>total_minutes</th>\n",
       "      <th>total_messages</th>\n",
       "      <th>total_gb</th>\n",
       "      <th>first_name</th>\n",
       "      <th>last_name</th>\n",
       "      <th>age</th>\n",
       "      <th>city</th>\n",
       "      <th>reg_date</th>\n",
       "      <th>plan</th>\n",
       "      <th>churn_date</th>\n",
       "      <th>messages_included</th>\n",
       "      <th>mb_per_month_included</th>\n",
       "      <th>minutes_included</th>\n",
       "      <th>usd_monthly_pay</th>\n",
       "      <th>usd_per_gb</th>\n",
       "      <th>usd_per_message</th>\n",
       "      <th>usd_per_minute</th>\n",
       "      <th>minutes_extra</th>\n",
       "      <th>messages_extra</th>\n",
       "      <th>gb_extra</th>\n",
       "    </tr>\n",
       "    <tr>\n",
       "      <th>user_id</th>\n",
       "      <th>month</th>\n",
       "      <th></th>\n",
       "      <th></th>\n",
       "      <th></th>\n",
       "      <th></th>\n",
       "      <th></th>\n",
       "      <th></th>\n",
       "      <th></th>\n",
       "      <th></th>\n",
       "      <th></th>\n",
       "      <th></th>\n",
       "      <th></th>\n",
       "      <th></th>\n",
       "      <th></th>\n",
       "      <th></th>\n",
       "      <th></th>\n",
       "      <th></th>\n",
       "      <th></th>\n",
       "      <th></th>\n",
       "      <th></th>\n",
       "      <th></th>\n",
       "    </tr>\n",
       "  </thead>\n",
       "  <tbody>\n",
       "    <tr>\n",
       "      <th>1000</th>\n",
       "      <th>12</th>\n",
       "      <td>116.83</td>\n",
       "      <td>16.0</td>\n",
       "      <td>2.0</td>\n",
       "      <td>Anamaria</td>\n",
       "      <td>Bauer</td>\n",
       "      <td>45</td>\n",
       "      <td>Atlanta-Sandy Springs-Roswell, GA MSA</td>\n",
       "      <td>2018-12-24</td>\n",
       "      <td>ultimate</td>\n",
       "      <td>NaT</td>\n",
       "      <td>1000</td>\n",
       "      <td>30720</td>\n",
       "      <td>3000</td>\n",
       "      <td>70</td>\n",
       "      <td>7</td>\n",
       "      <td>0.01</td>\n",
       "      <td>0.01</td>\n",
       "      <td>0.0</td>\n",
       "      <td>-984.0</td>\n",
       "      <td>-28.0</td>\n",
       "    </tr>\n",
       "    <tr>\n",
       "      <th rowspan=\"2\" valign=\"top\">1006</th>\n",
       "      <th>11</th>\n",
       "      <td>9.32</td>\n",
       "      <td>2.0</td>\n",
       "      <td>3.0</td>\n",
       "      <td>Jesusa</td>\n",
       "      <td>Bradford</td>\n",
       "      <td>73</td>\n",
       "      <td>San Francisco-Oakland-Berkeley, CA MSA</td>\n",
       "      <td>2018-11-27</td>\n",
       "      <td>ultimate</td>\n",
       "      <td>2018-12-18</td>\n",
       "      <td>1000</td>\n",
       "      <td>30720</td>\n",
       "      <td>3000</td>\n",
       "      <td>70</td>\n",
       "      <td>7</td>\n",
       "      <td>0.01</td>\n",
       "      <td>0.01</td>\n",
       "      <td>0.0</td>\n",
       "      <td>-998.0</td>\n",
       "      <td>-27.0</td>\n",
       "    </tr>\n",
       "    <tr>\n",
       "      <th>12</th>\n",
       "      <td>54.79</td>\n",
       "      <td>9.0</td>\n",
       "      <td>32.0</td>\n",
       "      <td>Jesusa</td>\n",
       "      <td>Bradford</td>\n",
       "      <td>73</td>\n",
       "      <td>San Francisco-Oakland-Berkeley, CA MSA</td>\n",
       "      <td>2018-11-27</td>\n",
       "      <td>ultimate</td>\n",
       "      <td>2018-12-18</td>\n",
       "      <td>1000</td>\n",
       "      <td>30720</td>\n",
       "      <td>3000</td>\n",
       "      <td>70</td>\n",
       "      <td>7</td>\n",
       "      <td>0.01</td>\n",
       "      <td>0.01</td>\n",
       "      <td>0.0</td>\n",
       "      <td>-991.0</td>\n",
       "      <td>2.0</td>\n",
       "    </tr>\n",
       "    <tr>\n",
       "      <th rowspan=\"2\" valign=\"top\">1008</th>\n",
       "      <th>10</th>\n",
       "      <td>450.21</td>\n",
       "      <td>71.0</td>\n",
       "      <td>17.0</td>\n",
       "      <td>Emely</td>\n",
       "      <td>Hoffman</td>\n",
       "      <td>53</td>\n",
       "      <td>Orlando-Kissimmee-Sanford, FL MSA</td>\n",
       "      <td>2018-08-03</td>\n",
       "      <td>ultimate</td>\n",
       "      <td>NaT</td>\n",
       "      <td>1000</td>\n",
       "      <td>30720</td>\n",
       "      <td>3000</td>\n",
       "      <td>70</td>\n",
       "      <td>7</td>\n",
       "      <td>0.01</td>\n",
       "      <td>0.01</td>\n",
       "      <td>0.0</td>\n",
       "      <td>-929.0</td>\n",
       "      <td>-13.0</td>\n",
       "    </tr>\n",
       "    <tr>\n",
       "      <th>11</th>\n",
       "      <td>422.81</td>\n",
       "      <td>63.0</td>\n",
       "      <td>24.0</td>\n",
       "      <td>Emely</td>\n",
       "      <td>Hoffman</td>\n",
       "      <td>53</td>\n",
       "      <td>Orlando-Kissimmee-Sanford, FL MSA</td>\n",
       "      <td>2018-08-03</td>\n",
       "      <td>ultimate</td>\n",
       "      <td>NaT</td>\n",
       "      <td>1000</td>\n",
       "      <td>30720</td>\n",
       "      <td>3000</td>\n",
       "      <td>70</td>\n",
       "      <td>7</td>\n",
       "      <td>0.01</td>\n",
       "      <td>0.01</td>\n",
       "      <td>0.0</td>\n",
       "      <td>-937.0</td>\n",
       "      <td>-6.0</td>\n",
       "    </tr>\n",
       "  </tbody>\n",
       "</table>\n",
       "</div>"
      ],
      "text/plain": [
       "               total_minutes  total_messages  total_gb first_name last_name  \\\n",
       "user_id month                                                                 \n",
       "1000    12            116.83            16.0       2.0   Anamaria     Bauer   \n",
       "1006    11              9.32             2.0       3.0     Jesusa  Bradford   \n",
       "        12             54.79             9.0      32.0     Jesusa  Bradford   \n",
       "1008    10            450.21            71.0      17.0      Emely   Hoffman   \n",
       "        11            422.81            63.0      24.0      Emely   Hoffman   \n",
       "\n",
       "               age                                    city   reg_date  \\\n",
       "user_id month                                                           \n",
       "1000    12      45   Atlanta-Sandy Springs-Roswell, GA MSA 2018-12-24   \n",
       "1006    11      73  San Francisco-Oakland-Berkeley, CA MSA 2018-11-27   \n",
       "        12      73  San Francisco-Oakland-Berkeley, CA MSA 2018-11-27   \n",
       "1008    10      53       Orlando-Kissimmee-Sanford, FL MSA 2018-08-03   \n",
       "        11      53       Orlando-Kissimmee-Sanford, FL MSA 2018-08-03   \n",
       "\n",
       "                   plan churn_date  messages_included  mb_per_month_included  \\\n",
       "user_id month                                                                  \n",
       "1000    12     ultimate        NaT               1000                  30720   \n",
       "1006    11     ultimate 2018-12-18               1000                  30720   \n",
       "        12     ultimate 2018-12-18               1000                  30720   \n",
       "1008    10     ultimate        NaT               1000                  30720   \n",
       "        11     ultimate        NaT               1000                  30720   \n",
       "\n",
       "               minutes_included  usd_monthly_pay  usd_per_gb  usd_per_message  \\\n",
       "user_id month                                                                   \n",
       "1000    12                 3000               70           7             0.01   \n",
       "1006    11                 3000               70           7             0.01   \n",
       "        12                 3000               70           7             0.01   \n",
       "1008    10                 3000               70           7             0.01   \n",
       "        11                 3000               70           7             0.01   \n",
       "\n",
       "               usd_per_minute  minutes_extra  messages_extra  gb_extra  \n",
       "user_id month                                                           \n",
       "1000    12               0.01            0.0          -984.0     -28.0  \n",
       "1006    11               0.01            0.0          -998.0     -27.0  \n",
       "        12               0.01            0.0          -991.0       2.0  \n",
       "1008    10               0.01            0.0          -929.0     -13.0  \n",
       "        11               0.01            0.0          -937.0      -6.0  "
      ]
     },
     "execution_count": 30,
     "metadata": {},
     "output_type": "execute_result"
    }
   ],
   "source": [
    "def fix__minutes_extra(row):\n",
    "    minutes_extra = row['minutes_extra']    \n",
    "\n",
    "    if minutes_extra < 0:\n",
    "        return 0\n",
    "    return minutes_extra\n",
    "\n",
    "merged_data['minutes_extra'] = merged_data.apply(fix__minutes_extra, axis=1)\n",
    "\n",
    "merged_data.head()"
   ]
  },
  {
   "cell_type": "code",
   "execution_count": 31,
   "id": "f8111f1a",
   "metadata": {},
   "outputs": [
    {
     "data": {
      "text/html": [
       "<div>\n",
       "<style scoped>\n",
       "    .dataframe tbody tr th:only-of-type {\n",
       "        vertical-align: middle;\n",
       "    }\n",
       "\n",
       "    .dataframe tbody tr th {\n",
       "        vertical-align: top;\n",
       "    }\n",
       "\n",
       "    .dataframe thead th {\n",
       "        text-align: right;\n",
       "    }\n",
       "</style>\n",
       "<table border=\"1\" class=\"dataframe\">\n",
       "  <thead>\n",
       "    <tr style=\"text-align: right;\">\n",
       "      <th></th>\n",
       "      <th></th>\n",
       "      <th>total_minutes</th>\n",
       "      <th>total_messages</th>\n",
       "      <th>total_gb</th>\n",
       "      <th>first_name</th>\n",
       "      <th>last_name</th>\n",
       "      <th>age</th>\n",
       "      <th>city</th>\n",
       "      <th>reg_date</th>\n",
       "      <th>plan</th>\n",
       "      <th>churn_date</th>\n",
       "      <th>messages_included</th>\n",
       "      <th>mb_per_month_included</th>\n",
       "      <th>minutes_included</th>\n",
       "      <th>usd_monthly_pay</th>\n",
       "      <th>usd_per_gb</th>\n",
       "      <th>usd_per_message</th>\n",
       "      <th>usd_per_minute</th>\n",
       "      <th>minutes_extra</th>\n",
       "      <th>messages_extra</th>\n",
       "      <th>gb_extra</th>\n",
       "    </tr>\n",
       "    <tr>\n",
       "      <th>user_id</th>\n",
       "      <th>month</th>\n",
       "      <th></th>\n",
       "      <th></th>\n",
       "      <th></th>\n",
       "      <th></th>\n",
       "      <th></th>\n",
       "      <th></th>\n",
       "      <th></th>\n",
       "      <th></th>\n",
       "      <th></th>\n",
       "      <th></th>\n",
       "      <th></th>\n",
       "      <th></th>\n",
       "      <th></th>\n",
       "      <th></th>\n",
       "      <th></th>\n",
       "      <th></th>\n",
       "      <th></th>\n",
       "      <th></th>\n",
       "      <th></th>\n",
       "      <th></th>\n",
       "    </tr>\n",
       "  </thead>\n",
       "  <tbody>\n",
       "    <tr>\n",
       "      <th>1000</th>\n",
       "      <th>12</th>\n",
       "      <td>116.83</td>\n",
       "      <td>16.0</td>\n",
       "      <td>2.0</td>\n",
       "      <td>Anamaria</td>\n",
       "      <td>Bauer</td>\n",
       "      <td>45</td>\n",
       "      <td>Atlanta-Sandy Springs-Roswell, GA MSA</td>\n",
       "      <td>2018-12-24</td>\n",
       "      <td>ultimate</td>\n",
       "      <td>NaT</td>\n",
       "      <td>1000</td>\n",
       "      <td>30720</td>\n",
       "      <td>3000</td>\n",
       "      <td>70</td>\n",
       "      <td>7</td>\n",
       "      <td>0.01</td>\n",
       "      <td>0.01</td>\n",
       "      <td>0.0</td>\n",
       "      <td>0.0</td>\n",
       "      <td>-28.0</td>\n",
       "    </tr>\n",
       "    <tr>\n",
       "      <th rowspan=\"2\" valign=\"top\">1006</th>\n",
       "      <th>11</th>\n",
       "      <td>9.32</td>\n",
       "      <td>2.0</td>\n",
       "      <td>3.0</td>\n",
       "      <td>Jesusa</td>\n",
       "      <td>Bradford</td>\n",
       "      <td>73</td>\n",
       "      <td>San Francisco-Oakland-Berkeley, CA MSA</td>\n",
       "      <td>2018-11-27</td>\n",
       "      <td>ultimate</td>\n",
       "      <td>2018-12-18</td>\n",
       "      <td>1000</td>\n",
       "      <td>30720</td>\n",
       "      <td>3000</td>\n",
       "      <td>70</td>\n",
       "      <td>7</td>\n",
       "      <td>0.01</td>\n",
       "      <td>0.01</td>\n",
       "      <td>0.0</td>\n",
       "      <td>0.0</td>\n",
       "      <td>-27.0</td>\n",
       "    </tr>\n",
       "    <tr>\n",
       "      <th>12</th>\n",
       "      <td>54.79</td>\n",
       "      <td>9.0</td>\n",
       "      <td>32.0</td>\n",
       "      <td>Jesusa</td>\n",
       "      <td>Bradford</td>\n",
       "      <td>73</td>\n",
       "      <td>San Francisco-Oakland-Berkeley, CA MSA</td>\n",
       "      <td>2018-11-27</td>\n",
       "      <td>ultimate</td>\n",
       "      <td>2018-12-18</td>\n",
       "      <td>1000</td>\n",
       "      <td>30720</td>\n",
       "      <td>3000</td>\n",
       "      <td>70</td>\n",
       "      <td>7</td>\n",
       "      <td>0.01</td>\n",
       "      <td>0.01</td>\n",
       "      <td>0.0</td>\n",
       "      <td>0.0</td>\n",
       "      <td>2.0</td>\n",
       "    </tr>\n",
       "    <tr>\n",
       "      <th rowspan=\"2\" valign=\"top\">1008</th>\n",
       "      <th>10</th>\n",
       "      <td>450.21</td>\n",
       "      <td>71.0</td>\n",
       "      <td>17.0</td>\n",
       "      <td>Emely</td>\n",
       "      <td>Hoffman</td>\n",
       "      <td>53</td>\n",
       "      <td>Orlando-Kissimmee-Sanford, FL MSA</td>\n",
       "      <td>2018-08-03</td>\n",
       "      <td>ultimate</td>\n",
       "      <td>NaT</td>\n",
       "      <td>1000</td>\n",
       "      <td>30720</td>\n",
       "      <td>3000</td>\n",
       "      <td>70</td>\n",
       "      <td>7</td>\n",
       "      <td>0.01</td>\n",
       "      <td>0.01</td>\n",
       "      <td>0.0</td>\n",
       "      <td>0.0</td>\n",
       "      <td>-13.0</td>\n",
       "    </tr>\n",
       "    <tr>\n",
       "      <th>11</th>\n",
       "      <td>422.81</td>\n",
       "      <td>63.0</td>\n",
       "      <td>24.0</td>\n",
       "      <td>Emely</td>\n",
       "      <td>Hoffman</td>\n",
       "      <td>53</td>\n",
       "      <td>Orlando-Kissimmee-Sanford, FL MSA</td>\n",
       "      <td>2018-08-03</td>\n",
       "      <td>ultimate</td>\n",
       "      <td>NaT</td>\n",
       "      <td>1000</td>\n",
       "      <td>30720</td>\n",
       "      <td>3000</td>\n",
       "      <td>70</td>\n",
       "      <td>7</td>\n",
       "      <td>0.01</td>\n",
       "      <td>0.01</td>\n",
       "      <td>0.0</td>\n",
       "      <td>0.0</td>\n",
       "      <td>-6.0</td>\n",
       "    </tr>\n",
       "  </tbody>\n",
       "</table>\n",
       "</div>"
      ],
      "text/plain": [
       "               total_minutes  total_messages  total_gb first_name last_name  \\\n",
       "user_id month                                                                 \n",
       "1000    12            116.83            16.0       2.0   Anamaria     Bauer   \n",
       "1006    11              9.32             2.0       3.0     Jesusa  Bradford   \n",
       "        12             54.79             9.0      32.0     Jesusa  Bradford   \n",
       "1008    10            450.21            71.0      17.0      Emely   Hoffman   \n",
       "        11            422.81            63.0      24.0      Emely   Hoffman   \n",
       "\n",
       "               age                                    city   reg_date  \\\n",
       "user_id month                                                           \n",
       "1000    12      45   Atlanta-Sandy Springs-Roswell, GA MSA 2018-12-24   \n",
       "1006    11      73  San Francisco-Oakland-Berkeley, CA MSA 2018-11-27   \n",
       "        12      73  San Francisco-Oakland-Berkeley, CA MSA 2018-11-27   \n",
       "1008    10      53       Orlando-Kissimmee-Sanford, FL MSA 2018-08-03   \n",
       "        11      53       Orlando-Kissimmee-Sanford, FL MSA 2018-08-03   \n",
       "\n",
       "                   plan churn_date  messages_included  mb_per_month_included  \\\n",
       "user_id month                                                                  \n",
       "1000    12     ultimate        NaT               1000                  30720   \n",
       "1006    11     ultimate 2018-12-18               1000                  30720   \n",
       "        12     ultimate 2018-12-18               1000                  30720   \n",
       "1008    10     ultimate        NaT               1000                  30720   \n",
       "        11     ultimate        NaT               1000                  30720   \n",
       "\n",
       "               minutes_included  usd_monthly_pay  usd_per_gb  usd_per_message  \\\n",
       "user_id month                                                                   \n",
       "1000    12                 3000               70           7             0.01   \n",
       "1006    11                 3000               70           7             0.01   \n",
       "        12                 3000               70           7             0.01   \n",
       "1008    10                 3000               70           7             0.01   \n",
       "        11                 3000               70           7             0.01   \n",
       "\n",
       "               usd_per_minute  minutes_extra  messages_extra  gb_extra  \n",
       "user_id month                                                           \n",
       "1000    12               0.01            0.0             0.0     -28.0  \n",
       "1006    11               0.01            0.0             0.0     -27.0  \n",
       "        12               0.01            0.0             0.0       2.0  \n",
       "1008    10               0.01            0.0             0.0     -13.0  \n",
       "        11               0.01            0.0             0.0      -6.0  "
      ]
     },
     "execution_count": 31,
     "metadata": {},
     "output_type": "execute_result"
    }
   ],
   "source": [
    "def fix_messages_extra(row):\n",
    "    messages_extra = row['messages_extra']\n",
    "\n",
    "    if messages_extra < 0:\n",
    "        return 0\n",
    "    return messages_extra\n",
    "\n",
    "\n",
    "merged_data['messages_extra'] = merged_data.apply(fix_messages_extra, axis=1)\n",
    "\n",
    "merged_data.head()"
   ]
  },
  {
   "cell_type": "code",
   "execution_count": 32,
   "id": "7a7ffbfc",
   "metadata": {},
   "outputs": [
    {
     "data": {
      "text/html": [
       "<div>\n",
       "<style scoped>\n",
       "    .dataframe tbody tr th:only-of-type {\n",
       "        vertical-align: middle;\n",
       "    }\n",
       "\n",
       "    .dataframe tbody tr th {\n",
       "        vertical-align: top;\n",
       "    }\n",
       "\n",
       "    .dataframe thead th {\n",
       "        text-align: right;\n",
       "    }\n",
       "</style>\n",
       "<table border=\"1\" class=\"dataframe\">\n",
       "  <thead>\n",
       "    <tr style=\"text-align: right;\">\n",
       "      <th></th>\n",
       "      <th></th>\n",
       "      <th>total_minutes</th>\n",
       "      <th>total_messages</th>\n",
       "      <th>total_gb</th>\n",
       "      <th>first_name</th>\n",
       "      <th>last_name</th>\n",
       "      <th>age</th>\n",
       "      <th>city</th>\n",
       "      <th>reg_date</th>\n",
       "      <th>plan</th>\n",
       "      <th>churn_date</th>\n",
       "      <th>messages_included</th>\n",
       "      <th>mb_per_month_included</th>\n",
       "      <th>minutes_included</th>\n",
       "      <th>usd_monthly_pay</th>\n",
       "      <th>usd_per_gb</th>\n",
       "      <th>usd_per_message</th>\n",
       "      <th>usd_per_minute</th>\n",
       "      <th>minutes_extra</th>\n",
       "      <th>messages_extra</th>\n",
       "      <th>gb_extra</th>\n",
       "    </tr>\n",
       "    <tr>\n",
       "      <th>user_id</th>\n",
       "      <th>month</th>\n",
       "      <th></th>\n",
       "      <th></th>\n",
       "      <th></th>\n",
       "      <th></th>\n",
       "      <th></th>\n",
       "      <th></th>\n",
       "      <th></th>\n",
       "      <th></th>\n",
       "      <th></th>\n",
       "      <th></th>\n",
       "      <th></th>\n",
       "      <th></th>\n",
       "      <th></th>\n",
       "      <th></th>\n",
       "      <th></th>\n",
       "      <th></th>\n",
       "      <th></th>\n",
       "      <th></th>\n",
       "      <th></th>\n",
       "      <th></th>\n",
       "    </tr>\n",
       "  </thead>\n",
       "  <tbody>\n",
       "    <tr>\n",
       "      <th>1000</th>\n",
       "      <th>12</th>\n",
       "      <td>116.83</td>\n",
       "      <td>16.0</td>\n",
       "      <td>2.0</td>\n",
       "      <td>Anamaria</td>\n",
       "      <td>Bauer</td>\n",
       "      <td>45</td>\n",
       "      <td>Atlanta-Sandy Springs-Roswell, GA MSA</td>\n",
       "      <td>2018-12-24</td>\n",
       "      <td>ultimate</td>\n",
       "      <td>NaT</td>\n",
       "      <td>1000</td>\n",
       "      <td>30720</td>\n",
       "      <td>3000</td>\n",
       "      <td>70</td>\n",
       "      <td>7</td>\n",
       "      <td>0.01</td>\n",
       "      <td>0.01</td>\n",
       "      <td>0.0</td>\n",
       "      <td>0.0</td>\n",
       "      <td>0.0</td>\n",
       "    </tr>\n",
       "    <tr>\n",
       "      <th rowspan=\"2\" valign=\"top\">1006</th>\n",
       "      <th>11</th>\n",
       "      <td>9.32</td>\n",
       "      <td>2.0</td>\n",
       "      <td>3.0</td>\n",
       "      <td>Jesusa</td>\n",
       "      <td>Bradford</td>\n",
       "      <td>73</td>\n",
       "      <td>San Francisco-Oakland-Berkeley, CA MSA</td>\n",
       "      <td>2018-11-27</td>\n",
       "      <td>ultimate</td>\n",
       "      <td>2018-12-18</td>\n",
       "      <td>1000</td>\n",
       "      <td>30720</td>\n",
       "      <td>3000</td>\n",
       "      <td>70</td>\n",
       "      <td>7</td>\n",
       "      <td>0.01</td>\n",
       "      <td>0.01</td>\n",
       "      <td>0.0</td>\n",
       "      <td>0.0</td>\n",
       "      <td>0.0</td>\n",
       "    </tr>\n",
       "    <tr>\n",
       "      <th>12</th>\n",
       "      <td>54.79</td>\n",
       "      <td>9.0</td>\n",
       "      <td>32.0</td>\n",
       "      <td>Jesusa</td>\n",
       "      <td>Bradford</td>\n",
       "      <td>73</td>\n",
       "      <td>San Francisco-Oakland-Berkeley, CA MSA</td>\n",
       "      <td>2018-11-27</td>\n",
       "      <td>ultimate</td>\n",
       "      <td>2018-12-18</td>\n",
       "      <td>1000</td>\n",
       "      <td>30720</td>\n",
       "      <td>3000</td>\n",
       "      <td>70</td>\n",
       "      <td>7</td>\n",
       "      <td>0.01</td>\n",
       "      <td>0.01</td>\n",
       "      <td>0.0</td>\n",
       "      <td>0.0</td>\n",
       "      <td>2.0</td>\n",
       "    </tr>\n",
       "    <tr>\n",
       "      <th rowspan=\"2\" valign=\"top\">1008</th>\n",
       "      <th>10</th>\n",
       "      <td>450.21</td>\n",
       "      <td>71.0</td>\n",
       "      <td>17.0</td>\n",
       "      <td>Emely</td>\n",
       "      <td>Hoffman</td>\n",
       "      <td>53</td>\n",
       "      <td>Orlando-Kissimmee-Sanford, FL MSA</td>\n",
       "      <td>2018-08-03</td>\n",
       "      <td>ultimate</td>\n",
       "      <td>NaT</td>\n",
       "      <td>1000</td>\n",
       "      <td>30720</td>\n",
       "      <td>3000</td>\n",
       "      <td>70</td>\n",
       "      <td>7</td>\n",
       "      <td>0.01</td>\n",
       "      <td>0.01</td>\n",
       "      <td>0.0</td>\n",
       "      <td>0.0</td>\n",
       "      <td>0.0</td>\n",
       "    </tr>\n",
       "    <tr>\n",
       "      <th>11</th>\n",
       "      <td>422.81</td>\n",
       "      <td>63.0</td>\n",
       "      <td>24.0</td>\n",
       "      <td>Emely</td>\n",
       "      <td>Hoffman</td>\n",
       "      <td>53</td>\n",
       "      <td>Orlando-Kissimmee-Sanford, FL MSA</td>\n",
       "      <td>2018-08-03</td>\n",
       "      <td>ultimate</td>\n",
       "      <td>NaT</td>\n",
       "      <td>1000</td>\n",
       "      <td>30720</td>\n",
       "      <td>3000</td>\n",
       "      <td>70</td>\n",
       "      <td>7</td>\n",
       "      <td>0.01</td>\n",
       "      <td>0.01</td>\n",
       "      <td>0.0</td>\n",
       "      <td>0.0</td>\n",
       "      <td>0.0</td>\n",
       "    </tr>\n",
       "  </tbody>\n",
       "</table>\n",
       "</div>"
      ],
      "text/plain": [
       "               total_minutes  total_messages  total_gb first_name last_name  \\\n",
       "user_id month                                                                 \n",
       "1000    12            116.83            16.0       2.0   Anamaria     Bauer   \n",
       "1006    11              9.32             2.0       3.0     Jesusa  Bradford   \n",
       "        12             54.79             9.0      32.0     Jesusa  Bradford   \n",
       "1008    10            450.21            71.0      17.0      Emely   Hoffman   \n",
       "        11            422.81            63.0      24.0      Emely   Hoffman   \n",
       "\n",
       "               age                                    city   reg_date  \\\n",
       "user_id month                                                           \n",
       "1000    12      45   Atlanta-Sandy Springs-Roswell, GA MSA 2018-12-24   \n",
       "1006    11      73  San Francisco-Oakland-Berkeley, CA MSA 2018-11-27   \n",
       "        12      73  San Francisco-Oakland-Berkeley, CA MSA 2018-11-27   \n",
       "1008    10      53       Orlando-Kissimmee-Sanford, FL MSA 2018-08-03   \n",
       "        11      53       Orlando-Kissimmee-Sanford, FL MSA 2018-08-03   \n",
       "\n",
       "                   plan churn_date  messages_included  mb_per_month_included  \\\n",
       "user_id month                                                                  \n",
       "1000    12     ultimate        NaT               1000                  30720   \n",
       "1006    11     ultimate 2018-12-18               1000                  30720   \n",
       "        12     ultimate 2018-12-18               1000                  30720   \n",
       "1008    10     ultimate        NaT               1000                  30720   \n",
       "        11     ultimate        NaT               1000                  30720   \n",
       "\n",
       "               minutes_included  usd_monthly_pay  usd_per_gb  usd_per_message  \\\n",
       "user_id month                                                                   \n",
       "1000    12                 3000               70           7             0.01   \n",
       "1006    11                 3000               70           7             0.01   \n",
       "        12                 3000               70           7             0.01   \n",
       "1008    10                 3000               70           7             0.01   \n",
       "        11                 3000               70           7             0.01   \n",
       "\n",
       "               usd_per_minute  minutes_extra  messages_extra  gb_extra  \n",
       "user_id month                                                           \n",
       "1000    12               0.01            0.0             0.0       0.0  \n",
       "1006    11               0.01            0.0             0.0       0.0  \n",
       "        12               0.01            0.0             0.0       2.0  \n",
       "1008    10               0.01            0.0             0.0       0.0  \n",
       "        11               0.01            0.0             0.0       0.0  "
      ]
     },
     "execution_count": 32,
     "metadata": {},
     "output_type": "execute_result"
    }
   ],
   "source": [
    "def fix_gb_extra(row):\n",
    "    gb_extra = row['gb_extra']\n",
    "\n",
    "    if gb_extra < 0:\n",
    "        return 0\n",
    "    return gb_extra \n",
    "\n",
    "\n",
    "merged_data['gb_extra'] = merged_data.apply(fix_gb_extra, axis=1)\n",
    "\n",
    "merged_data.head()"
   ]
  },
  {
   "cell_type": "markdown",
   "id": "288e5537",
   "metadata": {},
   "source": [
    "Ahora, haremos una función para multiplicar el resultado de nuestras nuevas columnas por el valor de tarifa de llamadas, SMS y datos adicionales según la tarifa indicada, y el resultado obtenido será el costo del consumo adicional para cada usuario por mes. A ese resultado, le sumaremos la tarifa base que es indicada en la columna usd_monthly_pay"
   ]
  },
  {
   "cell_type": "code",
   "execution_count": 33,
   "id": "9f4bee95",
   "metadata": {},
   "outputs": [
    {
     "data": {
      "text/html": [
       "<div>\n",
       "<style scoped>\n",
       "    .dataframe tbody tr th:only-of-type {\n",
       "        vertical-align: middle;\n",
       "    }\n",
       "\n",
       "    .dataframe tbody tr th {\n",
       "        vertical-align: top;\n",
       "    }\n",
       "\n",
       "    .dataframe thead th {\n",
       "        text-align: right;\n",
       "    }\n",
       "</style>\n",
       "<table border=\"1\" class=\"dataframe\">\n",
       "  <thead>\n",
       "    <tr style=\"text-align: right;\">\n",
       "      <th></th>\n",
       "      <th></th>\n",
       "      <th>total_minutes</th>\n",
       "      <th>total_messages</th>\n",
       "      <th>total_gb</th>\n",
       "      <th>first_name</th>\n",
       "      <th>last_name</th>\n",
       "      <th>age</th>\n",
       "      <th>city</th>\n",
       "      <th>reg_date</th>\n",
       "      <th>plan</th>\n",
       "      <th>churn_date</th>\n",
       "      <th>...</th>\n",
       "      <th>mb_per_month_included</th>\n",
       "      <th>minutes_included</th>\n",
       "      <th>usd_monthly_pay</th>\n",
       "      <th>usd_per_gb</th>\n",
       "      <th>usd_per_message</th>\n",
       "      <th>usd_per_minute</th>\n",
       "      <th>minutes_extra</th>\n",
       "      <th>messages_extra</th>\n",
       "      <th>gb_extra</th>\n",
       "      <th>total_income</th>\n",
       "    </tr>\n",
       "    <tr>\n",
       "      <th>user_id</th>\n",
       "      <th>month</th>\n",
       "      <th></th>\n",
       "      <th></th>\n",
       "      <th></th>\n",
       "      <th></th>\n",
       "      <th></th>\n",
       "      <th></th>\n",
       "      <th></th>\n",
       "      <th></th>\n",
       "      <th></th>\n",
       "      <th></th>\n",
       "      <th></th>\n",
       "      <th></th>\n",
       "      <th></th>\n",
       "      <th></th>\n",
       "      <th></th>\n",
       "      <th></th>\n",
       "      <th></th>\n",
       "      <th></th>\n",
       "      <th></th>\n",
       "      <th></th>\n",
       "      <th></th>\n",
       "    </tr>\n",
       "  </thead>\n",
       "  <tbody>\n",
       "    <tr>\n",
       "      <th>1000</th>\n",
       "      <th>12</th>\n",
       "      <td>116.83</td>\n",
       "      <td>16.0</td>\n",
       "      <td>2.0</td>\n",
       "      <td>Anamaria</td>\n",
       "      <td>Bauer</td>\n",
       "      <td>45</td>\n",
       "      <td>Atlanta-Sandy Springs-Roswell, GA MSA</td>\n",
       "      <td>2018-12-24</td>\n",
       "      <td>ultimate</td>\n",
       "      <td>NaT</td>\n",
       "      <td>...</td>\n",
       "      <td>30720</td>\n",
       "      <td>3000</td>\n",
       "      <td>70</td>\n",
       "      <td>7</td>\n",
       "      <td>0.01</td>\n",
       "      <td>0.01</td>\n",
       "      <td>0.0</td>\n",
       "      <td>0.0</td>\n",
       "      <td>0.0</td>\n",
       "      <td>70.0</td>\n",
       "    </tr>\n",
       "    <tr>\n",
       "      <th rowspan=\"2\" valign=\"top\">1006</th>\n",
       "      <th>11</th>\n",
       "      <td>9.32</td>\n",
       "      <td>2.0</td>\n",
       "      <td>3.0</td>\n",
       "      <td>Jesusa</td>\n",
       "      <td>Bradford</td>\n",
       "      <td>73</td>\n",
       "      <td>San Francisco-Oakland-Berkeley, CA MSA</td>\n",
       "      <td>2018-11-27</td>\n",
       "      <td>ultimate</td>\n",
       "      <td>2018-12-18</td>\n",
       "      <td>...</td>\n",
       "      <td>30720</td>\n",
       "      <td>3000</td>\n",
       "      <td>70</td>\n",
       "      <td>7</td>\n",
       "      <td>0.01</td>\n",
       "      <td>0.01</td>\n",
       "      <td>0.0</td>\n",
       "      <td>0.0</td>\n",
       "      <td>0.0</td>\n",
       "      <td>70.0</td>\n",
       "    </tr>\n",
       "    <tr>\n",
       "      <th>12</th>\n",
       "      <td>54.79</td>\n",
       "      <td>9.0</td>\n",
       "      <td>32.0</td>\n",
       "      <td>Jesusa</td>\n",
       "      <td>Bradford</td>\n",
       "      <td>73</td>\n",
       "      <td>San Francisco-Oakland-Berkeley, CA MSA</td>\n",
       "      <td>2018-11-27</td>\n",
       "      <td>ultimate</td>\n",
       "      <td>2018-12-18</td>\n",
       "      <td>...</td>\n",
       "      <td>30720</td>\n",
       "      <td>3000</td>\n",
       "      <td>70</td>\n",
       "      <td>7</td>\n",
       "      <td>0.01</td>\n",
       "      <td>0.01</td>\n",
       "      <td>0.0</td>\n",
       "      <td>0.0</td>\n",
       "      <td>2.0</td>\n",
       "      <td>84.0</td>\n",
       "    </tr>\n",
       "    <tr>\n",
       "      <th rowspan=\"3\" valign=\"top\">1008</th>\n",
       "      <th>10</th>\n",
       "      <td>450.21</td>\n",
       "      <td>71.0</td>\n",
       "      <td>17.0</td>\n",
       "      <td>Emely</td>\n",
       "      <td>Hoffman</td>\n",
       "      <td>53</td>\n",
       "      <td>Orlando-Kissimmee-Sanford, FL MSA</td>\n",
       "      <td>2018-08-03</td>\n",
       "      <td>ultimate</td>\n",
       "      <td>NaT</td>\n",
       "      <td>...</td>\n",
       "      <td>30720</td>\n",
       "      <td>3000</td>\n",
       "      <td>70</td>\n",
       "      <td>7</td>\n",
       "      <td>0.01</td>\n",
       "      <td>0.01</td>\n",
       "      <td>0.0</td>\n",
       "      <td>0.0</td>\n",
       "      <td>0.0</td>\n",
       "      <td>70.0</td>\n",
       "    </tr>\n",
       "    <tr>\n",
       "      <th>11</th>\n",
       "      <td>422.81</td>\n",
       "      <td>63.0</td>\n",
       "      <td>24.0</td>\n",
       "      <td>Emely</td>\n",
       "      <td>Hoffman</td>\n",
       "      <td>53</td>\n",
       "      <td>Orlando-Kissimmee-Sanford, FL MSA</td>\n",
       "      <td>2018-08-03</td>\n",
       "      <td>ultimate</td>\n",
       "      <td>NaT</td>\n",
       "      <td>...</td>\n",
       "      <td>30720</td>\n",
       "      <td>3000</td>\n",
       "      <td>70</td>\n",
       "      <td>7</td>\n",
       "      <td>0.01</td>\n",
       "      <td>0.01</td>\n",
       "      <td>0.0</td>\n",
       "      <td>0.0</td>\n",
       "      <td>0.0</td>\n",
       "      <td>70.0</td>\n",
       "    </tr>\n",
       "    <tr>\n",
       "      <th>12</th>\n",
       "      <td>600.29</td>\n",
       "      <td>85.0</td>\n",
       "      <td>15.0</td>\n",
       "      <td>Emely</td>\n",
       "      <td>Hoffman</td>\n",
       "      <td>53</td>\n",
       "      <td>Orlando-Kissimmee-Sanford, FL MSA</td>\n",
       "      <td>2018-08-03</td>\n",
       "      <td>ultimate</td>\n",
       "      <td>NaT</td>\n",
       "      <td>...</td>\n",
       "      <td>30720</td>\n",
       "      <td>3000</td>\n",
       "      <td>70</td>\n",
       "      <td>7</td>\n",
       "      <td>0.01</td>\n",
       "      <td>0.01</td>\n",
       "      <td>0.0</td>\n",
       "      <td>0.0</td>\n",
       "      <td>0.0</td>\n",
       "      <td>70.0</td>\n",
       "    </tr>\n",
       "    <tr>\n",
       "      <th rowspan=\"4\" valign=\"top\">1011</th>\n",
       "      <th>6</th>\n",
       "      <td>111.68</td>\n",
       "      <td>19.0</td>\n",
       "      <td>7.0</td>\n",
       "      <td>Halina</td>\n",
       "      <td>Henry</td>\n",
       "      <td>73</td>\n",
       "      <td>Cleveland-Elyria, OH MSA</td>\n",
       "      <td>2018-01-18</td>\n",
       "      <td>ultimate</td>\n",
       "      <td>NaT</td>\n",
       "      <td>...</td>\n",
       "      <td>30720</td>\n",
       "      <td>3000</td>\n",
       "      <td>70</td>\n",
       "      <td>7</td>\n",
       "      <td>0.01</td>\n",
       "      <td>0.01</td>\n",
       "      <td>0.0</td>\n",
       "      <td>0.0</td>\n",
       "      <td>0.0</td>\n",
       "      <td>70.0</td>\n",
       "    </tr>\n",
       "    <tr>\n",
       "      <th>7</th>\n",
       "      <td>472.66</td>\n",
       "      <td>63.0</td>\n",
       "      <td>21.0</td>\n",
       "      <td>Halina</td>\n",
       "      <td>Henry</td>\n",
       "      <td>73</td>\n",
       "      <td>Cleveland-Elyria, OH MSA</td>\n",
       "      <td>2018-01-18</td>\n",
       "      <td>ultimate</td>\n",
       "      <td>NaT</td>\n",
       "      <td>...</td>\n",
       "      <td>30720</td>\n",
       "      <td>3000</td>\n",
       "      <td>70</td>\n",
       "      <td>7</td>\n",
       "      <td>0.01</td>\n",
       "      <td>0.01</td>\n",
       "      <td>0.0</td>\n",
       "      <td>0.0</td>\n",
       "      <td>0.0</td>\n",
       "      <td>70.0</td>\n",
       "    </tr>\n",
       "    <tr>\n",
       "      <th>8</th>\n",
       "      <td>460.12</td>\n",
       "      <td>61.0</td>\n",
       "      <td>21.0</td>\n",
       "      <td>Halina</td>\n",
       "      <td>Henry</td>\n",
       "      <td>73</td>\n",
       "      <td>Cleveland-Elyria, OH MSA</td>\n",
       "      <td>2018-01-18</td>\n",
       "      <td>ultimate</td>\n",
       "      <td>NaT</td>\n",
       "      <td>...</td>\n",
       "      <td>30720</td>\n",
       "      <td>3000</td>\n",
       "      <td>70</td>\n",
       "      <td>7</td>\n",
       "      <td>0.01</td>\n",
       "      <td>0.01</td>\n",
       "      <td>0.0</td>\n",
       "      <td>0.0</td>\n",
       "      <td>0.0</td>\n",
       "      <td>70.0</td>\n",
       "    </tr>\n",
       "    <tr>\n",
       "      <th>9</th>\n",
       "      <td>455.22</td>\n",
       "      <td>73.0</td>\n",
       "      <td>17.0</td>\n",
       "      <td>Halina</td>\n",
       "      <td>Henry</td>\n",
       "      <td>73</td>\n",
       "      <td>Cleveland-Elyria, OH MSA</td>\n",
       "      <td>2018-01-18</td>\n",
       "      <td>ultimate</td>\n",
       "      <td>NaT</td>\n",
       "      <td>...</td>\n",
       "      <td>30720</td>\n",
       "      <td>3000</td>\n",
       "      <td>70</td>\n",
       "      <td>7</td>\n",
       "      <td>0.01</td>\n",
       "      <td>0.01</td>\n",
       "      <td>0.0</td>\n",
       "      <td>0.0</td>\n",
       "      <td>0.0</td>\n",
       "      <td>70.0</td>\n",
       "    </tr>\n",
       "  </tbody>\n",
       "</table>\n",
       "<p>10 rows × 21 columns</p>\n",
       "</div>"
      ],
      "text/plain": [
       "               total_minutes  total_messages  total_gb first_name last_name  \\\n",
       "user_id month                                                                 \n",
       "1000    12            116.83            16.0       2.0   Anamaria     Bauer   \n",
       "1006    11              9.32             2.0       3.0     Jesusa  Bradford   \n",
       "        12             54.79             9.0      32.0     Jesusa  Bradford   \n",
       "1008    10            450.21            71.0      17.0      Emely   Hoffman   \n",
       "        11            422.81            63.0      24.0      Emely   Hoffman   \n",
       "        12            600.29            85.0      15.0      Emely   Hoffman   \n",
       "1011    6             111.68            19.0       7.0     Halina     Henry   \n",
       "        7             472.66            63.0      21.0     Halina     Henry   \n",
       "        8             460.12            61.0      21.0     Halina     Henry   \n",
       "        9             455.22            73.0      17.0     Halina     Henry   \n",
       "\n",
       "               age                                    city   reg_date  \\\n",
       "user_id month                                                           \n",
       "1000    12      45   Atlanta-Sandy Springs-Roswell, GA MSA 2018-12-24   \n",
       "1006    11      73  San Francisco-Oakland-Berkeley, CA MSA 2018-11-27   \n",
       "        12      73  San Francisco-Oakland-Berkeley, CA MSA 2018-11-27   \n",
       "1008    10      53       Orlando-Kissimmee-Sanford, FL MSA 2018-08-03   \n",
       "        11      53       Orlando-Kissimmee-Sanford, FL MSA 2018-08-03   \n",
       "        12      53       Orlando-Kissimmee-Sanford, FL MSA 2018-08-03   \n",
       "1011    6       73                Cleveland-Elyria, OH MSA 2018-01-18   \n",
       "        7       73                Cleveland-Elyria, OH MSA 2018-01-18   \n",
       "        8       73                Cleveland-Elyria, OH MSA 2018-01-18   \n",
       "        9       73                Cleveland-Elyria, OH MSA 2018-01-18   \n",
       "\n",
       "                   plan churn_date  ...  mb_per_month_included  \\\n",
       "user_id month                       ...                          \n",
       "1000    12     ultimate        NaT  ...                  30720   \n",
       "1006    11     ultimate 2018-12-18  ...                  30720   \n",
       "        12     ultimate 2018-12-18  ...                  30720   \n",
       "1008    10     ultimate        NaT  ...                  30720   \n",
       "        11     ultimate        NaT  ...                  30720   \n",
       "        12     ultimate        NaT  ...                  30720   \n",
       "1011    6      ultimate        NaT  ...                  30720   \n",
       "        7      ultimate        NaT  ...                  30720   \n",
       "        8      ultimate        NaT  ...                  30720   \n",
       "        9      ultimate        NaT  ...                  30720   \n",
       "\n",
       "               minutes_included  usd_monthly_pay  usd_per_gb  usd_per_message  \\\n",
       "user_id month                                                                   \n",
       "1000    12                 3000               70           7             0.01   \n",
       "1006    11                 3000               70           7             0.01   \n",
       "        12                 3000               70           7             0.01   \n",
       "1008    10                 3000               70           7             0.01   \n",
       "        11                 3000               70           7             0.01   \n",
       "        12                 3000               70           7             0.01   \n",
       "1011    6                  3000               70           7             0.01   \n",
       "        7                  3000               70           7             0.01   \n",
       "        8                  3000               70           7             0.01   \n",
       "        9                  3000               70           7             0.01   \n",
       "\n",
       "               usd_per_minute  minutes_extra  messages_extra  gb_extra  \\\n",
       "user_id month                                                            \n",
       "1000    12               0.01            0.0             0.0       0.0   \n",
       "1006    11               0.01            0.0             0.0       0.0   \n",
       "        12               0.01            0.0             0.0       2.0   \n",
       "1008    10               0.01            0.0             0.0       0.0   \n",
       "        11               0.01            0.0             0.0       0.0   \n",
       "        12               0.01            0.0             0.0       0.0   \n",
       "1011    6                0.01            0.0             0.0       0.0   \n",
       "        7                0.01            0.0             0.0       0.0   \n",
       "        8                0.01            0.0             0.0       0.0   \n",
       "        9                0.01            0.0             0.0       0.0   \n",
       "\n",
       "               total_income  \n",
       "user_id month                \n",
       "1000    12             70.0  \n",
       "1006    11             70.0  \n",
       "        12             84.0  \n",
       "1008    10             70.0  \n",
       "        11             70.0  \n",
       "        12             70.0  \n",
       "1011    6              70.0  \n",
       "        7              70.0  \n",
       "        8              70.0  \n",
       "        9              70.0  \n",
       "\n",
       "[10 rows x 21 columns]"
      ]
     },
     "execution_count": 33,
     "metadata": {},
     "output_type": "execute_result"
    }
   ],
   "source": [
    "def income(row):\n",
    "    minutes_extra = row['minutes_extra']\n",
    "    messages_extra = row['messages_extra']\n",
    "    gb_extra = row['gb_extra']\n",
    "    plan = row['plan']\n",
    "    usd_per_minute = row['usd_per_minute']\n",
    "    usd_per_gb = row['usd_per_gb']\n",
    "    usd_per_message = row['usd_per_message']\n",
    "    usd_monthly_pay = row['usd_monthly_pay']\n",
    "\n",
    "    if minutes_extra < 0 and messages_extra < 0 and gb_extra < 0:\n",
    "        return 0 + usd_monthly_pay\n",
    "    if minutes_extra > 0 and messages_extra < 0 and gb_extra < 0:\n",
    "        return (minutes_extra * usd_per_minute) + usd_monthly_pay\n",
    "    if minutes_extra > 0 and messages_extra > 0 and gb_extra < 0:\n",
    "        return (minutes_extra * usd_per_minute) + (messages_extra * usd_per_message) + usd_monthly_pay\n",
    "    if minutes_extra > 0 and messages_extra > 0 and gb_extra > 0:\n",
    "        return (minutes_extra * usd_per_minute) + (messages_extra * usd_per_message) + (gb_extra * usd_per_gb) + usd_monthly_pay\n",
    "    if minutes_extra < 0 and messages_extra > 0 and gb_extra > 0:\n",
    "        return (messages_extra * usd_per_message) + (gb_extra * usd_per_gb) + usd_monthly_pay\n",
    "    if minutes_extra < 0 and messages_extra < 0 and gb_extra > 0:\n",
    "        return gb_extra * usd_per_gb + usd_monthly_pay\n",
    "    return (minutes_extra * usd_per_minute) + (gb_extra * usd_per_gb) + usd_monthly_pay\n",
    "\n",
    "\n",
    "merged_data['total_income'] = merged_data.apply(income, axis=1)\n",
    "\n",
    "merged_data.head(10)"
   ]
  },
  {
   "cell_type": "markdown",
   "id": "e7fd58a2",
   "metadata": {},
   "source": [
    "[Volver a Contenidos](#back)"
   ]
  },
  {
   "cell_type": "markdown",
   "id": "e1507487",
   "metadata": {},
   "source": [
    "# Etapa 5. Estudiando resultados\n",
    "\n",
    "# 5.1 Simplificando la data\n",
    "\n",
    "Ahora que sabemos el consumo y costo adicional de cada usuario por mes, podemos describir el comportamiento de los clientes, buscando los minutos, SMS y volumen de datos que requieren los usuarios de cada tarifa por mes. Para ello, vamos primero a resumir nuestro DataFrame quitando columnas que ya no necesitamos, y vamos a guardarlo con el nombre df"
   ]
  },
  {
   "cell_type": "code",
   "execution_count": 34,
   "id": "ba8433cd",
   "metadata": {},
   "outputs": [],
   "source": [
    "df = merged_data.drop(columns=['messages_included', 'mb_per_month_included', 'minutes_included', 'usd_monthly_pay', 'usd_per_gb', 'usd_per_message', 'usd_per_minute'])"
   ]
  },
  {
   "cell_type": "code",
   "execution_count": 35,
   "id": "f8e33eed",
   "metadata": {},
   "outputs": [
    {
     "data": {
      "text/html": [
       "<div>\n",
       "<style scoped>\n",
       "    .dataframe tbody tr th:only-of-type {\n",
       "        vertical-align: middle;\n",
       "    }\n",
       "\n",
       "    .dataframe tbody tr th {\n",
       "        vertical-align: top;\n",
       "    }\n",
       "\n",
       "    .dataframe thead th {\n",
       "        text-align: right;\n",
       "    }\n",
       "</style>\n",
       "<table border=\"1\" class=\"dataframe\">\n",
       "  <thead>\n",
       "    <tr style=\"text-align: right;\">\n",
       "      <th></th>\n",
       "      <th></th>\n",
       "      <th>total_minutes</th>\n",
       "      <th>total_messages</th>\n",
       "      <th>total_gb</th>\n",
       "      <th>first_name</th>\n",
       "      <th>last_name</th>\n",
       "      <th>age</th>\n",
       "      <th>city</th>\n",
       "      <th>reg_date</th>\n",
       "      <th>plan</th>\n",
       "      <th>churn_date</th>\n",
       "      <th>minutes_extra</th>\n",
       "      <th>messages_extra</th>\n",
       "      <th>gb_extra</th>\n",
       "      <th>total_income</th>\n",
       "    </tr>\n",
       "    <tr>\n",
       "      <th>user_id</th>\n",
       "      <th>month</th>\n",
       "      <th></th>\n",
       "      <th></th>\n",
       "      <th></th>\n",
       "      <th></th>\n",
       "      <th></th>\n",
       "      <th></th>\n",
       "      <th></th>\n",
       "      <th></th>\n",
       "      <th></th>\n",
       "      <th></th>\n",
       "      <th></th>\n",
       "      <th></th>\n",
       "      <th></th>\n",
       "      <th></th>\n",
       "    </tr>\n",
       "  </thead>\n",
       "  <tbody>\n",
       "    <tr>\n",
       "      <th>1000</th>\n",
       "      <th>12</th>\n",
       "      <td>116.83</td>\n",
       "      <td>16.0</td>\n",
       "      <td>2.0</td>\n",
       "      <td>Anamaria</td>\n",
       "      <td>Bauer</td>\n",
       "      <td>45</td>\n",
       "      <td>Atlanta-Sandy Springs-Roswell, GA MSA</td>\n",
       "      <td>2018-12-24</td>\n",
       "      <td>ultimate</td>\n",
       "      <td>NaT</td>\n",
       "      <td>0.0</td>\n",
       "      <td>0.0</td>\n",
       "      <td>0.0</td>\n",
       "      <td>70.0</td>\n",
       "    </tr>\n",
       "    <tr>\n",
       "      <th rowspan=\"2\" valign=\"top\">1006</th>\n",
       "      <th>11</th>\n",
       "      <td>9.32</td>\n",
       "      <td>2.0</td>\n",
       "      <td>3.0</td>\n",
       "      <td>Jesusa</td>\n",
       "      <td>Bradford</td>\n",
       "      <td>73</td>\n",
       "      <td>San Francisco-Oakland-Berkeley, CA MSA</td>\n",
       "      <td>2018-11-27</td>\n",
       "      <td>ultimate</td>\n",
       "      <td>2018-12-18</td>\n",
       "      <td>0.0</td>\n",
       "      <td>0.0</td>\n",
       "      <td>0.0</td>\n",
       "      <td>70.0</td>\n",
       "    </tr>\n",
       "    <tr>\n",
       "      <th>12</th>\n",
       "      <td>54.79</td>\n",
       "      <td>9.0</td>\n",
       "      <td>32.0</td>\n",
       "      <td>Jesusa</td>\n",
       "      <td>Bradford</td>\n",
       "      <td>73</td>\n",
       "      <td>San Francisco-Oakland-Berkeley, CA MSA</td>\n",
       "      <td>2018-11-27</td>\n",
       "      <td>ultimate</td>\n",
       "      <td>2018-12-18</td>\n",
       "      <td>0.0</td>\n",
       "      <td>0.0</td>\n",
       "      <td>2.0</td>\n",
       "      <td>84.0</td>\n",
       "    </tr>\n",
       "    <tr>\n",
       "      <th rowspan=\"2\" valign=\"top\">1008</th>\n",
       "      <th>10</th>\n",
       "      <td>450.21</td>\n",
       "      <td>71.0</td>\n",
       "      <td>17.0</td>\n",
       "      <td>Emely</td>\n",
       "      <td>Hoffman</td>\n",
       "      <td>53</td>\n",
       "      <td>Orlando-Kissimmee-Sanford, FL MSA</td>\n",
       "      <td>2018-08-03</td>\n",
       "      <td>ultimate</td>\n",
       "      <td>NaT</td>\n",
       "      <td>0.0</td>\n",
       "      <td>0.0</td>\n",
       "      <td>0.0</td>\n",
       "      <td>70.0</td>\n",
       "    </tr>\n",
       "    <tr>\n",
       "      <th>11</th>\n",
       "      <td>422.81</td>\n",
       "      <td>63.0</td>\n",
       "      <td>24.0</td>\n",
       "      <td>Emely</td>\n",
       "      <td>Hoffman</td>\n",
       "      <td>53</td>\n",
       "      <td>Orlando-Kissimmee-Sanford, FL MSA</td>\n",
       "      <td>2018-08-03</td>\n",
       "      <td>ultimate</td>\n",
       "      <td>NaT</td>\n",
       "      <td>0.0</td>\n",
       "      <td>0.0</td>\n",
       "      <td>0.0</td>\n",
       "      <td>70.0</td>\n",
       "    </tr>\n",
       "  </tbody>\n",
       "</table>\n",
       "</div>"
      ],
      "text/plain": [
       "               total_minutes  total_messages  total_gb first_name last_name  \\\n",
       "user_id month                                                                 \n",
       "1000    12            116.83            16.0       2.0   Anamaria     Bauer   \n",
       "1006    11              9.32             2.0       3.0     Jesusa  Bradford   \n",
       "        12             54.79             9.0      32.0     Jesusa  Bradford   \n",
       "1008    10            450.21            71.0      17.0      Emely   Hoffman   \n",
       "        11            422.81            63.0      24.0      Emely   Hoffman   \n",
       "\n",
       "               age                                    city   reg_date  \\\n",
       "user_id month                                                           \n",
       "1000    12      45   Atlanta-Sandy Springs-Roswell, GA MSA 2018-12-24   \n",
       "1006    11      73  San Francisco-Oakland-Berkeley, CA MSA 2018-11-27   \n",
       "        12      73  San Francisco-Oakland-Berkeley, CA MSA 2018-11-27   \n",
       "1008    10      53       Orlando-Kissimmee-Sanford, FL MSA 2018-08-03   \n",
       "        11      53       Orlando-Kissimmee-Sanford, FL MSA 2018-08-03   \n",
       "\n",
       "                   plan churn_date  minutes_extra  messages_extra  gb_extra  \\\n",
       "user_id month                                                                 \n",
       "1000    12     ultimate        NaT            0.0             0.0       0.0   \n",
       "1006    11     ultimate 2018-12-18            0.0             0.0       0.0   \n",
       "        12     ultimate 2018-12-18            0.0             0.0       2.0   \n",
       "1008    10     ultimate        NaT            0.0             0.0       0.0   \n",
       "        11     ultimate        NaT            0.0             0.0       0.0   \n",
       "\n",
       "               total_income  \n",
       "user_id month                \n",
       "1000    12             70.0  \n",
       "1006    11             70.0  \n",
       "        12             84.0  \n",
       "1008    10             70.0  \n",
       "        11             70.0  "
      ]
     },
     "execution_count": 35,
     "metadata": {},
     "output_type": "execute_result"
    }
   ],
   "source": [
    "df.head()"
   ]
  },
  {
   "cell_type": "markdown",
   "id": "8eb18fcf",
   "metadata": {},
   "source": [
    "Grafiquemos para ver las ver el comportamiento de los clientes. Veamos primero histogramas del DateFrme completo"
   ]
  },
  {
   "cell_type": "code",
   "execution_count": 36,
   "id": "d294e553",
   "metadata": {
    "scrolled": false
   },
   "outputs": [
    {
     "data": {
      "image/png": "[encoded data removed]",
      "text/plain": [
       "<Figure size 864x360 with 1 Axes>"
      ]
     },
     "metadata": {
      "needs_background": "light"
     },
     "output_type": "display_data"
    },
    {
     "data": {
      "image/png": "[encoded data removed]",
      "text/plain": [
       "<Figure size 864x360 with 1 Axes>"
      ]
     },
     "metadata": {
      "needs_background": "light"
     },
     "output_type": "display_data"
    },
    {
     "data": {
      "image/png": "[encoded data removed]",
      "text/plain": [
       "<Figure size 864x360 with 1 Axes>"
      ]
     },
     "metadata": {
      "needs_background": "light"
     },
     "output_type": "display_data"
    }
   ],
   "source": [
    "df.hist(\"total_minutes\", figsize=(12, 5), range=(-50, 1500), bins=50)\n",
    "plt.show()\n",
    "df.hist(\"total_messages\", figsize=(12, 5), range=(-20, 200), bins=50)\n",
    "plt.show()\n",
    "df.hist(\"total_gb\", figsize=(12, 5), range=(-10, 80), bins=90)\n",
    "plt.show()"
   ]
  },
  {
   "cell_type": "markdown",
   "id": "0009986f",
   "metadata": {},
   "source": [
    "Lo primero que podemos ver es que en cuanto a los valores de minutos y mensajes, tenemos un claro sesgo a la derecha o asimetría positiva. También lo vemos en los GB totales, pero no es tan marcado. A primera vista, lo que causa este sesgo son valores atípicos que extienden el rango del eje horizontal."
   ]
  },
  {
   "cell_type": "markdown",
   "id": "ae333743",
   "metadata": {},
   "source": [
    "# 5.2 Valosres atípicos\n",
    "\n",
    "Calculemos si hay valores atípicos usando el rango intercuartílico y diagramas de cajas"
   ]
  },
  {
   "cell_type": "code",
   "execution_count": 37,
   "id": "1be5d431",
   "metadata": {},
   "outputs": [
    {
     "name": "stdout",
     "output_type": "stream",
     "text": [
      "First quartile: 249.47499999999997\n",
      "Third quartile: 540.4675\n",
      "IQR: 290.9925\n",
      "Límite inferior: -187.01375000000002\n",
      "Límite superior: 976.95625\n"
     ]
    },
    {
     "data": {
      "image/png": "[encoded data removed]",
      "text/plain": [
       "<Figure size 432x720 with 1 Axes>"
      ]
     },
     "metadata": {
      "needs_background": "light"
     },
     "output_type": "display_data"
    }
   ],
   "source": [
    "df.boxplot(column='total_minutes', figsize=(6, 10))\n",
    "Q1 = df['total_minutes'].quantile(0.25)\n",
    "Q3 = df['total_minutes'].quantile(0.75)\n",
    "IQR = Q3 - Q1\n",
    "print(\"First quartile:\", Q1)\n",
    "print(\"Third quartile:\", Q3)\n",
    "print(\"IQR:\", IQR)\n",
    "print(\"Límite inferior:\", Q1 - 1.5 * IQR)\n",
    "print(\"Límite superior:\", Q3 + 1.5 * IQR)"
   ]
  },
  {
   "cell_type": "code",
   "execution_count": 38,
   "id": "cbacd125",
   "metadata": {},
   "outputs": [
    {
     "name": "stdout",
     "output_type": "stream",
     "text": [
      "First quartile: 38.0\n",
      "Third quartile: 79.0\n",
      "IQR: 41.0\n",
      "Límite inferior: -23.5\n",
      "Límite superior: 140.5\n"
     ]
    },
    {
     "data": {
      "image/png": "[encoded data removed]",
      "text/plain": [
       "<Figure size 432x720 with 1 Axes>"
      ]
     },
     "metadata": {
      "needs_background": "light"
     },
     "output_type": "display_data"
    }
   ],
   "source": [
    "df.boxplot(column='total_messages', figsize=(6, 10))\n",
    "Q1 = df['total_messages'].quantile(0.25)\n",
    "Q3 = df['total_messages'].quantile(0.75)\n",
    "IQR = Q3 - Q1\n",
    "print(\"First quartile:\", Q1)\n",
    "print(\"Third quartile:\", Q3)\n",
    "print(\"IQR:\", IQR)\n",
    "print(\"Límite inferior:\", Q1 - 1.5 * IQR)\n",
    "print(\"Límite superior:\", Q3 + 1.5 * IQR)"
   ]
  },
  {
   "cell_type": "code",
   "execution_count": 39,
   "id": "683fe358",
   "metadata": {},
   "outputs": [
    {
     "name": "stdout",
     "output_type": "stream",
     "text": [
      "First quartile: 12.0\n",
      "Third quartile: 21.0\n",
      "IQR: 9.0\n",
      "Límite inferior: -1.5\n",
      "Límite superior: 34.5\n"
     ]
    },
    {
     "data": {
      "image/png": "[encoded data removed]",
      "text/plain": [
       "<Figure size 432x720 with 1 Axes>"
      ]
     },
     "metadata": {
      "needs_background": "light"
     },
     "output_type": "display_data"
    }
   ],
   "source": [
    "df.boxplot(column='total_gb', figsize=(6, 10))\n",
    "Q1 = df['total_gb'].quantile(0.25)\n",
    "Q3 = df['total_gb'].quantile(0.75)\n",
    "IQR = Q3 - Q1\n",
    "print(\"First quartile:\", Q1)\n",
    "print(\"Third quartile:\", Q3)\n",
    "print(\"IQR:\", IQR)\n",
    "print(\"Límite inferior:\", Q1 - 1.5 * IQR)\n",
    "print(\"Límite superior:\", Q3 + 1.5 * IQR)"
   ]
  },
  {
   "cell_type": "markdown",
   "id": "2d2ac81c",
   "metadata": {},
   "source": [
    "Podemos ver que, efectivamente, hay valores atípicos en los datos. En este estudio, no vamos a eliminar los valores que se salen del rango intercuartílico, ya que , si bien son valores atípicos, vamos a estudiarlos para tratar de entender cuáles son los requerimientos de los usuarios que exceden la capacidad de sus planes contratados. Para ello, haremos DataFrames filtrados para cada plan, y, en ellos, analizaremos los valores atípicos, especificamente aquellos que excedan los límites de cada plan."
   ]
  },
  {
   "cell_type": "markdown",
   "id": "69765af7",
   "metadata": {},
   "source": [
    "# 5.3 Encontrando minutos, SMS y volumen de datos para cada tarifa por mes\n",
    "\n",
    "Comencemos haciendo un data frame para los usuarios del plan surf y otro para los del plan ultimate"
   ]
  },
  {
   "cell_type": "code",
   "execution_count": 40,
   "id": "5f1fb755",
   "metadata": {},
   "outputs": [],
   "source": [
    "df_surf = df.query('plan != \"ultimate\"')\n",
    "df_ultimate = df.query('plan != \"surf\"')"
   ]
  },
  {
   "cell_type": "code",
   "execution_count": 41,
   "id": "b9b2f987",
   "metadata": {},
   "outputs": [
    {
     "data": {
      "text/html": [
       "<div>\n",
       "<style scoped>\n",
       "    .dataframe tbody tr th:only-of-type {\n",
       "        vertical-align: middle;\n",
       "    }\n",
       "\n",
       "    .dataframe tbody tr th {\n",
       "        vertical-align: top;\n",
       "    }\n",
       "\n",
       "    .dataframe thead th {\n",
       "        text-align: right;\n",
       "    }\n",
       "</style>\n",
       "<table border=\"1\" class=\"dataframe\">\n",
       "  <thead>\n",
       "    <tr style=\"text-align: right;\">\n",
       "      <th></th>\n",
       "      <th>total_minutes</th>\n",
       "      <th>total_messages</th>\n",
       "      <th>total_gb</th>\n",
       "      <th>age</th>\n",
       "      <th>minutes_extra</th>\n",
       "      <th>messages_extra</th>\n",
       "      <th>gb_extra</th>\n",
       "      <th>total_income</th>\n",
       "    </tr>\n",
       "  </thead>\n",
       "  <tbody>\n",
       "    <tr>\n",
       "      <th>count</th>\n",
       "      <td>1573.000000</td>\n",
       "      <td>1573.000000</td>\n",
       "      <td>1573.000000</td>\n",
       "      <td>1573.000000</td>\n",
       "      <td>1573.000000</td>\n",
       "      <td>1573.000000</td>\n",
       "      <td>1573.000000</td>\n",
       "      <td>1573.000000</td>\n",
       "    </tr>\n",
       "    <tr>\n",
       "      <th>mean</th>\n",
       "      <td>404.762390</td>\n",
       "      <td>59.811825</td>\n",
       "      <td>16.670693</td>\n",
       "      <td>44.379530</td>\n",
       "      <td>48.823598</td>\n",
       "      <td>17.996821</td>\n",
       "      <td>3.865226</td>\n",
       "      <td>60.414772</td>\n",
       "    </tr>\n",
       "    <tr>\n",
       "      <th>std</th>\n",
       "      <td>221.664397</td>\n",
       "      <td>32.017989</td>\n",
       "      <td>7.847522</td>\n",
       "      <td>16.646535</td>\n",
       "      <td>110.068281</td>\n",
       "      <td>23.116573</td>\n",
       "      <td>5.445627</td>\n",
       "      <td>55.417998</td>\n",
       "    </tr>\n",
       "    <tr>\n",
       "      <th>min</th>\n",
       "      <td>0.000000</td>\n",
       "      <td>0.000000</td>\n",
       "      <td>0.000000</td>\n",
       "      <td>18.000000</td>\n",
       "      <td>0.000000</td>\n",
       "      <td>0.000000</td>\n",
       "      <td>0.000000</td>\n",
       "      <td>20.000000</td>\n",
       "    </tr>\n",
       "    <tr>\n",
       "      <th>25%</th>\n",
       "      <td>255.470000</td>\n",
       "      <td>39.000000</td>\n",
       "      <td>12.000000</td>\n",
       "      <td>29.000000</td>\n",
       "      <td>0.000000</td>\n",
       "      <td>0.000000</td>\n",
       "      <td>0.000000</td>\n",
       "      <td>20.000000</td>\n",
       "    </tr>\n",
       "    <tr>\n",
       "      <th>50%</th>\n",
       "      <td>401.760000</td>\n",
       "      <td>60.000000</td>\n",
       "      <td>17.000000</td>\n",
       "      <td>45.000000</td>\n",
       "      <td>0.000000</td>\n",
       "      <td>10.000000</td>\n",
       "      <td>2.000000</td>\n",
       "      <td>40.000000</td>\n",
       "    </tr>\n",
       "    <tr>\n",
       "      <th>75%</th>\n",
       "      <td>543.680000</td>\n",
       "      <td>79.000000</td>\n",
       "      <td>21.000000</td>\n",
       "      <td>59.000000</td>\n",
       "      <td>43.680000</td>\n",
       "      <td>29.000000</td>\n",
       "      <td>6.000000</td>\n",
       "      <td>80.000000</td>\n",
       "    </tr>\n",
       "    <tr>\n",
       "      <th>max</th>\n",
       "      <td>1431.220000</td>\n",
       "      <td>205.000000</td>\n",
       "      <td>70.000000</td>\n",
       "      <td>75.000000</td>\n",
       "      <td>931.220000</td>\n",
       "      <td>155.000000</td>\n",
       "      <td>55.000000</td>\n",
       "      <td>589.177200</td>\n",
       "    </tr>\n",
       "  </tbody>\n",
       "</table>\n",
       "</div>"
      ],
      "text/plain": [
       "       total_minutes  total_messages     total_gb          age  minutes_extra  \\\n",
       "count    1573.000000     1573.000000  1573.000000  1573.000000    1573.000000   \n",
       "mean      404.762390       59.811825    16.670693    44.379530      48.823598   \n",
       "std       221.664397       32.017989     7.847522    16.646535     110.068281   \n",
       "min         0.000000        0.000000     0.000000    18.000000       0.000000   \n",
       "25%       255.470000       39.000000    12.000000    29.000000       0.000000   \n",
       "50%       401.760000       60.000000    17.000000    45.000000       0.000000   \n",
       "75%       543.680000       79.000000    21.000000    59.000000      43.680000   \n",
       "max      1431.220000      205.000000    70.000000    75.000000     931.220000   \n",
       "\n",
       "       messages_extra     gb_extra  total_income  \n",
       "count     1573.000000  1573.000000   1573.000000  \n",
       "mean        17.996821     3.865226     60.414772  \n",
       "std         23.116573     5.445627     55.417998  \n",
       "min          0.000000     0.000000     20.000000  \n",
       "25%          0.000000     0.000000     20.000000  \n",
       "50%         10.000000     2.000000     40.000000  \n",
       "75%         29.000000     6.000000     80.000000  \n",
       "max        155.000000    55.000000    589.177200  "
      ]
     },
     "execution_count": 41,
     "metadata": {},
     "output_type": "execute_result"
    }
   ],
   "source": [
    "df_surf.describe()"
   ]
  },
  {
   "cell_type": "code",
   "execution_count": 42,
   "id": "bc843497",
   "metadata": {},
   "outputs": [
    {
     "data": {
      "text/html": [
       "<div>\n",
       "<style scoped>\n",
       "    .dataframe tbody tr th:only-of-type {\n",
       "        vertical-align: middle;\n",
       "    }\n",
       "\n",
       "    .dataframe tbody tr th {\n",
       "        vertical-align: top;\n",
       "    }\n",
       "\n",
       "    .dataframe thead th {\n",
       "        text-align: right;\n",
       "    }\n",
       "</style>\n",
       "<table border=\"1\" class=\"dataframe\">\n",
       "  <thead>\n",
       "    <tr style=\"text-align: right;\">\n",
       "      <th></th>\n",
       "      <th>total_minutes</th>\n",
       "      <th>total_messages</th>\n",
       "      <th>total_gb</th>\n",
       "      <th>age</th>\n",
       "      <th>minutes_extra</th>\n",
       "      <th>messages_extra</th>\n",
       "      <th>gb_extra</th>\n",
       "      <th>total_income</th>\n",
       "    </tr>\n",
       "  </thead>\n",
       "  <tbody>\n",
       "    <tr>\n",
       "      <th>count</th>\n",
       "      <td>719.000000</td>\n",
       "      <td>719.000000</td>\n",
       "      <td>719.000000</td>\n",
       "      <td>719.000000</td>\n",
       "      <td>719.0</td>\n",
       "      <td>719.0</td>\n",
       "      <td>719.000000</td>\n",
       "      <td>719.000000</td>\n",
       "    </tr>\n",
       "    <tr>\n",
       "      <th>mean</th>\n",
       "      <td>406.758025</td>\n",
       "      <td>60.710709</td>\n",
       "      <td>17.331015</td>\n",
       "      <td>47.688456</td>\n",
       "      <td>0.0</td>\n",
       "      <td>0.0</td>\n",
       "      <td>0.331015</td>\n",
       "      <td>72.317107</td>\n",
       "    </tr>\n",
       "    <tr>\n",
       "      <th>std</th>\n",
       "      <td>226.898171</td>\n",
       "      <td>33.188997</td>\n",
       "      <td>7.648185</td>\n",
       "      <td>16.795187</td>\n",
       "      <td>0.0</td>\n",
       "      <td>0.0</td>\n",
       "      <td>1.628959</td>\n",
       "      <td>11.402713</td>\n",
       "    </tr>\n",
       "    <tr>\n",
       "      <th>min</th>\n",
       "      <td>0.000000</td>\n",
       "      <td>0.000000</td>\n",
       "      <td>1.000000</td>\n",
       "      <td>18.000000</td>\n",
       "      <td>0.0</td>\n",
       "      <td>0.0</td>\n",
       "      <td>0.000000</td>\n",
       "      <td>70.000000</td>\n",
       "    </tr>\n",
       "    <tr>\n",
       "      <th>25%</th>\n",
       "      <td>246.680000</td>\n",
       "      <td>36.000000</td>\n",
       "      <td>13.000000</td>\n",
       "      <td>34.000000</td>\n",
       "      <td>0.0</td>\n",
       "      <td>0.0</td>\n",
       "      <td>0.000000</td>\n",
       "      <td>70.000000</td>\n",
       "    </tr>\n",
       "    <tr>\n",
       "      <th>50%</th>\n",
       "      <td>398.600000</td>\n",
       "      <td>61.000000</td>\n",
       "      <td>17.000000</td>\n",
       "      <td>48.000000</td>\n",
       "      <td>0.0</td>\n",
       "      <td>0.0</td>\n",
       "      <td>0.000000</td>\n",
       "      <td>70.000000</td>\n",
       "    </tr>\n",
       "    <tr>\n",
       "      <th>75%</th>\n",
       "      <td>532.665000</td>\n",
       "      <td>80.000000</td>\n",
       "      <td>21.000000</td>\n",
       "      <td>64.000000</td>\n",
       "      <td>0.0</td>\n",
       "      <td>0.0</td>\n",
       "      <td>0.000000</td>\n",
       "      <td>70.000000</td>\n",
       "    </tr>\n",
       "    <tr>\n",
       "      <th>max</th>\n",
       "      <td>1292.090000</td>\n",
       "      <td>191.000000</td>\n",
       "      <td>46.000000</td>\n",
       "      <td>75.000000</td>\n",
       "      <td>0.0</td>\n",
       "      <td>0.0</td>\n",
       "      <td>16.000000</td>\n",
       "      <td>182.000000</td>\n",
       "    </tr>\n",
       "  </tbody>\n",
       "</table>\n",
       "</div>"
      ],
      "text/plain": [
       "       total_minutes  total_messages    total_gb         age  minutes_extra  \\\n",
       "count     719.000000      719.000000  719.000000  719.000000          719.0   \n",
       "mean      406.758025       60.710709   17.331015   47.688456            0.0   \n",
       "std       226.898171       33.188997    7.648185   16.795187            0.0   \n",
       "min         0.000000        0.000000    1.000000   18.000000            0.0   \n",
       "25%       246.680000       36.000000   13.000000   34.000000            0.0   \n",
       "50%       398.600000       61.000000   17.000000   48.000000            0.0   \n",
       "75%       532.665000       80.000000   21.000000   64.000000            0.0   \n",
       "max      1292.090000      191.000000   46.000000   75.000000            0.0   \n",
       "\n",
       "       messages_extra    gb_extra  total_income  \n",
       "count           719.0  719.000000    719.000000  \n",
       "mean              0.0    0.331015     72.317107  \n",
       "std               0.0    1.628959     11.402713  \n",
       "min               0.0    0.000000     70.000000  \n",
       "25%               0.0    0.000000     70.000000  \n",
       "50%               0.0    0.000000     70.000000  \n",
       "75%               0.0    0.000000     70.000000  \n",
       "max               0.0   16.000000    182.000000  "
      ]
     },
     "execution_count": 42,
     "metadata": {},
     "output_type": "execute_result"
    }
   ],
   "source": [
    "df_ultimate.describe()"
   ]
  },
  {
   "cell_type": "markdown",
   "id": "ac3e3f6d",
   "metadata": {},
   "source": [
    "Podemos ver que en tabla filtrada para el plan surf, todos los valores máximos superan los límites de todos las variables del plan (minutos, mensajes y gb). Por otro lado, en la tabla que contiene solo a los usuarios del plan ultimate, solo es superado el valor máximo del plan respecto a los GB.\n",
    "\n",
    "Para poder determinar solo a los usuarios que exceden alguno de los límites en alguna de las variables de su plan, usaremos una tabla filtrada que solo contenga usuarios en los que total_income sea mayor al valor del plan.\n",
    "\n",
    "Comencemos haciendo un histograma con el plan ultimate, y vamos a establecer el límite inferior del rango a gráficar para cada variable en la cantidad que tenemos en el plan para cada variable. En otras palabras, graficaremos solo la data de los usuarios que exceda los minutos, mensajes y gb que contiene el plan, para detectar así los ingresos adicionales a la tarifa base del plan por usuario."
   ]
  },
  {
   "cell_type": "code",
   "execution_count": 43,
   "id": "f3239b27",
   "metadata": {
    "scrolled": true
   },
   "outputs": [
    {
     "data": {
      "image/png": "[encoded data removed]",
      "text/plain": [
       "<Figure size 864x360 with 1 Axes>"
      ]
     },
     "metadata": {
      "needs_background": "light"
     },
     "output_type": "display_data"
    },
    {
     "data": {
      "image/png": "[encoded data removed]",
      "text/plain": [
       "<Figure size 864x360 with 1 Axes>"
      ]
     },
     "metadata": {
      "needs_background": "light"
     },
     "output_type": "display_data"
    },
    {
     "data": {
      "image/png": "[encoded data removed]",
      "text/plain": [
       "<Figure size 864x360 with 1 Axes>"
      ]
     },
     "metadata": {
      "needs_background": "light"
     },
     "output_type": "display_data"
    }
   ],
   "source": [
    "df_ultimate.query('total_income > 70').hist(\"total_minutes\", figsize=(12, 5), range=(3000, 3100), bins=50)\n",
    "plt.show()\n",
    "df_ultimate.query('total_income > 70').hist(\"total_messages\", figsize=(12, 5), range=(1000, 1100), bins=50)\n",
    "plt.show()\n",
    "df_ultimate.query('total_income > 70').hist(\"total_gb\", figsize=(12, 5), range=(30, 50), bins=90)\n",
    "plt.show()"
   ]
  },
  {
   "cell_type": "markdown",
   "id": "89a18086",
   "metadata": {},
   "source": [
    "Efectivamente, algunos usuarios de este plan solo exceden su cuota mensual de GB. Los minutos y mensajes que incluye el plan son más que necesarios ya que ni uno solo de sus usuarios los excede. Veamos el detalle de los usuarios que consumen más de la cantidad mensual de GB."
   ]
  },
  {
   "cell_type": "code",
   "execution_count": 44,
   "id": "8e5c9533",
   "metadata": {
    "scrolled": false
   },
   "outputs": [
    {
     "data": {
      "text/plain": [
       "user_id\n",
       "1006                                              [84.0]\n",
       "1028    [112.0, 119.0, 91.0, 126.0, 140.0, 182.0, 154.0]\n",
       "1038                                      [126.0, 168.0]\n",
       "1043                           [84.0, 77.0, 91.0, 126.0]\n",
       "1057                                             [105.0]\n",
       "1126                                              [98.0]\n",
       "1144                         [126.0, 112.0, 119.0, 91.0]\n",
       "1185                                              [84.0]\n",
       "1196                                              [77.0]\n",
       "1204                                             [112.0]\n",
       "1246                                              [77.0]\n",
       "1283                                              [91.0]\n",
       "1301                                             [105.0]\n",
       "1373                                       [84.0, 112.0]\n",
       "1403                                       [105.0, 77.0]\n",
       "1435                                              [91.0]\n",
       "1460                                 [91.0, 105.0, 77.0]\n",
       "1490                        [133.0, 112.0, 119.0, 182.0]\n",
       "Name: total_income, dtype: object"
      ]
     },
     "execution_count": 44,
     "metadata": {},
     "output_type": "execute_result"
    }
   ],
   "source": [
    "df_ult_gb = df_ultimate.query('total_income > 70 and total_gb > 30')\n",
    "df_ult_gb['total_income'].groupby('user_id').unique()"
   ]
  },
  {
   "cell_type": "code",
   "execution_count": 45,
   "id": "0833e1e1",
   "metadata": {},
   "outputs": [
    {
     "data": {
      "text/plain": [
       "user_id\n",
       "1006                                              [84.0]\n",
       "1028    [112.0, 119.0, 91.0, 126.0, 140.0, 182.0, 154.0]\n",
       "1038                                      [126.0, 168.0]\n",
       "1043                           [84.0, 77.0, 91.0, 126.0]\n",
       "1057                                             [105.0]\n",
       "1126                                              [98.0]\n",
       "1144                         [126.0, 112.0, 119.0, 91.0]\n",
       "1185                                              [84.0]\n",
       "1196                                              [77.0]\n",
       "1204                                             [112.0]\n",
       "1246                                              [77.0]\n",
       "1283                                              [91.0]\n",
       "1301                                             [105.0]\n",
       "1373                                       [84.0, 112.0]\n",
       "1403                                       [105.0, 77.0]\n",
       "1435                                              [91.0]\n",
       "1460                                 [91.0, 105.0, 77.0]\n",
       "1490                        [133.0, 112.0, 119.0, 182.0]\n",
       "Name: total_income, dtype: object"
      ]
     },
     "execution_count": 45,
     "metadata": {},
     "output_type": "execute_result"
    }
   ],
   "source": [
    "df_ultimate_income = df_ultimate.query('total_income > 70')\n",
    "df_ultimate_income['total_income'].groupby('user_id').unique()"
   ]
  },
  {
   "cell_type": "markdown",
   "id": "0260a772",
   "metadata": {},
   "source": [
    "Vemos que, si hacemos una tabla con todos los ingresos adicionales del plan ultimate, es exactamente igual a la tabla df_ult_gb, ya que solo hay ingresos adicionales en el consuo de GB. Hay un total de 18 clientes que excenden la cantidad de GB al mes que incluye el plan, y, de esos, 8 lo hacen durante varios meses.\n",
    "\n",
    "En ese sentido, lo que podemos decir acerca de los usuarios del plan ultimate, es que los minutos que incluye el mismo son más que suficientes, al igual que los SMS. Sin embargo, especto al consumo de datos que requieren, pareciera que algunos usuarios se quedan cortos con lo que el plan les ofrece. Veamos que proporción del total representan."
   ]
  },
  {
   "cell_type": "code",
   "execution_count": 46,
   "id": "188710a9",
   "metadata": {},
   "outputs": [
    {
     "data": {
      "text/plain": [
       "'El porcentaje de usuarios que execede los GB incluidos en el plan ultimate es: 2%'"
      ]
     },
     "execution_count": 46,
     "metadata": {},
     "output_type": "execute_result"
    }
   ],
   "source": [
    "gb_outliners = 17 / len(df_ultimate)\n",
    "\n",
    "f\"El porcentaje de usuarios que execede los GB incluidos en el plan ultimate es: {gb_outliners:.0%}\""
   ]
  },
  {
   "cell_type": "markdown",
   "id": "be699326",
   "metadata": {},
   "source": [
    "Repitamos el análisis ahora con los usuarios del plan surf, graficando también solo la data de los usuarios que exceda los minutos, mensajes y GB que contiene el plan"
   ]
  },
  {
   "cell_type": "code",
   "execution_count": 47,
   "id": "801460d7",
   "metadata": {
    "scrolled": true
   },
   "outputs": [
    {
     "data": {
      "image/png": "[encoded data removed]",
      "text/plain": [
       "<Figure size 864x360 with 1 Axes>"
      ]
     },
     "metadata": {
      "needs_background": "light"
     },
     "output_type": "display_data"
    },
    {
     "data": {
      "image/png": "[encoded data removed]",
      "text/plain": [
       "<Figure size 864x360 with 1 Axes>"
      ]
     },
     "metadata": {
      "needs_background": "light"
     },
     "output_type": "display_data"
    },
    {
     "data": {
      "image/png": "[encoded data removed]",
      "text/plain": [
       "<Figure size 864x360 with 1 Axes>"
      ]
     },
     "metadata": {
      "needs_background": "light"
     },
     "output_type": "display_data"
    }
   ],
   "source": [
    "df_surf.query('total_income > 20').hist(\"total_minutes\", figsize=(12, 5), range=(500, 1500), bins=50)\n",
    "plt.show()\n",
    "df_surf.query('total_income > 20').hist(\"total_messages\", figsize=(12, 5), range=(50, 200), bins=50)\n",
    "plt.show()\n",
    "df_surf.query('total_income > 20').hist(\"total_gb\", figsize=(12, 5), range=(15, 80), bins=90)\n",
    "plt.show()"
   ]
  },
  {
   "cell_type": "markdown",
   "id": "3740b941",
   "metadata": {},
   "source": [
    "Aquí cambia bastante el resultado. Vemos que muchos usuarios consumen más de todas las variables que incluye el plan. Revisemos con detalle minutos, mensajes y GB."
   ]
  },
  {
   "cell_type": "code",
   "execution_count": 48,
   "id": "533b8b7c",
   "metadata": {
    "scrolled": false
   },
   "outputs": [
    {
     "data": {
      "text/plain": [
       "user_id\n",
       "1003                                 [1040.9999999999998]\n",
       "1007                          [610.65, 579.4300000000001]\n",
       "1009    [775.5200000000003, 826.7400000000001, 680.39,...\n",
       "1010    [618.43, 524.1400000000003, 658.2399999999999,...\n",
       "1014                                 [1050.6199999999997]\n",
       "                              ...                        \n",
       "1483                                  [639.0000000000001]\n",
       "1488    [669.4500000000002, 589.7299999999999, 642.25,...\n",
       "1491                                  [551.8899999999998]\n",
       "1494                                  [585.8199999999999]\n",
       "1495                                  [578.0299999999997]\n",
       "Name: total_minutes, Length: 161, dtype: object"
      ]
     },
     "execution_count": 48,
     "metadata": {},
     "output_type": "execute_result"
    }
   ],
   "source": [
    "df_surf_min = df_surf.query('total_income > 20 and total_minutes > 500')\n",
    "df_surf_min['total_minutes'].groupby('user_id').unique()"
   ]
  },
  {
   "cell_type": "code",
   "execution_count": 49,
   "id": "cd1aa438",
   "metadata": {},
   "outputs": [
    {
     "data": {
      "text/plain": [
       "user_id\n",
       "1001          [65.0, 64.0, 56.0]\n",
       "1002                      [55.0]\n",
       "1003                     [149.0]\n",
       "1004                      [54.0]\n",
       "1005                      [59.0]\n",
       "                  ...           \n",
       "1491                      [75.0]\n",
       "1494          [78.0, 67.0, 82.0]\n",
       "1495    [52.0, 75.0, 61.0, 65.0]\n",
       "1496                      [52.0]\n",
       "1499                [53.0, 65.0]\n",
       "Name: total_messages, Length: 232, dtype: object"
      ]
     },
     "execution_count": 49,
     "metadata": {},
     "output_type": "execute_result"
    }
   ],
   "source": [
    "df_surf_sms = df_surf.query('total_income > 20 and total_messages > 50')\n",
    "df_surf_sms['total_messages'].groupby('user_id').unique()"
   ]
  },
  {
   "cell_type": "code",
   "execution_count": 50,
   "id": "4461a520",
   "metadata": {},
   "outputs": [
    {
     "data": {
      "text/plain": [
       "user_id\n",
       "1001                            [22.0, 19.0]\n",
       "1002                                  [19.0]\n",
       "1003                                  [27.0]\n",
       "1004          [21.0, 24.0, 28.0, 19.0, 22.0]\n",
       "1005                                  [17.0]\n",
       "                        ...                 \n",
       "1494                      [17.0, 16.0, 18.0]\n",
       "1495                [23.0, 27.0, 25.0, 24.0]\n",
       "1496                                  [17.0]\n",
       "1498    [20.0, 22.0, 25.0, 23.0, 21.0, 19.0]\n",
       "1499                      [20.0, 17.0, 22.0]\n",
       "Name: total_gb, Length: 261, dtype: object"
      ]
     },
     "execution_count": 50,
     "metadata": {},
     "output_type": "execute_result"
    }
   ],
   "source": [
    "df_surf_gb = df_surf.query('total_income > 20 and total_gb > 15')\n",
    "df_surf_gb['total_gb'].groupby('user_id').unique()"
   ]
  },
  {
   "cell_type": "markdown",
   "id": "e62c6be7",
   "metadata": {},
   "source": [
    "Veamos en total cuántos usuarios exceden al menos uno de los beneficios de su plan."
   ]
  },
  {
   "cell_type": "code",
   "execution_count": 51,
   "id": "3adfb1f4",
   "metadata": {},
   "outputs": [
    {
     "data": {
      "text/plain": [
       "user_id\n",
       "1001                                 [90.0, 60.0]\n",
       "1002                                       [60.0]\n",
       "1003                                      [159.2]\n",
       "1004             [80.0, 110.0, 150.0, 60.0, 90.0]\n",
       "1005                                       [40.0]\n",
       "                          ...                    \n",
       "1494       [40.0, 30.0, 22.574599999999997, 50.0]\n",
       "1495    [100.0, 143.09089999999998, 120.0, 110.0]\n",
       "1496                                       [40.0]\n",
       "1498       [70.0, 90.0, 120.0, 100.0, 80.0, 60.0]\n",
       "1499                           [70.0, 40.0, 90.0]\n",
       "Name: total_income, Length: 284, dtype: object"
      ]
     },
     "execution_count": 51,
     "metadata": {},
     "output_type": "execute_result"
    }
   ],
   "source": [
    "df_surf_income = df_surf.query('total_income > 20')\n",
    "df_surf_income['total_income'].groupby('user_id').unique()"
   ]
  },
  {
   "cell_type": "code",
   "execution_count": 52,
   "id": "c0fe9708",
   "metadata": {},
   "outputs": [
    {
     "data": {
      "text/plain": [
       "'El porcentaje de usuarios que execede los minutos, mensajes o GB incluidos en el plan surf es: 18%'"
      ]
     },
     "execution_count": 52,
     "metadata": {},
     "output_type": "execute_result"
    }
   ],
   "source": [
    "surf_outliners = 277 / len(df_surf)\n",
    "f\"El porcentaje de usuarios que execede los minutos, mensajes o GB incluidos en el plan surf es: {surf_outliners:.0%}\""
   ]
  },
  {
   "cell_type": "markdown",
   "id": "41d6341e",
   "metadata": {},
   "source": [
    "Por último, veamos como fue el comportamiento en cuanto al consumo de minutos, mensajes y datos para cada plan a lo largo de los meses del año"
   ]
  },
  {
   "cell_type": "code",
   "execution_count": 53,
   "id": "31a93d49",
   "metadata": {
    "scrolled": true
   },
   "outputs": [
    {
     "data": {
      "text/plain": [
       "<seaborn.axisgrid.FacetGrid at 0x7fdde2cd9790>"
      ]
     },
     "execution_count": 53,
     "metadata": {},
     "output_type": "execute_result"
    },
    {
     "data": {
      "image/png": "[encoded data removed]",
      "text/plain": [
       "<Figure size 4320x360 with 12 Axes>"
      ]
     },
     "metadata": {
      "needs_background": "light"
     },
     "output_type": "display_data"
    }
   ],
   "source": [
    "sns.displot(data=df_surf, x='total_minutes', col='month', kde=True)"
   ]
  },
  {
   "cell_type": "code",
   "execution_count": 54,
   "id": "2952f848",
   "metadata": {
    "scrolled": true
   },
   "outputs": [
    {
     "data": {
      "text/plain": [
       "<seaborn.axisgrid.FacetGrid at 0x7fdde2d280d0>"
      ]
     },
     "execution_count": 54,
     "metadata": {},
     "output_type": "execute_result"
    },
    {
     "data": {
      "image/png": "[encoded data removed]",
      "text/plain": [
       "<Figure size 4320x360 with 12 Axes>"
      ]
     },
     "metadata": {
      "needs_background": "light"
     },
     "output_type": "display_data"
    }
   ],
   "source": [
    "sns.displot(data=df_surf, x='total_messages', col='month', kde=True)"
   ]
  },
  {
   "cell_type": "code",
   "execution_count": 55,
   "id": "66442138",
   "metadata": {
    "scrolled": true
   },
   "outputs": [
    {
     "data": {
      "text/plain": [
       "<seaborn.axisgrid.FacetGrid at 0x7fddd5169b80>"
      ]
     },
     "execution_count": 55,
     "metadata": {},
     "output_type": "execute_result"
    },
    {
     "data": {
      "image/png": "[encoded data removed]",
      "text/plain": [
       "<Figure size 4320x360 with 12 Axes>"
      ]
     },
     "metadata": {
      "needs_background": "light"
     },
     "output_type": "display_data"
    }
   ],
   "source": [
    "sns.displot(data=df_surf, x='total_gb', col='month', kde=True)"
   ]
  },
  {
   "cell_type": "markdown",
   "id": "3b139684",
   "metadata": {},
   "source": [
    "Vemos que en el plan surf, en todas las variables el consumo medio se va incrementando a medida que avanza el año"
   ]
  },
  {
   "cell_type": "code",
   "execution_count": 56,
   "id": "01e6fdf9",
   "metadata": {},
   "outputs": [
    {
     "data": {
      "text/plain": [
       "<seaborn.axisgrid.FacetGrid at 0x7fddd5184550>"
      ]
     },
     "execution_count": 56,
     "metadata": {},
     "output_type": "execute_result"
    },
    {
     "data": {
      "image/png": "[encoded data removed]",
      "text/plain": [
       "<Figure size 4320x360 with 12 Axes>"
      ]
     },
     "metadata": {
      "needs_background": "light"
     },
     "output_type": "display_data"
    }
   ],
   "source": [
    "sns.displot(data=df_ultimate, x='total_minutes', col='month', kde=True)"
   ]
  },
  {
   "cell_type": "code",
   "execution_count": 57,
   "id": "8fed3f7d",
   "metadata": {},
   "outputs": [
    {
     "data": {
      "text/plain": [
       "<seaborn.axisgrid.FacetGrid at 0x7fddd4843340>"
      ]
     },
     "execution_count": 57,
     "metadata": {},
     "output_type": "execute_result"
    },
    {
     "data": {
      "image/png": "[encoded data removed]",
      "text/plain": [
       "<Figure size 4320x360 with 12 Axes>"
      ]
     },
     "metadata": {
      "needs_background": "light"
     },
     "output_type": "display_data"
    }
   ],
   "source": [
    "sns.displot(data=df_ultimate, x='total_minutes', col='month', kde=True)"
   ]
  },
  {
   "cell_type": "code",
   "execution_count": 58,
   "id": "5af4d2f9",
   "metadata": {},
   "outputs": [
    {
     "data": {
      "text/plain": [
       "<seaborn.axisgrid.FacetGrid at 0x7fdde3ef41f0>"
      ]
     },
     "execution_count": 58,
     "metadata": {},
     "output_type": "execute_result"
    },
    {
     "data": {
      "image/png": "[encoded data removed]",
      "text/plain": [
       "<Figure size 4320x360 with 12 Axes>"
      ]
     },
     "metadata": {
      "needs_background": "light"
     },
     "output_type": "display_data"
    }
   ],
   "source": [
    "sns.displot(data=df_ultimate, x='total_minutes', col='month', kde=True)"
   ]
  },
  {
   "cell_type": "markdown",
   "id": "66f219c8",
   "metadata": {},
   "source": [
    "Vemos que en el plan ultimate se repite el comportamiento, en todas las variables el consumo medio se va incrementando a medida que avanza el año."
   ]
  },
  {
   "cell_type": "markdown",
   "id": "7e9c3200",
   "metadata": {},
   "source": [
    "Vamos a determinar qué tarifa de prepago genera más ingresos. Primero, vamos a determinar la cantidad de usuarios que tiene cada plan en la uestra seleccionada"
   ]
  },
  {
   "cell_type": "code",
   "execution_count": 59,
   "id": "7c7b565b",
   "metadata": {},
   "outputs": [
    {
     "data": {
      "text/plain": [
       "161"
      ]
     },
     "execution_count": 59,
     "metadata": {},
     "output_type": "execute_result"
    }
   ],
   "source": [
    "len(users.query('plan == \"ultimate\"'))"
   ]
  },
  {
   "cell_type": "code",
   "execution_count": 60,
   "id": "03852299",
   "metadata": {},
   "outputs": [
    {
     "data": {
      "text/plain": [
       "339"
      ]
     },
     "execution_count": 60,
     "metadata": {},
     "output_type": "execute_result"
    }
   ],
   "source": [
    "len(users.query('plan == \"surf\"'))"
   ]
  },
  {
   "cell_type": "markdown",
   "id": "ad4f2d11",
   "metadata": {},
   "source": [
    "Ahora, calculemos los ingresos generados por cada cliente sumando el total de la columna total income, que, como recordamos, incluye la tarifa base del plan más el consumo adicional en caso de que exista."
   ]
  },
  {
   "cell_type": "code",
   "execution_count": 61,
   "id": "f38b22bf",
   "metadata": {},
   "outputs": [
    {
     "name": "stdout",
     "output_type": "stream",
     "text": [
      "En la muestra seleccionada, el plan surf genera un total de ingresos de: 95032.4356\n",
      "En la muestra seleccionada, el plan ultimate genera un total de ingresos de: 51996.0\n"
     ]
    }
   ],
   "source": [
    "surf_total_income = df_surf['total_income'].sum()\n",
    "print(f'En la muestra seleccionada, el plan surf genera un total de ingresos de: {surf_total_income}')\n",
    "ultimate_total_income = df_ultimate['total_income'].sum()\n",
    "print(f'En la muestra seleccionada, el plan ultimate genera un total de ingresos de: {ultimate_total_income}')"
   ]
  },
  {
   "cell_type": "markdown",
   "id": "3d251fd5",
   "metadata": {},
   "source": [
    "Vemos que el plan surf genera casi el doble de ingresos totales que el plan últimate."
   ]
  },
  {
   "cell_type": "markdown",
   "id": "f96dd54f",
   "metadata": {},
   "source": [
    "Ahora, calcularemos la media, la desviación estándar y la varianza. las dos primeras, podemos obtenerlas con el método describe"
   ]
  },
  {
   "cell_type": "code",
   "execution_count": 62,
   "id": "1415f95f",
   "metadata": {
    "scrolled": true
   },
   "outputs": [
    {
     "data": {
      "text/html": [
       "<div>\n",
       "<style scoped>\n",
       "    .dataframe tbody tr th:only-of-type {\n",
       "        vertical-align: middle;\n",
       "    }\n",
       "\n",
       "    .dataframe tbody tr th {\n",
       "        vertical-align: top;\n",
       "    }\n",
       "\n",
       "    .dataframe thead th {\n",
       "        text-align: right;\n",
       "    }\n",
       "</style>\n",
       "<table border=\"1\" class=\"dataframe\">\n",
       "  <thead>\n",
       "    <tr style=\"text-align: right;\">\n",
       "      <th></th>\n",
       "      <th>total_minutes</th>\n",
       "      <th>total_messages</th>\n",
       "      <th>total_gb</th>\n",
       "      <th>age</th>\n",
       "      <th>minutes_extra</th>\n",
       "      <th>messages_extra</th>\n",
       "      <th>gb_extra</th>\n",
       "      <th>total_income</th>\n",
       "    </tr>\n",
       "  </thead>\n",
       "  <tbody>\n",
       "    <tr>\n",
       "      <th>count</th>\n",
       "      <td>1573.000000</td>\n",
       "      <td>1573.000000</td>\n",
       "      <td>1573.000000</td>\n",
       "      <td>1573.000000</td>\n",
       "      <td>1573.000000</td>\n",
       "      <td>1573.000000</td>\n",
       "      <td>1573.000000</td>\n",
       "      <td>1573.000000</td>\n",
       "    </tr>\n",
       "    <tr>\n",
       "      <th>mean</th>\n",
       "      <td>404.762390</td>\n",
       "      <td>59.811825</td>\n",
       "      <td>16.670693</td>\n",
       "      <td>44.379530</td>\n",
       "      <td>48.823598</td>\n",
       "      <td>17.996821</td>\n",
       "      <td>3.865226</td>\n",
       "      <td>60.414772</td>\n",
       "    </tr>\n",
       "    <tr>\n",
       "      <th>std</th>\n",
       "      <td>221.664397</td>\n",
       "      <td>32.017989</td>\n",
       "      <td>7.847522</td>\n",
       "      <td>16.646535</td>\n",
       "      <td>110.068281</td>\n",
       "      <td>23.116573</td>\n",
       "      <td>5.445627</td>\n",
       "      <td>55.417998</td>\n",
       "    </tr>\n",
       "    <tr>\n",
       "      <th>min</th>\n",
       "      <td>0.000000</td>\n",
       "      <td>0.000000</td>\n",
       "      <td>0.000000</td>\n",
       "      <td>18.000000</td>\n",
       "      <td>0.000000</td>\n",
       "      <td>0.000000</td>\n",
       "      <td>0.000000</td>\n",
       "      <td>20.000000</td>\n",
       "    </tr>\n",
       "    <tr>\n",
       "      <th>25%</th>\n",
       "      <td>255.470000</td>\n",
       "      <td>39.000000</td>\n",
       "      <td>12.000000</td>\n",
       "      <td>29.000000</td>\n",
       "      <td>0.000000</td>\n",
       "      <td>0.000000</td>\n",
       "      <td>0.000000</td>\n",
       "      <td>20.000000</td>\n",
       "    </tr>\n",
       "    <tr>\n",
       "      <th>50%</th>\n",
       "      <td>401.760000</td>\n",
       "      <td>60.000000</td>\n",
       "      <td>17.000000</td>\n",
       "      <td>45.000000</td>\n",
       "      <td>0.000000</td>\n",
       "      <td>10.000000</td>\n",
       "      <td>2.000000</td>\n",
       "      <td>40.000000</td>\n",
       "    </tr>\n",
       "    <tr>\n",
       "      <th>75%</th>\n",
       "      <td>543.680000</td>\n",
       "      <td>79.000000</td>\n",
       "      <td>21.000000</td>\n",
       "      <td>59.000000</td>\n",
       "      <td>43.680000</td>\n",
       "      <td>29.000000</td>\n",
       "      <td>6.000000</td>\n",
       "      <td>80.000000</td>\n",
       "    </tr>\n",
       "    <tr>\n",
       "      <th>max</th>\n",
       "      <td>1431.220000</td>\n",
       "      <td>205.000000</td>\n",
       "      <td>70.000000</td>\n",
       "      <td>75.000000</td>\n",
       "      <td>931.220000</td>\n",
       "      <td>155.000000</td>\n",
       "      <td>55.000000</td>\n",
       "      <td>589.177200</td>\n",
       "    </tr>\n",
       "  </tbody>\n",
       "</table>\n",
       "</div>"
      ],
      "text/plain": [
       "       total_minutes  total_messages     total_gb          age  minutes_extra  \\\n",
       "count    1573.000000     1573.000000  1573.000000  1573.000000    1573.000000   \n",
       "mean      404.762390       59.811825    16.670693    44.379530      48.823598   \n",
       "std       221.664397       32.017989     7.847522    16.646535     110.068281   \n",
       "min         0.000000        0.000000     0.000000    18.000000       0.000000   \n",
       "25%       255.470000       39.000000    12.000000    29.000000       0.000000   \n",
       "50%       401.760000       60.000000    17.000000    45.000000       0.000000   \n",
       "75%       543.680000       79.000000    21.000000    59.000000      43.680000   \n",
       "max      1431.220000      205.000000    70.000000    75.000000     931.220000   \n",
       "\n",
       "       messages_extra     gb_extra  total_income  \n",
       "count     1573.000000  1573.000000   1573.000000  \n",
       "mean        17.996821     3.865226     60.414772  \n",
       "std         23.116573     5.445627     55.417998  \n",
       "min          0.000000     0.000000     20.000000  \n",
       "25%          0.000000     0.000000     20.000000  \n",
       "50%         10.000000     2.000000     40.000000  \n",
       "75%         29.000000     6.000000     80.000000  \n",
       "max        155.000000    55.000000    589.177200  "
      ]
     },
     "execution_count": 62,
     "metadata": {},
     "output_type": "execute_result"
    }
   ],
   "source": [
    "df_surf.describe()"
   ]
  },
  {
   "cell_type": "code",
   "execution_count": 63,
   "id": "25238249",
   "metadata": {},
   "outputs": [
    {
     "data": {
      "text/html": [
       "<div>\n",
       "<style scoped>\n",
       "    .dataframe tbody tr th:only-of-type {\n",
       "        vertical-align: middle;\n",
       "    }\n",
       "\n",
       "    .dataframe tbody tr th {\n",
       "        vertical-align: top;\n",
       "    }\n",
       "\n",
       "    .dataframe thead th {\n",
       "        text-align: right;\n",
       "    }\n",
       "</style>\n",
       "<table border=\"1\" class=\"dataframe\">\n",
       "  <thead>\n",
       "    <tr style=\"text-align: right;\">\n",
       "      <th></th>\n",
       "      <th>total_minutes</th>\n",
       "      <th>total_messages</th>\n",
       "      <th>total_gb</th>\n",
       "      <th>age</th>\n",
       "      <th>minutes_extra</th>\n",
       "      <th>messages_extra</th>\n",
       "      <th>gb_extra</th>\n",
       "      <th>total_income</th>\n",
       "    </tr>\n",
       "  </thead>\n",
       "  <tbody>\n",
       "    <tr>\n",
       "      <th>count</th>\n",
       "      <td>719.000000</td>\n",
       "      <td>719.000000</td>\n",
       "      <td>719.000000</td>\n",
       "      <td>719.000000</td>\n",
       "      <td>719.0</td>\n",
       "      <td>719.0</td>\n",
       "      <td>719.000000</td>\n",
       "      <td>719.000000</td>\n",
       "    </tr>\n",
       "    <tr>\n",
       "      <th>mean</th>\n",
       "      <td>406.758025</td>\n",
       "      <td>60.710709</td>\n",
       "      <td>17.331015</td>\n",
       "      <td>47.688456</td>\n",
       "      <td>0.0</td>\n",
       "      <td>0.0</td>\n",
       "      <td>0.331015</td>\n",
       "      <td>72.317107</td>\n",
       "    </tr>\n",
       "    <tr>\n",
       "      <th>std</th>\n",
       "      <td>226.898171</td>\n",
       "      <td>33.188997</td>\n",
       "      <td>7.648185</td>\n",
       "      <td>16.795187</td>\n",
       "      <td>0.0</td>\n",
       "      <td>0.0</td>\n",
       "      <td>1.628959</td>\n",
       "      <td>11.402713</td>\n",
       "    </tr>\n",
       "    <tr>\n",
       "      <th>min</th>\n",
       "      <td>0.000000</td>\n",
       "      <td>0.000000</td>\n",
       "      <td>1.000000</td>\n",
       "      <td>18.000000</td>\n",
       "      <td>0.0</td>\n",
       "      <td>0.0</td>\n",
       "      <td>0.000000</td>\n",
       "      <td>70.000000</td>\n",
       "    </tr>\n",
       "    <tr>\n",
       "      <th>25%</th>\n",
       "      <td>246.680000</td>\n",
       "      <td>36.000000</td>\n",
       "      <td>13.000000</td>\n",
       "      <td>34.000000</td>\n",
       "      <td>0.0</td>\n",
       "      <td>0.0</td>\n",
       "      <td>0.000000</td>\n",
       "      <td>70.000000</td>\n",
       "    </tr>\n",
       "    <tr>\n",
       "      <th>50%</th>\n",
       "      <td>398.600000</td>\n",
       "      <td>61.000000</td>\n",
       "      <td>17.000000</td>\n",
       "      <td>48.000000</td>\n",
       "      <td>0.0</td>\n",
       "      <td>0.0</td>\n",
       "      <td>0.000000</td>\n",
       "      <td>70.000000</td>\n",
       "    </tr>\n",
       "    <tr>\n",
       "      <th>75%</th>\n",
       "      <td>532.665000</td>\n",
       "      <td>80.000000</td>\n",
       "      <td>21.000000</td>\n",
       "      <td>64.000000</td>\n",
       "      <td>0.0</td>\n",
       "      <td>0.0</td>\n",
       "      <td>0.000000</td>\n",
       "      <td>70.000000</td>\n",
       "    </tr>\n",
       "    <tr>\n",
       "      <th>max</th>\n",
       "      <td>1292.090000</td>\n",
       "      <td>191.000000</td>\n",
       "      <td>46.000000</td>\n",
       "      <td>75.000000</td>\n",
       "      <td>0.0</td>\n",
       "      <td>0.0</td>\n",
       "      <td>16.000000</td>\n",
       "      <td>182.000000</td>\n",
       "    </tr>\n",
       "  </tbody>\n",
       "</table>\n",
       "</div>"
      ],
      "text/plain": [
       "       total_minutes  total_messages    total_gb         age  minutes_extra  \\\n",
       "count     719.000000      719.000000  719.000000  719.000000          719.0   \n",
       "mean      406.758025       60.710709   17.331015   47.688456            0.0   \n",
       "std       226.898171       33.188997    7.648185   16.795187            0.0   \n",
       "min         0.000000        0.000000    1.000000   18.000000            0.0   \n",
       "25%       246.680000       36.000000   13.000000   34.000000            0.0   \n",
       "50%       398.600000       61.000000   17.000000   48.000000            0.0   \n",
       "75%       532.665000       80.000000   21.000000   64.000000            0.0   \n",
       "max      1292.090000      191.000000   46.000000   75.000000            0.0   \n",
       "\n",
       "       messages_extra    gb_extra  total_income  \n",
       "count           719.0  719.000000    719.000000  \n",
       "mean              0.0    0.331015     72.317107  \n",
       "std               0.0    1.628959     11.402713  \n",
       "min               0.0    0.000000     70.000000  \n",
       "25%               0.0    0.000000     70.000000  \n",
       "50%               0.0    0.000000     70.000000  \n",
       "75%               0.0    0.000000     70.000000  \n",
       "max               0.0   16.000000    182.000000  "
      ]
     },
     "execution_count": 63,
     "metadata": {},
     "output_type": "execute_result"
    }
   ],
   "source": [
    "df_ultimate.describe()"
   ]
  },
  {
   "cell_type": "markdown",
   "id": "47f20601",
   "metadata": {},
   "source": [
    "Para obtener la varianza, utilizaremos el método var de numpy"
   ]
  },
  {
   "cell_type": "code",
   "execution_count": 64,
   "id": "597c322f",
   "metadata": {},
   "outputs": [
    {
     "data": {
      "text/plain": [
       "total_minutes     49103.868333\n",
       "total_messages     1024.499873\n",
       "total_gb             61.544449\n",
       "age                 276.930973\n",
       "minutes_extra     12107.324559\n",
       "messages_extra      534.036226\n",
       "gb_extra             29.636000\n",
       "total_income       3069.202124\n",
       "dtype: float64"
      ]
     },
     "execution_count": 64,
     "metadata": {},
     "output_type": "execute_result"
    }
   ],
   "source": [
    "surf_var = np.var(df_surf)\n",
    "surf_var"
   ]
  },
  {
   "cell_type": "code",
   "execution_count": 65,
   "id": "9ef3d9ec",
   "metadata": {
    "scrolled": true
   },
   "outputs": [
    {
     "data": {
      "text/plain": [
       "total_minutes     51411.176831\n",
       "total_messages     1099.977507\n",
       "total_gb             58.413377\n",
       "age                 281.685972\n",
       "minutes_extra         0.000000\n",
       "messages_extra        0.000000\n",
       "gb_extra              2.649817\n",
       "total_income        129.841029\n",
       "dtype: float64"
      ]
     },
     "execution_count": 65,
     "metadata": {},
     "output_type": "execute_result"
    }
   ],
   "source": [
    "ultimate_var = np.var(df_ultimate)\n",
    "ultimate_var"
   ]
  },
  {
   "cell_type": "markdown",
   "id": "357693f4",
   "metadata": {},
   "source": [
    "# 5.4 Conclusiones\n",
    "\n",
    "En el plan ultimate podemos ver que solo el 2% de todos los usuarios del plan se quedan cortos con la cantidad de GB al mes que este les ofrece. Estos usuarios requieren un mayor volumen de datos al mes. Respecto a los minutos y mensajes, el plan si cubre los requerimientos de los clientes.\n",
    "\n",
    "En el plan surf, vemos que el 17% del total de usuarios, adicional a la tarifa del plan, deben pagar un monto extra por consumo adicional de minutos, mensajes y GB. Cuando lo vemos en dinero, muchos de estos usuarios pagan incluso más de lo que pagarían por el plan ultimate, que incluye muchos más minutos mensajes y GB. Estos usuarios tienen un mayor requirimiento de minutos, mensajes y GB, por lo que sería una buena idea cambiarse al plan ultimate.\n",
    "\n",
    "También es importante destacar que, en la muestra seleccionada, hay una mayor cantidad de clientes que usan el plan surf, más del doble de los que usan el plan últimate."
   ]
  },
  {
   "cell_type": "markdown",
   "id": "38edd549",
   "metadata": {},
   "source": [
    "[Volver a Contenidos](#back)"
   ]
  },
  {
   "cell_type": "markdown",
   "id": "330906af",
   "metadata": {},
   "source": [
    "# Etapa 6. Prueba de hipótesis\n",
    "Probaremos dos hipótesis:\n",
    "- El ingreso adicional promedio de los usuarios de las tarifas Ultimate y Surf difiere.\n",
    "- El ingreso adicional promedio de los usuarios en el área de estados Nueva York-Nueva Jersey es diferente al de los usuarios de otras regiones.\n",
    "\n",
    "## Hipótesis 1.\n",
    "\n",
    "La hipótesis nula es que el ingreso promedio de los usuarios de las tarifas ultimate y surf no son iguales. Por lo tanto, la hipótesis alternativa es que el ingreso promedio de los usuarios de las tarifas ultimate y surf es igual.\n",
    "\n",
    "Formulamos la hipótesis nula y alternativa estructurándolas como hipótesis sobre la igualdad de las medias de dos poblaciones, ya que lo que buscamos hacer es comparar las medias de dos poblaciones estadísticas diferentes. Lo que buscamos estudiar es si la diferencia entre las medias es significativa o no, para decidir si rechazar o no la hipótesis nula.\n",
    "\n",
    "Utilizaremos el método scipy.stats.ttest_ind(array1, array2, equal_var), estableciendo el parámetro equal_var en False, ya que las varianzas de las tablas no son iguales."
   ]
  },
  {
   "cell_type": "markdown",
   "id": "38000dfb",
   "metadata": {},
   "source": [
    "$$H_0:\\mu_{ult}=\\mu_{surf}$$\n",
    "$$H_1:\\mu_{ult}\\neq\\mu_{surf}$$"
   ]
  },
  {
   "cell_type": "code",
   "execution_count": 66,
   "id": "e6beaf1e",
   "metadata": {},
   "outputs": [
    {
     "name": "stdout",
     "output_type": "stream",
     "text": [
      "Ingresos medios del plan surf: 60.4147715193897\n",
      "Ingresos medios del plan ultimate: 72.31710709318497\n",
      "p-value: 6.693527092510372e-16\n",
      "Rechazamos la hipótesis nula\n"
     ]
    }
   ],
   "source": [
    "surf_income = df_surf['total_income']\n",
    "ultimate_income = df_ultimate['total_income']\n",
    "\n",
    "print('Ingresos medios del plan surf:', pd.Series(surf_income).mean())\n",
    "print('Ingresos medios del plan ultimate:', pd.Series(ultimate_income).mean())\n",
    "\n",
    "alpha = 0.05\n",
    "\n",
    "results = st.ttest_ind(surf_income, ultimate_income, equal_var = False)\n",
    "\n",
    "print('p-value:', results.pvalue)\n",
    "\n",
    "if results.pvalue < alpha:\n",
    "    print(\"Rechazamos la hipótesis nula\")\n",
    "else:\n",
    "    print(\"No rechazamos la hipótesis nula\")"
   ]
  },
  {
   "cell_type": "markdown",
   "id": "c8deca0a",
   "metadata": {},
   "source": [
    "Vemos en el resultado de la prueba de hipótesis que el p-value es menor que alpha, por lo que rechazamos la hipótesis nula. Podemos concluir que los ingresos medios de cada plan no son iguales."
   ]
  },
  {
   "cell_type": "markdown",
   "id": "4006600c",
   "metadata": {},
   "source": [
    "## Hipótesis 2."
   ]
  },
  {
   "cell_type": "markdown",
   "id": "d21b3f3f",
   "metadata": {},
   "source": [
    "En la segúnda hipótesis, queremos ver si el ingreso promedio de los usuarios en el área de estados Nueva York-Nueva Jersey es diferente al de los usuarios de otras regiones. La hipótesis nula es que el ingreso promedio de los usuarios en el área de estados Nueva York-Nueva Jersey y el de los usuarios de otras regiones son iguales. Por lo tanto, la hipótesis alternativa es que el ingreso promedio de los usuarios en el área de estados Nueva York-Nueva Jersey y el de los usuarios de otras regiones no es igual.\n",
    "\n",
    "Al igual que en la hipótesis anterior, esta segunda hipótesis nula y alternativa son hipótesis sobre la igualdad de las medias de dos poblaciones,ya que también buscamos estudiar es si la diferencia entre las medias de cada región es significativa o no, para decidir si rechazar o no la hipótesis nula.\n",
    "\n",
    "Utilizaremos de nuevo el método scipy.stats.ttest_ind(array1, array2, equal_var), estableciendo el parámetro equal_var en False, ya que las varianzas de las tablas no son iguales."
   ]
  },
  {
   "cell_type": "code",
   "execution_count": 67,
   "id": "d943456a",
   "metadata": {},
   "outputs": [
    {
     "name": "stdout",
     "output_type": "stream",
     "text": [
      "Ingresos medios adicionales el área de estados Nueva York-Nueva Jersey: 59.742751063829786\n",
      "Ingresos medios adicionales otras regiones: 65.01313215031315\n",
      "p-value: 0.035071202577512055\n",
      "Rechazamos la hipótesis nula\n"
     ]
    }
   ],
   "source": [
    "# El ingreso promedio de los usuarios en el área de estados Nueva York-Nueva Jersey es diferente al de los usuarios de otras regiones.\n",
    "\n",
    "df_ny_nj_income = df.query('city == \"New York-Newark-Jersey City, NY-NJ-PA MSA\" and total_income > 0')\n",
    "df_others_income = df.query('city != \"New York-Newark-Jersey City, NY-NJ-PA MSA\" and total_income > 0')\n",
    "\n",
    "ny_nj_income = df_ny_nj_income['total_income']\n",
    "others_income = df_others_income['total_income']\n",
    "\n",
    "print('Ingresos medios adicionales el área de estados Nueva York-Nueva Jersey:', pd.Series(ny_nj_income).mean())\n",
    "print('Ingresos medios adicionales otras regiones:', pd.Series(others_income).mean())\n",
    "\n",
    "alpha = 0.05\n",
    "\n",
    "results = st.ttest_ind(ny_nj_income, others_income, equal_var = False)\n",
    "\n",
    "print('p-value:', results.pvalue)\n",
    "\n",
    "if results.pvalue < alpha:\n",
    "    print(\"Rechazamos la hipótesis nula\")\n",
    "else:\n",
    "    print(\"No rechazamos la hipótesis nula\")"
   ]
  },
  {
   "cell_type": "markdown",
   "id": "bb85e6f3",
   "metadata": {},
   "source": [
    "Observamos que el p-valor es menor a alpha, por lo que rechazamos la hipótesis nula. Podemos concluir que los ingresos medios de cada región no son iguales."
   ]
  },
  {
   "cell_type": "markdown",
   "id": "439c5c9c",
   "metadata": {},
   "source": [
    "[Volver a Contenidos](#back)"
   ]
  },
  {
   "cell_type": "markdown",
   "id": "30f0e149",
   "metadata": {},
   "source": [
    "# Etapa 7. Conclusión General"
   ]
  },
  {
   "cell_type": "markdown",
   "id": "f55e2384",
   "metadata": {},
   "source": [
    "Según el estudio realizado, podemos concluir:\n",
    "- Un porcentaje importante de los usuarios del plan surf tienen requerimientos mayores de minutos, mensajes y datos\n",
    "- Un porcentaje menor de los usuarios del plan ultimate tienen requerimientos mayores de datos\n",
    "- Los ingresos adicionales promedio de los planes surf y últimate difieren pero en una proporción no significativa\n",
    "- Los ingresos adicionales promedio del área de Nueva York y Nueva Jersey difieren de los de el resto de las regiones pero en una proporción no significativa\n",
    "- El consumo de minutos, mensajes y datos tiene una clara tendencia al alza\n",
    "- Hay más usuarios del plan surf que del plan ultimate\n",
    "\n",
    "Una de las intenciones de este estudio, es determinar cuál de los planes genera más ingresos para que el departamento comercial pueda ajustar su presupuesto de publicidad. En ese setido, el plan surf genera mayores ingresos totales, pero el plan ultimate genera ingresos promedio mayores gracias a su tarifa base más alta. En vista de la información analizada, hacemos las siguientes sugerencias, considerando ofrecer una mejor experiencia de usuario y atraer nuevos clientes:\n",
    "\n",
    "- Promocionar más el plan ultimate, para atraer nueva clientela, ya que es el plan que, en promedio, genera mayores ingresos.\n",
    "- Proponemos ofrecer a los usuarios del plan surf que exceden mensualmente su cupo de minutos, mensajes y datos cambiarse al plan ultimate, ya que de esa forma no necesitarán hacer pagos adicionales por el exceso de consumo.\n",
    "- De igual forma, y en vista de que pudimos apreciar en nuestra muestra una clara tendencia al alza en el consumo de minutos, mensajes y datos, proponemos crear nuevos planes que se adapten a los requerimientos de los clientes. Aquí algunos ejemplos:\n",
    "    - Un plan con más GB\n",
    "    - Un plan con la opción de navegación por internet o redes sociales ilimitadas.\n",
    "    - Un plan con minutos ilimitados.\n",
    "    - Un plan con minutos y datos ilimitados.\n",
    "    \n",
    "Esperamos que los resultados obtenidos sean de utilidad para mejorar tanto las ventas como el servicio y la experiencia del cliente"
   ]
  }
 ],
 "metadata": {
  "kernelspec": {
   "display_name": "Python 3 (ipykernel)",
   "language": "python",
   "name": "python3"
  },
  "language_info": {
   "codemirror_mode": {
    "name": "ipython",
    "version": 3
   },
   "file_extension": ".py",
   "mimetype": "text/x-python",
   "name": "python",
   "nbconvert_exporter": "python",
   "pygments_lexer": "ipython3",
   "version": "3.9.13"
  }
 },
 "nbformat": 4,
 "nbformat_minor": 5
}
